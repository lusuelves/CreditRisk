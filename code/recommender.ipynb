{
 "cells": [
  {
   "cell_type": "code",
   "execution_count": 1,
   "metadata": {},
   "outputs": [],
   "source": [
    "import pandas as pd\n",
    "import numpy as np\n",
    "from sklearn.linear_model import LogisticRegression\n",
    "from sklearn.ensemble import RandomForestClassifier\n",
    "from scipy.spatial.distance import pdist, squareform\n",
    "import matplotlib.pyplot as plt\n",
    "%matplotlib inline"
   ]
  },
  {
   "cell_type": "code",
   "execution_count": 2,
   "metadata": {},
   "outputs": [],
   "source": [
    "data = pd.read_csv('../data/hmeq_clean.csv',index_col=0)\n",
    "X = data.drop(columns=['BAD'])\n",
    "y = data['BAD']"
   ]
  },
  {
   "cell_type": "markdown",
   "metadata": {},
   "source": [
    "I am going to test the recommendations with both models, Random Forest and Logistic Regression"
   ]
  },
  {
   "cell_type": "code",
   "execution_count": 3,
   "metadata": {},
   "outputs": [
    {
     "data": {
      "text/plain": [
       "RandomForestClassifier(bootstrap=True, class_weight=None, criterion='gini',\n",
       "            max_depth=None, max_features='auto', max_leaf_nodes=None,\n",
       "            min_impurity_decrease=0.0, min_impurity_split=None,\n",
       "            min_samples_leaf=1, min_samples_split=2,\n",
       "            min_weight_fraction_leaf=0.0, n_estimators=200, n_jobs=None,\n",
       "            oob_score=False, random_state=None, verbose=0,\n",
       "            warm_start=False)"
      ]
     },
     "execution_count": 3,
     "metadata": {},
     "output_type": "execute_result"
    }
   ],
   "source": [
    "model_rf = RandomForestClassifier(n_estimators=200)\n",
    "model_rf.fit(X, y)"
   ]
  },
  {
   "cell_type": "code",
   "execution_count": 4,
   "metadata": {},
   "outputs": [
    {
     "name": "stderr",
     "output_type": "stream",
     "text": [
      "/Users/luciasuelves/opt/anaconda3/lib/python3.7/site-packages/sklearn/linear_model/logistic.py:433: FutureWarning: Default solver will be changed to 'lbfgs' in 0.22. Specify a solver to silence this warning.\n",
      "  FutureWarning)\n"
     ]
    },
    {
     "data": {
      "text/plain": [
       "LogisticRegression(C=1.0, class_weight=None, dual=False, fit_intercept=True,\n",
       "          intercept_scaling=1, max_iter=100, multi_class='warn',\n",
       "          n_jobs=None, penalty='l2', random_state=None, solver='warn',\n",
       "          tol=0.0001, verbose=0, warm_start=False)"
      ]
     },
     "execution_count": 4,
     "metadata": {},
     "output_type": "execute_result"
    }
   ],
   "source": [
    "model_lr = LogisticRegression()\n",
    "model_lr.fit(X,y)"
   ]
  },
  {
   "cell_type": "code",
   "execution_count": 137,
   "metadata": {},
   "outputs": [],
   "source": [
    "tom = pd.Series({'LOAN': 100000,\n",
    " 'MORTDUE': 47000,\n",
    " 'VALUE': 20000,\n",
    " 'YOJ': 2.0,\n",
    " 'DEROG': 0,\n",
    " 'DELINQ': 0,\n",
    " 'CLAGE': 50,\n",
    " 'CLNO': 10,\n",
    " 'DEBTINC': 50,\n",
    " 'NINQ': 0,\n",
    " 'REASON_DebtCon':1,\n",
    " 'REASON_HomeImp':0,\n",
    " 'JOB_Mgr':0,\n",
    " 'JOB_Office':0,\n",
    " 'JOB_Other':0,\n",
    " 'JOB_ProfExe':0,\n",
    " 'JOB_Sales':0,\n",
    " 'JOB_Self':1})"
   ]
  },
  {
   "cell_type": "code",
   "execution_count": 6,
   "metadata": {
    "scrolled": true
   },
   "outputs": [
    {
     "data": {
      "text/plain": [
       "1"
      ]
     },
     "execution_count": 6,
     "metadata": {},
     "output_type": "execute_result"
    }
   ],
   "source": [
    "model_rf.predict(pd.DataFrame(tom).T)[0]"
   ]
  },
  {
   "cell_type": "code",
   "execution_count": 7,
   "metadata": {},
   "outputs": [
    {
     "data": {
      "text/plain": [
       "1"
      ]
     },
     "execution_count": 7,
     "metadata": {},
     "output_type": "execute_result"
    }
   ],
   "source": [
    "model_lr.predict(pd.DataFrame(tom).T)[0]"
   ]
  },
  {
   "cell_type": "markdown",
   "metadata": {},
   "source": [
    "Tom does not pass either test"
   ]
  },
  {
   "cell_type": "markdown",
   "metadata": {},
   "source": [
    "# Recommendation system"
   ]
  },
  {
   "cell_type": "code",
   "execution_count": 8,
   "metadata": {},
   "outputs": [
    {
     "name": "stderr",
     "output_type": "stream",
     "text": [
      "/Users/luciasuelves/opt/anaconda3/lib/python3.7/site-packages/pandas/core/frame.py:3930: SettingWithCopyWarning: \n",
      "A value is trying to be set on a copy of a slice from a DataFrame\n",
      "\n",
      "See the caveats in the documentation: http://pandas.pydata.org/pandas-docs/stable/indexing.html#indexing-view-versus-copy\n",
      "  errors=errors)\n"
     ]
    }
   ],
   "source": [
    "data_pos = data.loc[data['BAD']==0]\n",
    "data_pos.drop(columns=['BAD'],inplace=True)\n",
    "data_pos = data_pos.T"
   ]
  },
  {
   "cell_type": "code",
   "execution_count": 9,
   "metadata": {},
   "outputs": [],
   "source": [
    "# I include Tom in the positive database\n",
    "data_pos['TOM'] = tom"
   ]
  },
  {
   "cell_type": "code",
   "execution_count": 10,
   "metadata": {},
   "outputs": [
    {
     "data": {
      "text/html": [
       "<div>\n",
       "<style scoped>\n",
       "    .dataframe tbody tr th:only-of-type {\n",
       "        vertical-align: middle;\n",
       "    }\n",
       "\n",
       "    .dataframe tbody tr th {\n",
       "        vertical-align: top;\n",
       "    }\n",
       "\n",
       "    .dataframe thead th {\n",
       "        text-align: right;\n",
       "    }\n",
       "</style>\n",
       "<table border=\"1\" class=\"dataframe\">\n",
       "  <thead>\n",
       "    <tr style=\"text-align: right;\">\n",
       "      <th></th>\n",
       "      <th>TOM</th>\n",
       "    </tr>\n",
       "  </thead>\n",
       "  <tbody>\n",
       "    <tr>\n",
       "      <th>5870</th>\n",
       "      <td>0.000016</td>\n",
       "    </tr>\n",
       "    <tr>\n",
       "      <th>5814</th>\n",
       "      <td>0.000016</td>\n",
       "    </tr>\n",
       "    <tr>\n",
       "      <th>5878</th>\n",
       "      <td>0.000016</td>\n",
       "    </tr>\n",
       "    <tr>\n",
       "      <th>5894</th>\n",
       "      <td>0.000016</td>\n",
       "    </tr>\n",
       "    <tr>\n",
       "      <th>5899</th>\n",
       "      <td>0.000016</td>\n",
       "    </tr>\n",
       "  </tbody>\n",
       "</table>\n",
       "</div>"
      ],
      "text/plain": [
       "           TOM\n",
       "5870  0.000016\n",
       "5814  0.000016\n",
       "5878  0.000016\n",
       "5894  0.000016\n",
       "5899  0.000016"
      ]
     },
     "execution_count": 10,
     "metadata": {},
     "output_type": "execute_result"
    }
   ],
   "source": [
    "distances = pd.DataFrame(1/(1 + squareform(pdist(data_pos.T, 'euclidean'))), \n",
    "                         index=data_pos.columns, columns=data_pos.columns)\n",
    "\n",
    "similarities = distances['TOM'].sort_values(ascending=False)[1:]\n",
    "\n",
    "similars = pd.DataFrame(similarities)\n",
    "similars[:5]"
   ]
  },
  {
   "cell_type": "code",
   "execution_count": 11,
   "metadata": {},
   "outputs": [
    {
     "data": {
      "text/html": [
       "<div>\n",
       "<style scoped>\n",
       "    .dataframe tbody tr th:only-of-type {\n",
       "        vertical-align: middle;\n",
       "    }\n",
       "\n",
       "    .dataframe tbody tr th {\n",
       "        vertical-align: top;\n",
       "    }\n",
       "\n",
       "    .dataframe thead th {\n",
       "        text-align: right;\n",
       "    }\n",
       "</style>\n",
       "<table border=\"1\" class=\"dataframe\">\n",
       "  <thead>\n",
       "    <tr style=\"text-align: right;\">\n",
       "      <th></th>\n",
       "      <th>TOM</th>\n",
       "      <th>5870</th>\n",
       "    </tr>\n",
       "  </thead>\n",
       "  <tbody>\n",
       "    <tr>\n",
       "      <th>LOAN</th>\n",
       "      <td>100000.0</td>\n",
       "      <td>52900.000000</td>\n",
       "    </tr>\n",
       "    <tr>\n",
       "      <th>MORTDUE</th>\n",
       "      <td>47000.0</td>\n",
       "      <td>48825.000000</td>\n",
       "    </tr>\n",
       "    <tr>\n",
       "      <th>VALUE</th>\n",
       "      <td>20000.0</td>\n",
       "      <td>59418.000000</td>\n",
       "    </tr>\n",
       "    <tr>\n",
       "      <th>YOJ</th>\n",
       "      <td>2.0</td>\n",
       "      <td>13.000000</td>\n",
       "    </tr>\n",
       "    <tr>\n",
       "      <th>DEROG</th>\n",
       "      <td>0.0</td>\n",
       "      <td>0.000000</td>\n",
       "    </tr>\n",
       "    <tr>\n",
       "      <th>DELINQ</th>\n",
       "      <td>0.0</td>\n",
       "      <td>0.000000</td>\n",
       "    </tr>\n",
       "    <tr>\n",
       "      <th>CLAGE</th>\n",
       "      <td>50.0</td>\n",
       "      <td>102.338683</td>\n",
       "    </tr>\n",
       "    <tr>\n",
       "      <th>NINQ</th>\n",
       "      <td>0.0</td>\n",
       "      <td>1.000000</td>\n",
       "    </tr>\n",
       "    <tr>\n",
       "      <th>CLNO</th>\n",
       "      <td>10.0</td>\n",
       "      <td>25.000000</td>\n",
       "    </tr>\n",
       "    <tr>\n",
       "      <th>DEBTINC</th>\n",
       "      <td>50.0</td>\n",
       "      <td>38.751995</td>\n",
       "    </tr>\n",
       "    <tr>\n",
       "      <th>REASON_DebtCon</th>\n",
       "      <td>1.0</td>\n",
       "      <td>1.000000</td>\n",
       "    </tr>\n",
       "    <tr>\n",
       "      <th>REASON_HomeImp</th>\n",
       "      <td>0.0</td>\n",
       "      <td>0.000000</td>\n",
       "    </tr>\n",
       "    <tr>\n",
       "      <th>JOB_Mgr</th>\n",
       "      <td>0.0</td>\n",
       "      <td>0.000000</td>\n",
       "    </tr>\n",
       "    <tr>\n",
       "      <th>JOB_Office</th>\n",
       "      <td>0.0</td>\n",
       "      <td>1.000000</td>\n",
       "    </tr>\n",
       "    <tr>\n",
       "      <th>JOB_Other</th>\n",
       "      <td>0.0</td>\n",
       "      <td>0.000000</td>\n",
       "    </tr>\n",
       "    <tr>\n",
       "      <th>JOB_ProfExe</th>\n",
       "      <td>0.0</td>\n",
       "      <td>0.000000</td>\n",
       "    </tr>\n",
       "    <tr>\n",
       "      <th>JOB_Sales</th>\n",
       "      <td>0.0</td>\n",
       "      <td>0.000000</td>\n",
       "    </tr>\n",
       "    <tr>\n",
       "      <th>JOB_Self</th>\n",
       "      <td>1.0</td>\n",
       "      <td>0.000000</td>\n",
       "    </tr>\n",
       "  </tbody>\n",
       "</table>\n",
       "</div>"
      ],
      "text/plain": [
       "                     TOM          5870\n",
       "LOAN            100000.0  52900.000000\n",
       "MORTDUE          47000.0  48825.000000\n",
       "VALUE            20000.0  59418.000000\n",
       "YOJ                  2.0     13.000000\n",
       "DEROG                0.0      0.000000\n",
       "DELINQ               0.0      0.000000\n",
       "CLAGE               50.0    102.338683\n",
       "NINQ                 0.0      1.000000\n",
       "CLNO                10.0     25.000000\n",
       "DEBTINC             50.0     38.751995\n",
       "REASON_DebtCon       1.0      1.000000\n",
       "REASON_HomeImp       0.0      0.000000\n",
       "JOB_Mgr              0.0      0.000000\n",
       "JOB_Office           0.0      1.000000\n",
       "JOB_Other            0.0      0.000000\n",
       "JOB_ProfExe          0.0      0.000000\n",
       "JOB_Sales            0.0      0.000000\n",
       "JOB_Self             1.0      0.000000"
      ]
     },
     "execution_count": 11,
     "metadata": {},
     "output_type": "execute_result"
    }
   ],
   "source": [
    "data_pos[[\"TOM\",5870]] # Comparing with the most similar person who has paid, but I realise \n",
    "                       # there are some variables such as CLNO which I can not change."
   ]
  },
  {
   "cell_type": "code",
   "execution_count": 13,
   "metadata": {},
   "outputs": [
    {
     "data": {
      "image/png": "[encoded data removed]",
      "text/plain": [
       "<Figure size 432x288 with 1 Axes>"
      ]
     },
     "metadata": {
      "needs_background": "light"
     },
     "output_type": "display_data"
    },
    {
     "data": {
      "image/png": "[encoded data removed]",
      "text/plain": [
       "<Figure size 432x288 with 1 Axes>"
      ]
     },
     "metadata": {
      "needs_background": "light"
     },
     "output_type": "display_data"
    },
    {
     "data": {
      "image/png": "[encoded data removed]",
      "text/plain": [
       "<Figure size 432x288 with 1 Axes>"
      ]
     },
     "metadata": {
      "needs_background": "light"
     },
     "output_type": "display_data"
    },
    {
     "data": {
      "image/png": "[encoded data removed]",
      "text/plain": [
       "<Figure size 432x288 with 1 Axes>"
      ]
     },
     "metadata": {
      "needs_background": "light"
     },
     "output_type": "display_data"
    },
    {
     "data": {
      "image/png": "[encoded data removed]",
      "text/plain": [
       "<Figure size 432x288 with 1 Axes>"
      ]
     },
     "metadata": {
      "needs_background": "light"
     },
     "output_type": "display_data"
    },
    {
     "data": {
      "image/png": "[encoded data removed]",
      "text/plain": [
       "<Figure size 432x288 with 1 Axes>"
      ]
     },
     "metadata": {
      "needs_background": "light"
     },
     "output_type": "display_data"
    },
    {
     "data": {
      "image/png": "[encoded data removed]",
      "text/plain": [
       "<Figure size 432x288 with 1 Axes>"
      ]
     },
     "metadata": {
      "needs_background": "light"
     },
     "output_type": "display_data"
    },
    {
     "data": {
      "image/png": "[encoded data removed]",
      "text/plain": [
       "<Figure size 432x288 with 1 Axes>"
      ]
     },
     "metadata": {
      "needs_background": "light"
     },
     "output_type": "display_data"
    }
   ],
   "source": [
    "data_copy = data.copy()\n",
    "data_copy['SUM_MORT_VAL']=data[['MORTDUE','VALUE']].apply(sum,axis=1)\n",
    "def relationship(col):\n",
    "    x_pos = data_copy[data_copy['BAD']==0][col]\n",
    "    y_pos = x_pos.index\n",
    "    x_neg = data_copy[data_copy['BAD']==1][col]\n",
    "    y_neg = x_neg.index\n",
    "    mean_pos = round(x_pos.mean())\n",
    "    mean_neg = round(x_neg.mean())\n",
    "    plt.figure()\n",
    "    plt.title(col)\n",
    "    plt.scatter(x_pos,y_pos,color='blue')\n",
    "    plt.scatter(x_neg,y_neg,color='red')\n",
    "    plt.legend(('mean_pos: ' + str(mean_pos),'mean_neg: '+str(mean_neg)))\n",
    "\n",
    "variables = ['MORTDUE','VALUE','DEBTINC','CLAGE','CLNO','NINQ','LOAN','SUM_MORT_VAL']\n",
    "[relationship(col) for col in variables];"
   ]
  },
  {
   "cell_type": "markdown",
   "metadata": {},
   "source": [
    "There is so little correlation between pay and not pay and the other variables that there is no guaratee that if I change some of them it will pass the test. So in the while loop I will do after, I am going to trace a line and that line may not ever cut the model's hyperplane, because that line is intuitive. I will see what I can do."
   ]
  },
  {
   "cell_type": "code",
   "execution_count": 14,
   "metadata": {
    "scrolled": false
   },
   "outputs": [
    {
     "data": {
      "text/html": [
       "<div>\n",
       "<style scoped>\n",
       "    .dataframe tbody tr th:only-of-type {\n",
       "        vertical-align: middle;\n",
       "    }\n",
       "\n",
       "    .dataframe tbody tr th {\n",
       "        vertical-align: top;\n",
       "    }\n",
       "\n",
       "    .dataframe thead th {\n",
       "        text-align: right;\n",
       "    }\n",
       "</style>\n",
       "<table border=\"1\" class=\"dataframe\">\n",
       "  <thead>\n",
       "    <tr style=\"text-align: right;\">\n",
       "      <th></th>\n",
       "      <th>LOAN</th>\n",
       "      <th>MORTDUE</th>\n",
       "      <th>VALUE</th>\n",
       "      <th>YOJ</th>\n",
       "      <th>DEROG</th>\n",
       "      <th>DELINQ</th>\n",
       "      <th>CLAGE</th>\n",
       "      <th>NINQ</th>\n",
       "      <th>CLNO</th>\n",
       "      <th>DEBTINC</th>\n",
       "      <th>REASON_DebtCon</th>\n",
       "      <th>REASON_HomeImp</th>\n",
       "      <th>JOB_Mgr</th>\n",
       "      <th>JOB_Office</th>\n",
       "      <th>JOB_Other</th>\n",
       "      <th>JOB_ProfExe</th>\n",
       "      <th>JOB_Sales</th>\n",
       "      <th>JOB_Self</th>\n",
       "    </tr>\n",
       "  </thead>\n",
       "  <tbody>\n",
       "    <tr>\n",
       "      <th>4623</th>\n",
       "      <td>24200.0</td>\n",
       "      <td>90626.0</td>\n",
       "      <td>116601.0</td>\n",
       "      <td>2.0</td>\n",
       "      <td>0.0</td>\n",
       "      <td>0.0</td>\n",
       "      <td>226.116387</td>\n",
       "      <td>1.0</td>\n",
       "      <td>27.0</td>\n",
       "      <td>34.499938</td>\n",
       "      <td>1.0</td>\n",
       "      <td>0.0</td>\n",
       "      <td>0.0</td>\n",
       "      <td>0.0</td>\n",
       "      <td>0.0</td>\n",
       "      <td>0.0</td>\n",
       "      <td>0.0</td>\n",
       "      <td>1.0</td>\n",
       "    </tr>\n",
       "    <tr>\n",
       "      <th>4261</th>\n",
       "      <td>22200.0</td>\n",
       "      <td>93947.0</td>\n",
       "      <td>116176.0</td>\n",
       "      <td>2.0</td>\n",
       "      <td>0.0</td>\n",
       "      <td>0.0</td>\n",
       "      <td>205.029409</td>\n",
       "      <td>2.0</td>\n",
       "      <td>26.0</td>\n",
       "      <td>34.939403</td>\n",
       "      <td>1.0</td>\n",
       "      <td>0.0</td>\n",
       "      <td>0.0</td>\n",
       "      <td>0.0</td>\n",
       "      <td>0.0</td>\n",
       "      <td>0.0</td>\n",
       "      <td>0.0</td>\n",
       "      <td>1.0</td>\n",
       "    </tr>\n",
       "    <tr>\n",
       "      <th>4658</th>\n",
       "      <td>24400.0</td>\n",
       "      <td>95843.0</td>\n",
       "      <td>123377.0</td>\n",
       "      <td>2.0</td>\n",
       "      <td>0.0</td>\n",
       "      <td>0.0</td>\n",
       "      <td>201.976756</td>\n",
       "      <td>1.0</td>\n",
       "      <td>26.0</td>\n",
       "      <td>32.903468</td>\n",
       "      <td>1.0</td>\n",
       "      <td>0.0</td>\n",
       "      <td>0.0</td>\n",
       "      <td>0.0</td>\n",
       "      <td>0.0</td>\n",
       "      <td>0.0</td>\n",
       "      <td>0.0</td>\n",
       "      <td>1.0</td>\n",
       "    </tr>\n",
       "    <tr>\n",
       "      <th>4484</th>\n",
       "      <td>23400.0</td>\n",
       "      <td>97865.0</td>\n",
       "      <td>120172.0</td>\n",
       "      <td>2.0</td>\n",
       "      <td>0.0</td>\n",
       "      <td>0.0</td>\n",
       "      <td>200.575752</td>\n",
       "      <td>1.0</td>\n",
       "      <td>26.0</td>\n",
       "      <td>36.398729</td>\n",
       "      <td>1.0</td>\n",
       "      <td>0.0</td>\n",
       "      <td>0.0</td>\n",
       "      <td>0.0</td>\n",
       "      <td>0.0</td>\n",
       "      <td>0.0</td>\n",
       "      <td>0.0</td>\n",
       "      <td>1.0</td>\n",
       "    </tr>\n",
       "    <tr>\n",
       "      <th>4085</th>\n",
       "      <td>21400.0</td>\n",
       "      <td>88147.0</td>\n",
       "      <td>115000.0</td>\n",
       "      <td>3.0</td>\n",
       "      <td>0.0</td>\n",
       "      <td>0.0</td>\n",
       "      <td>213.233333</td>\n",
       "      <td>2.0</td>\n",
       "      <td>27.0</td>\n",
       "      <td>0.000000</td>\n",
       "      <td>1.0</td>\n",
       "      <td>0.0</td>\n",
       "      <td>0.0</td>\n",
       "      <td>0.0</td>\n",
       "      <td>0.0</td>\n",
       "      <td>0.0</td>\n",
       "      <td>0.0</td>\n",
       "      <td>1.0</td>\n",
       "    </tr>\n",
       "  </tbody>\n",
       "</table>\n",
       "</div>"
      ],
      "text/plain": [
       "         LOAN  MORTDUE     VALUE  YOJ  DEROG  DELINQ       CLAGE  NINQ  CLNO  \\\n",
       "4623  24200.0  90626.0  116601.0  2.0    0.0     0.0  226.116387   1.0  27.0   \n",
       "4261  22200.0  93947.0  116176.0  2.0    0.0     0.0  205.029409   2.0  26.0   \n",
       "4658  24400.0  95843.0  123377.0  2.0    0.0     0.0  201.976756   1.0  26.0   \n",
       "4484  23400.0  97865.0  120172.0  2.0    0.0     0.0  200.575752   1.0  26.0   \n",
       "4085  21400.0  88147.0  115000.0  3.0    0.0     0.0  213.233333   2.0  27.0   \n",
       "\n",
       "        DEBTINC  REASON_DebtCon  REASON_HomeImp  JOB_Mgr  JOB_Office  \\\n",
       "4623  34.499938             1.0             0.0      0.0         0.0   \n",
       "4261  34.939403             1.0             0.0      0.0         0.0   \n",
       "4658  32.903468             1.0             0.0      0.0         0.0   \n",
       "4484  36.398729             1.0             0.0      0.0         0.0   \n",
       "4085   0.000000             1.0             0.0      0.0         0.0   \n",
       "\n",
       "      JOB_Other  JOB_ProfExe  JOB_Sales  JOB_Self  \n",
       "4623        0.0          0.0        0.0       1.0  \n",
       "4261        0.0          0.0        0.0       1.0  \n",
       "4658        0.0          0.0        0.0       1.0  \n",
       "4484        0.0          0.0        0.0       1.0  \n",
       "4085        0.0          0.0        0.0       1.0  "
      ]
     },
     "metadata": {},
     "output_type": "display_data"
    }
   ],
   "source": [
    "# cols = variables I can not change in Tom\n",
    "cols = ['JOB_Self','JOB_Mgr','JOB_Other','JOB_Office','JOB_ProfExe',\n",
    "        'REASON_DebtCon','REASON_HomeImp','DEROG','DELINQ']\n",
    "# bigger = variables that are better to be larger than tom's \n",
    "bigger = ['MORTDUE','CLNO','NINQ']\n",
    "# smaller = variables that are better to be smaller than tom's\n",
    "smaller = ['LOAN','CLAGE','DEBTINC']\n",
    "df_empty = pd.DataFrame({title:[] for title in data_pos.index})\n",
    "for i in similars.index:\n",
    "    if [data_pos[i][col] == tom[col] for col in cols]==[True]*len(cols):\n",
    "        if data_pos[i]['DEBTINC'] <= tom['DEBTINC']:\n",
    "            df_empty = pd.concat([df_empty,pd.DataFrame(data_pos[i]).T])\n",
    "\n",
    "df_empty = df_empty.sort_values(by='YOJ',ascending=True)\n",
    "display(df_empty.head());\n",
    "\n",
    "#Supposing DEBTINC is not changeable and high ratios are better (graphics don't show this)\n"
   ]
  },
  {
   "cell_type": "code",
   "execution_count": 15,
   "metadata": {},
   "outputs": [
    {
     "name": "stdout",
     "output_type": "stream",
     "text": [
      "0\n"
     ]
    },
    {
     "data": {
      "text/plain": [
       "1"
      ]
     },
     "execution_count": 15,
     "metadata": {},
     "output_type": "execute_result"
    }
   ],
   "source": [
    "tom1 = pd.Series({'LOAN': 24200,\n",
    " 'MORTDUE': 90626,\n",
    " 'VALUE': 11700,\n",
    " 'YOJ': 2.0,\n",
    " 'DEROG': 0,\n",
    " 'DELINQ': 0,\n",
    " 'CLAGE': 227,\n",
    " 'CLNO': 26,\n",
    " 'DEBTINC': 35,\n",
    " 'NINQ': 1,\n",
    " 'REASON_DebtCon':1,\n",
    " 'REASON_HomeImp':0,\n",
    " 'JOB_Mgr':0,\n",
    " 'JOB_Office':0,\n",
    " 'JOB_Other':0,\n",
    " 'JOB_ProfExe':0,\n",
    " 'JOB_Sales':0,\n",
    " 'JOB_Self':1})\n",
    "print(model_lr.predict(pd.DataFrame(tom1).T)[0])\n",
    "model_rf.predict(pd.DataFrame(tom1).T)[0]\n",
    "# Works for logistic regression model but not for random forest"
   ]
  },
  {
   "cell_type": "markdown",
   "metadata": {},
   "source": [
    "Now I am going to try to find the intersection between two hyperplanes, one defined by me in the while and the other one of the model, the cut must pass the test, but maybe they don't cut... In that case I say I cant be able to give Tom any tips"
   ]
  },
  {
   "cell_type": "code",
   "execution_count": 16,
   "metadata": {},
   "outputs": [
    {
     "name": "stdout",
     "output_type": "stream",
     "text": [
      "WONT PASS THE TEST\n"
     ]
    },
    {
     "data": {
      "text/plain": [
       "LOAN               1000.0\n",
       "MORTDUE               0.0\n",
       "VALUE             21000.0\n",
       "YOJ                  11.9\n",
       "DEROG                 0.0\n",
       "DELINQ                0.0\n",
       "CLAGE               149.0\n",
       "CLNO                 10.0\n",
       "DEBTINC              50.0\n",
       "NINQ                  0.0\n",
       "REASON_DebtCon        1.0\n",
       "REASON_HomeImp        0.0\n",
       "JOB_Mgr               0.0\n",
       "JOB_Office            0.0\n",
       "JOB_Other             0.0\n",
       "JOB_ProfExe           0.0\n",
       "JOB_Sales             0.0\n",
       "JOB_Self              1.0\n",
       "dtype: float64"
      ]
     },
     "execution_count": 16,
     "metadata": {},
     "output_type": "execute_result"
    }
   ],
   "source": [
    "tom2 = tom.copy()\n",
    "while model_rf.predict(pd.DataFrame(tom2).T)[0] == 1:\n",
    "    if tom2['LOAN'] > 1000:\n",
    "        tom2['LOAN'] -= 1000\n",
    "    else:\n",
    "        print('WONT PASS THE TEST')\n",
    "        break\n",
    "    if tom2['MORTDUE'] > 1000:\n",
    "        tom2['MORTDUE'] -= 1000\n",
    "    else:\n",
    "        tom2['VALUE'] += tom2['MORTDUE']\n",
    "        tom2['MORTDUE'] = 0\n",
    "    tom2['CLAGE'] += 1\n",
    "    tom2['YOJ'] += 0.1\n",
    "tom2"
   ]
  },
  {
   "cell_type": "code",
   "execution_count": 17,
   "metadata": {},
   "outputs": [
    {
     "name": "stdout",
     "output_type": "stream",
     "text": [
      "1\n"
     ]
    },
    {
     "data": {
      "text/plain": [
       "1"
      ]
     },
     "execution_count": 17,
     "metadata": {},
     "output_type": "execute_result"
    }
   ],
   "source": [
    "print(model_rf.predict(pd.DataFrame(tom2).T)[0])\n",
    "model_lr.predict(pd.DataFrame(tom2).T)[0]"
   ]
  },
  {
   "cell_type": "code",
   "execution_count": 18,
   "metadata": {},
   "outputs": [
    {
     "name": "stdout",
     "output_type": "stream",
     "text": [
      "1\n"
     ]
    },
    {
     "data": {
      "text/plain": [
       "1"
      ]
     },
     "execution_count": 18,
     "metadata": {},
     "output_type": "execute_result"
    }
   ],
   "source": [
    "# Won't pass the test\n",
    "tom3 = tom.copy()\n",
    "i = 0\n",
    "while model_rf.predict(pd.DataFrame(tom3).T)[0] == 1 and i < 50:\n",
    "    i+=1\n",
    "    tom3['LOAN'] += 1000\n",
    "    if tom3['MORTDUE'] > 1000:\n",
    "        tom3['MORTDUE'] -= 1000\n",
    "    else:\n",
    "        tom3['VALUE'] += tom3['MORTDUE']\n",
    "        tom3['MORTDUE'] = 0\n",
    "    tom3['CLAGE'] += 1\n",
    "    tom3['YOJ'] += 0.1\n",
    "print(model_rf.predict(pd.DataFrame(tom2).T)[0])\n",
    "model_lr.predict(pd.DataFrame(tom2).T)[0]"
   ]
  },
  {
   "cell_type": "code",
   "execution_count": 54,
   "metadata": {},
   "outputs": [
    {
     "name": "stdout",
     "output_type": "stream",
     "text": [
      "1\n",
      "0\n"
     ]
    },
    {
     "data": {
      "text/plain": [
       "LOAN              100000.0\n",
       "MORTDUE            47000.0\n",
       "VALUE              20000.0\n",
       "YOJ                   32.0\n",
       "DEROG                  0.0\n",
       "DELINQ                 0.0\n",
       "CLAGE                350.0\n",
       "CLNO                  10.0\n",
       "DEBTINC               50.0\n",
       "NINQ                   0.0\n",
       "REASON_DebtCon         1.0\n",
       "REASON_HomeImp         0.0\n",
       "JOB_Mgr                0.0\n",
       "JOB_Office             0.0\n",
       "JOB_Other              0.0\n",
       "JOB_ProfExe            0.0\n",
       "JOB_Sales              0.0\n",
       "JOB_Self               1.0\n",
       "dtype: float64"
      ]
     },
     "execution_count": 54,
     "metadata": {},
     "output_type": "execute_result"
    }
   ],
   "source": [
    "tom4 = tom.copy()\n",
    "# IF you want your entire loan but are willing to wait\n",
    "i = 0\n",
    "while model_rf.predict(pd.DataFrame(tom3).T)[0] == 1 and i < 150:\n",
    "    i+=1\n",
    "    tom4['CLAGE'] += 2 #Two months\n",
    "    tom4['YOJ'] += 0.2\n",
    "print(model_rf.predict(pd.DataFrame(tom4).T)[0])\n",
    "print(model_lr.predict(pd.DataFrame(tom4).T)[0])\n",
    "tom4"
   ]
  },
  {
   "cell_type": "markdown",
   "metadata": {},
   "source": [
    "Now I am going to use a model to predict Loan with the bad variable set to 0 and use the prediction to test the model."
   ]
  },
  {
   "cell_type": "code",
   "execution_count": 58,
   "metadata": {},
   "outputs": [
    {
     "name": "stderr",
     "output_type": "stream",
     "text": [
      "/Users/luciasuelves/opt/anaconda3/lib/python3.7/site-packages/sklearn/linear_model/logistic.py:433: FutureWarning: Default solver will be changed to 'lbfgs' in 0.22. Specify a solver to silence this warning.\n",
      "  FutureWarning)\n",
      "/Users/luciasuelves/opt/anaconda3/lib/python3.7/site-packages/sklearn/linear_model/logistic.py:460: FutureWarning: Default multi_class will be changed to 'auto' in 0.22. Specify the multi_class option to silence this warning.\n",
      "  \"this warning.\", FutureWarning)\n"
     ]
    },
    {
     "data": {
      "text/plain": [
       "LogisticRegression(C=1.0, class_weight=None, dual=False, fit_intercept=True,\n",
       "          intercept_scaling=1, max_iter=100, multi_class='warn',\n",
       "          n_jobs=None, penalty='l2', random_state=None, solver='warn',\n",
       "          tol=0.0001, verbose=0, warm_start=False)"
      ]
     },
     "execution_count": 58,
     "metadata": {},
     "output_type": "execute_result"
    }
   ],
   "source": [
    "model_lr2 = LogisticRegression()\n",
    "model_lr2.fit(data.drop(columns=['LOAN']),data['LOAN'])"
   ]
  },
  {
   "cell_type": "code",
   "execution_count": 55,
   "metadata": {},
   "outputs": [],
   "source": [
    "tom5 = pd.Series({'BAD': 0,\n",
    " 'MORTDUE': 47000,\n",
    " 'VALUE': 200000,\n",
    " 'YOJ': 2.0,\n",
    " 'DEROG': 0,\n",
    " 'DELINQ': 0,\n",
    " 'CLAGE': 200,\n",
    " 'CLNO': 10,\n",
    " 'DEBTINC': 5,\n",
    " 'NINQ': 0,\n",
    " 'REASON_DebtCon':1,\n",
    " 'REASON_HomeImp':0,\n",
    " 'JOB_Mgr':0,\n",
    " 'JOB_Office':0,\n",
    " 'JOB_Other':0,\n",
    " 'JOB_ProfExe':0,\n",
    " 'JOB_Sales':0,\n",
    " 'JOB_Self':1})"
   ]
  },
  {
   "cell_type": "code",
   "execution_count": 56,
   "metadata": {},
   "outputs": [],
   "source": [
    "tom6 = pd.Series({'BAD': 1,\n",
    " 'MORTDUE': 680000,\n",
    " 'VALUE': 50000,\n",
    " 'YOJ': 2.0,\n",
    " 'DEROG': 0,\n",
    " 'DELINQ': 0,\n",
    " 'CLAGE': 50,\n",
    " 'CLNO': 10,\n",
    " 'DEBTINC': 10,\n",
    " 'NINQ': 0,\n",
    " 'REASON_DebtCon':1,\n",
    " 'REASON_HomeImp':0,\n",
    " 'JOB_Mgr':0,\n",
    " 'JOB_Office':0,\n",
    " 'JOB_Other':0,\n",
    " 'JOB_ProfExe':0,\n",
    " 'JOB_Sales':0,\n",
    " 'JOB_Self':1})"
   ]
  },
  {
   "cell_type": "code",
   "execution_count": 61,
   "metadata": {
    "scrolled": true
   },
   "outputs": [
    {
     "data": {
      "text/plain": [
       "77400"
      ]
     },
     "execution_count": 61,
     "metadata": {},
     "output_type": "execute_result"
    }
   ],
   "source": [
    "tom5_prediction = model_lr2.predict(pd.DataFrame(tom).T)[0]\n",
    "tom5_prediction"
   ]
  },
  {
   "cell_type": "code",
   "execution_count": 62,
   "metadata": {},
   "outputs": [],
   "source": [
    "tom5_loan = pd.Series({'LOAN': tom5_prediction,\n",
    " 'MORTDUE': 47000,\n",
    " 'VALUE': 200000,\n",
    " 'YOJ': 2.0,\n",
    " 'DEROG': 0,\n",
    " 'DELINQ': 0,\n",
    " 'CLAGE': 200,\n",
    " 'CLNO': 10,\n",
    " 'DEBTINC': 5,\n",
    " 'NINQ': 0,\n",
    " 'REASON_DebtCon':1,\n",
    " 'REASON_HomeImp':0,\n",
    " 'JOB_Mgr':0,\n",
    " 'JOB_Office':0,\n",
    " 'JOB_Other':0,\n",
    " 'JOB_ProfExe':0,\n",
    " 'JOB_Sales':0,\n",
    " 'JOB_Self':1})"
   ]
  },
  {
   "cell_type": "code",
   "execution_count": 65,
   "metadata": {},
   "outputs": [
    {
     "name": "stdout",
     "output_type": "stream",
     "text": [
      "0\n"
     ]
    },
    {
     "data": {
      "text/plain": [
       "1"
      ]
     },
     "execution_count": 65,
     "metadata": {},
     "output_type": "execute_result"
    }
   ],
   "source": [
    "print(model_lr.predict(pd.DataFrame(tom5_loan).T)[0])\n",
    "model_rf.predict(pd.DataFrame(tom5_loan).T)[0] #Nothing works with random forest :/"
   ]
  },
  {
   "cell_type": "code",
   "execution_count": 66,
   "metadata": {},
   "outputs": [],
   "source": [
    "#BUT THE PREDICTION IS NOT THE MAXIMUM LOAN TOM CAN ASK FOR"
   ]
  },
  {
   "cell_type": "code",
   "execution_count": 69,
   "metadata": {},
   "outputs": [],
   "source": [
    "from sklearn.ensemble import RandomForestRegressor"
   ]
  },
  {
   "cell_type": "code",
   "execution_count": 70,
   "metadata": {},
   "outputs": [
    {
     "name": "stderr",
     "output_type": "stream",
     "text": [
      "/Users/luciasuelves/opt/anaconda3/lib/python3.7/site-packages/sklearn/ensemble/forest.py:246: FutureWarning: The default value of n_estimators will change from 10 in version 0.20 to 100 in 0.22.\n",
      "  \"10 in version 0.20 to 100 in 0.22.\", FutureWarning)\n"
     ]
    },
    {
     "data": {
      "text/plain": [
       "RandomForestRegressor(bootstrap=True, criterion='mse', max_depth=24,\n",
       "           max_features='auto', max_leaf_nodes=None,\n",
       "           min_impurity_decrease=0.0, min_impurity_split=None,\n",
       "           min_samples_leaf=1, min_samples_split=2,\n",
       "           min_weight_fraction_leaf=0.0, n_estimators=10, n_jobs=None,\n",
       "           oob_score=False, random_state=0, verbose=0, warm_start=False)"
      ]
     },
     "execution_count": 70,
     "metadata": {},
     "output_type": "execute_result"
    }
   ],
   "source": [
    "# Try to predict a loan with a different model\n",
    "regr = RandomForestRegressor(max_depth=24, random_state=0)\n",
    "X = data.drop(columns=['LOAN'])\n",
    "y = data['LOAN']\n",
    "regr.fit(X, y)"
   ]
  },
  {
   "cell_type": "code",
   "execution_count": 71,
   "metadata": {},
   "outputs": [
    {
     "name": "stderr",
     "output_type": "stream",
     "text": [
      "/Users/luciasuelves/opt/anaconda3/lib/python3.7/site-packages/sklearn/ensemble/forest.py:246: FutureWarning: The default value of n_estimators will change from 10 in version 0.20 to 100 in 0.22.\n",
      "  \"10 in version 0.20 to 100 in 0.22.\", FutureWarning)\n"
     ]
    },
    {
     "data": {
      "text/plain": [
       "RandomForestRegressor(bootstrap=True, criterion='mse', max_depth=24,\n",
       "           max_features='auto', max_leaf_nodes=None,\n",
       "           min_impurity_decrease=0.0, min_impurity_split=None,\n",
       "           min_samples_leaf=1, min_samples_split=2,\n",
       "           min_weight_fraction_leaf=0.0, n_estimators=10, n_jobs=None,\n",
       "           oob_score=False, random_state=0, verbose=0, warm_start=False)"
      ]
     },
     "execution_count": 71,
     "metadata": {},
     "output_type": "execute_result"
    }
   ],
   "source": [
    "regr_r = RandomForestRegressor(max_depth=24, random_state=0)\n",
    "X = data.drop(columns=['BAD'])\n",
    "y = data['BAD']\n",
    "regr_r.fit(X, y)"
   ]
  },
  {
   "cell_type": "code",
   "execution_count": 74,
   "metadata": {},
   "outputs": [
    {
     "data": {
      "text/plain": [
       "45620.0"
      ]
     },
     "execution_count": 74,
     "metadata": {},
     "output_type": "execute_result"
    }
   ],
   "source": [
    "tom5_loan = regr.predict(pd.DataFrame(tom5).T)[0]\n",
    "tom5_loan"
   ]
  },
  {
   "cell_type": "code",
   "execution_count": 116,
   "metadata": {},
   "outputs": [],
   "source": [
    "tom5_result = pd.Series({'LOAN': tom5_loan,\n",
    " 'MORTDUE': 680000,\n",
    " 'VALUE': 50000,\n",
    " 'YOJ': 2.0,\n",
    " 'DEROG': 0,\n",
    " 'DELINQ': 0,\n",
    " 'CLAGE': 50,\n",
    " 'CLNO': 10,\n",
    " 'DEBTINC': 10,\n",
    " 'NINQ': 0,\n",
    " 'REASON_DebtCon':1,\n",
    " 'REASON_HomeImp':0,\n",
    " 'JOB_Mgr':0,\n",
    " 'JOB_Office':0,\n",
    " 'JOB_Other':0,\n",
    " 'JOB_ProfExe':0,\n",
    " 'JOB_Sales':0,\n",
    " 'JOB_Self':1})"
   ]
  },
  {
   "cell_type": "code",
   "execution_count": 118,
   "metadata": {},
   "outputs": [
    {
     "name": "stdout",
     "output_type": "stream",
     "text": [
      "0.6\n"
     ]
    },
    {
     "data": {
      "text/plain": [
       "0"
      ]
     },
     "execution_count": 118,
     "metadata": {},
     "output_type": "execute_result"
    }
   ],
   "source": [
    "print(regr_r.predict(pd.DataFrame(tom5_result).T)[0]) # RESULT = DOESNT PAY -> WRONG\n",
    "model_lr.predict(pd.DataFrame(tom5_result).T)[0]"
   ]
  },
  {
   "cell_type": "code",
   "execution_count": 151,
   "metadata": {},
   "outputs": [],
   "source": [
    "coefs = model_lr.coef_[0]\n",
    "intercept = model_lr.intercept_[0]"
   ]
  },
  {
   "cell_type": "code",
   "execution_count": 152,
   "metadata": {},
   "outputs": [
    {
     "data": {
      "text/plain": [
       "1"
      ]
     },
     "execution_count": 152,
     "metadata": {},
     "output_type": "execute_result"
    }
   ],
   "source": [
    "model_lr.predict(pd.DataFrame(tom).T)[0]"
   ]
  },
  {
   "cell_type": "code",
   "execution_count": 153,
   "metadata": {},
   "outputs": [],
   "source": [
    "n = coefs\n",
    "#n = np.add(n,tom.values)\n",
    "n /= np.linalg.norm(coefs)"
   ]
  },
  {
   "cell_type": "code",
   "execution_count": 154,
   "metadata": {},
   "outputs": [
    {
     "data": {
      "text/plain": [
       "0.0"
      ]
     },
     "execution_count": 154,
     "metadata": {},
     "output_type": "execute_result"
    }
   ],
   "source": [
    "x = -intercept/n[0]\n",
    "x*n[0]+intercept # A POINT CONTAINED IN THE PLANE"
   ]
  },
  {
   "cell_type": "code",
   "execution_count": 155,
   "metadata": {},
   "outputs": [
    {
     "data": {
      "text/plain": [
       "[93.79142545269667, 0, 0, 0, 0, 0, 0, 0, 0, 0, 0, 0, 0, 0, 0, 0, 0, 0]"
      ]
     },
     "execution_count": 155,
     "metadata": {},
     "output_type": "execute_result"
    }
   ],
   "source": [
    "p0 = [0]*17 \n",
    "p0.insert(0,x)\n",
    "p0 #THIS IS THE POINT IN THE PLANE"
   ]
  },
  {
   "cell_type": "code",
   "execution_count": 156,
   "metadata": {},
   "outputs": [
    {
     "data": {
      "text/plain": [
       "0.0"
      ]
     },
     "execution_count": 156,
     "metadata": {},
     "output_type": "execute_result"
    }
   ],
   "source": [
    "np.dot(p0,n)+intercept # THAT'S WHY THIS IS ZERO"
   ]
  },
  {
   "cell_type": "code",
   "execution_count": 157,
   "metadata": {},
   "outputs": [],
   "source": [
    "p_ = tom.values - p0 #VECTOR FROM POINT TO HYPERPLANE\n",
    "dist_to_plane = np.dot(p_, n)"
   ]
  },
  {
   "cell_type": "code",
   "execution_count": 158,
   "metadata": {},
   "outputs": [
    {
     "data": {
      "text/plain": [
       "12.679751593369065"
      ]
     },
     "execution_count": 158,
     "metadata": {},
     "output_type": "execute_result"
    }
   ],
   "source": [
    "dist_to_plane"
   ]
  },
  {
   "cell_type": "code",
   "execution_count": 159,
   "metadata": {},
   "outputs": [],
   "source": [
    "p_normal = np.dot(p_, n) * n\n",
    "p_tangent = p_ - p_normal"
   ]
  },
  {
   "cell_type": "code",
   "execution_count": 160,
   "metadata": {},
   "outputs": [
    {
     "data": {
      "text/plain": [
       "array([ 1.00000000e+05,  4.70000002e+04,  1.99999994e+04,  1.89643220e+00,\n",
       "       -1.23406955e+00, -2.24816966e+00,  5.08180246e+01,  8.30143959e+00,\n",
       "        4.61200423e+01,  1.16404268e+01,  1.00885281e+00, -1.42995880e-01,\n",
       "       -8.21278620e-02,  1.13523328e-01, -1.64090627e-01,  9.33647489e-02,\n",
       "       -4.88904843e-02,  9.54077823e-01])"
      ]
     },
     "execution_count": 160,
     "metadata": {},
     "output_type": "execute_result"
    }
   ],
   "source": [
    "closest_point = p_tangent + p0\n",
    "closest_point"
   ]
  },
  {
   "cell_type": "code",
   "execution_count": 161,
   "metadata": {},
   "outputs": [
    {
     "data": {
      "text/plain": [
       "LOAN              100000.0\n",
       "MORTDUE            47000.0\n",
       "VALUE              20000.0\n",
       "YOJ                    2.0\n",
       "DEROG                  0.0\n",
       "DELINQ                 0.0\n",
       "CLAGE                 50.0\n",
       "CLNO                  10.0\n",
       "DEBTINC               50.0\n",
       "NINQ                   0.0\n",
       "REASON_DebtCon         1.0\n",
       "REASON_HomeImp         0.0\n",
       "JOB_Mgr                0.0\n",
       "JOB_Office             0.0\n",
       "JOB_Other              0.0\n",
       "JOB_ProfExe            0.0\n",
       "JOB_Sales              0.0\n",
       "JOB_Self               1.0\n",
       "dtype: float64"
      ]
     },
     "execution_count": 161,
     "metadata": {},
     "output_type": "execute_result"
    }
   ],
   "source": [
    "tom7 = tom.copy()\n",
    "tom7"
   ]
  },
  {
   "cell_type": "code",
   "execution_count": 162,
   "metadata": {},
   "outputs": [
    {
     "data": {
      "text/plain": [
       "LOAN              100000.000097\n",
       "MORTDUE            47000.000234\n",
       "VALUE              19999.999444\n",
       "YOJ                    1.896432\n",
       "DEROG                 -1.234070\n",
       "DELINQ                -2.248170\n",
       "CLAGE                 50.818025\n",
       "CLNO                   8.301440\n",
       "DEBTINC               46.120042\n",
       "NINQ                  11.640427\n",
       "REASON_DebtCon         1.008853\n",
       "REASON_HomeImp        -0.142996\n",
       "JOB_Mgr                0.000000\n",
       "JOB_Office             0.000000\n",
       "JOB_Other              0.000000\n",
       "JOB_ProfExe            0.000000\n",
       "JOB_Sales              0.000000\n",
       "JOB_Self               1.000000\n",
       "dtype: float64"
      ]
     },
     "execution_count": 162,
     "metadata": {},
     "output_type": "execute_result"
    }
   ],
   "source": [
    "for i in range(12):\n",
    "    tom7[tom7.keys()[i]] = closest_point[i]\n",
    "tom7 # THIS POINT IS NOT REACHABLE "
   ]
  },
  {
   "cell_type": "code",
   "execution_count": 163,
   "metadata": {},
   "outputs": [
    {
     "data": {
      "text/plain": [
       "1"
      ]
     },
     "execution_count": 163,
     "metadata": {},
     "output_type": "execute_result"
    }
   ],
   "source": [
    "model_lr.predict(pd.DataFrame(tom7).T)[0]"
   ]
  },
  {
   "cell_type": "code",
   "execution_count": 164,
   "metadata": {},
   "outputs": [
    {
     "data": {
      "text/plain": [
       "array([ 1.00000000e+05,  4.70000002e+04,  1.99999994e+04,  1.89643220e+00,\n",
       "       -1.23406955e+00, -2.24816966e+00,  5.08180246e+01,  8.30143959e+00,\n",
       "        4.61200423e+01,  1.16404268e+01,  1.00885281e+00, -1.42995880e-01,\n",
       "       -8.21278620e-02,  1.13523328e-01, -1.64090627e-01,  9.33647489e-02,\n",
       "       -4.88904843e-02,  9.54077823e-01])"
      ]
     },
     "execution_count": 164,
     "metadata": {},
     "output_type": "execute_result"
    }
   ],
   "source": [
    "closest_point"
   ]
  },
  {
   "cell_type": "code",
   "execution_count": 165,
   "metadata": {
    "scrolled": true
   },
   "outputs": [
    {
     "data": {
      "text/plain": [
       "1.5248219353836134e-15"
      ]
     },
     "execution_count": 165,
     "metadata": {},
     "output_type": "execute_result"
    }
   ],
   "source": [
    "# IT SHOULD BE ZERO BUT PYTHON LOOSES PRECISION THAT'S WHY IT DOES NOT PASS THE TEST\n",
    "np.dot(closest_point,coefs) + intercept"
   ]
  },
  {
   "cell_type": "code",
   "execution_count": 170,
   "metadata": {},
   "outputs": [],
   "source": [
    "for i in range(12): #MOVING THE POINT A LITTLE BIT IT DOES PASS THE TEST\n",
    "    tom7[tom7.keys()[i]] += 1"
   ]
  },
  {
   "cell_type": "code",
   "execution_count": 172,
   "metadata": {},
   "outputs": [
    {
     "data": {
      "text/plain": [
       "0"
      ]
     },
     "execution_count": 172,
     "metadata": {},
     "output_type": "execute_result"
    }
   ],
   "source": [
    "model_lr.predict(pd.DataFrame(tom7).T)[0]"
   ]
  },
  {
   "cell_type": "code",
   "execution_count": 173,
   "metadata": {},
   "outputs": [
    {
     "data": {
      "text/plain": [
       "LOAN              100001.000097\n",
       "MORTDUE            47001.000234\n",
       "VALUE              20000.999444\n",
       "YOJ                    2.896432\n",
       "DEROG                 -0.234070\n",
       "DELINQ                -1.248170\n",
       "CLAGE                 51.818025\n",
       "CLNO                   9.301440\n",
       "DEBTINC               47.120042\n",
       "NINQ                  12.640427\n",
       "REASON_DebtCon         2.008853\n",
       "REASON_HomeImp         0.857004\n",
       "JOB_Mgr                0.000000\n",
       "JOB_Office             0.000000\n",
       "JOB_Other              0.000000\n",
       "JOB_ProfExe            0.000000\n",
       "JOB_Sales              0.000000\n",
       "JOB_Self               1.000000\n",
       "dtype: float64"
      ]
     },
     "execution_count": 173,
     "metadata": {},
     "output_type": "execute_result"
    }
   ],
   "source": [
    "tom7"
   ]
  },
  {
   "cell_type": "code",
   "execution_count": 174,
   "metadata": {},
   "outputs": [],
   "source": [
    "tom8 = tom.copy()"
   ]
  },
  {
   "cell_type": "code",
   "execution_count": 175,
   "metadata": {},
   "outputs": [],
   "source": [
    "while model_lr.predict(pd.DataFrame(tom8).T)[0]==1:\n",
    "    if tom8['LOAN'] <= 100:\n",
    "        break\n",
    "    tom8['LOAN'] -= 1000\n",
    "    if tom8['MORTDUE'] > 2000:\n",
    "        tom8['MORTDUE'] -= 2000\n",
    "    else: \n",
    "        tom8['MORTDUE'] = 0\n",
    "    if tom8['MORTDUE'] > 2000:\n",
    "        tom8['VALUE'] += 2000\n",
    "    else: \n",
    "        tom8['VALUE'] += tom8['MORTDUE']\n",
    "    tom8['YOJ'] += 0.1\n",
    "    tom8['CLAGE'] += 1"
   ]
  },
  {
   "cell_type": "code",
   "execution_count": 176,
   "metadata": {},
   "outputs": [
    {
     "data": {
      "text/plain": [
       "LOAN                  1.0\n",
       "MORTDUE               0.0\n",
       "VALUE             65002.0\n",
       "YOJ                  13.0\n",
       "DEROG                 1.0\n",
       "DELINQ                1.0\n",
       "CLAGE               151.0\n",
       "CLNO                 11.0\n",
       "DEBTINC              51.0\n",
       "NINQ                  1.0\n",
       "REASON_DebtCon        2.0\n",
       "REASON_HomeImp        1.0\n",
       "JOB_Mgr               0.0\n",
       "JOB_Office            0.0\n",
       "JOB_Other             0.0\n",
       "JOB_ProfExe           0.0\n",
       "JOB_Sales             0.0\n",
       "JOB_Self              1.0\n",
       "dtype: float64"
      ]
     },
     "execution_count": 176,
     "metadata": {},
     "output_type": "execute_result"
    }
   ],
   "source": [
    "tom8"
   ]
  }
 ],
 "metadata": {
  "kernelspec": {
   "display_name": "Python 3",
   "language": "python",
   "name": "python3"
  },
  "language_info": {
   "codemirror_mode": {
    "name": "ipython",
    "version": 3
   },
   "file_extension": ".py",
   "mimetype": "text/x-python",
   "name": "python",
   "nbconvert_exporter": "python",
   "pygments_lexer": "ipython3",
   "version": "3.7.4"
  }
 },
 "nbformat": 4,
 "nbformat_minor": 2
}
