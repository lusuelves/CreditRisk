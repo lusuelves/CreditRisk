{
 "cells": [
  {
   "cell_type": "code",
   "execution_count": 1,
   "metadata": {},
   "outputs": [],
   "source": [
    "import pandas as pd\n",
    "import numpy as np"
   ]
  },
  {
   "cell_type": "code",
   "execution_count": 2,
   "metadata": {},
   "outputs": [],
   "source": [
    "data = pd.read_csv('../data/hmeq_clean.csv',index_col=0)\n",
    "y = data['BAD']"
   ]
  },
  {
   "cell_type": "code",
   "execution_count": 3,
   "metadata": {},
   "outputs": [
    {
     "data": {
      "text/plain": [
       "RandomForestClassifier(bootstrap=True, class_weight=None, criterion='gini',\n",
       "            max_depth=None, max_features='auto', max_leaf_nodes=None,\n",
       "            min_impurity_decrease=0.0, min_impurity_split=None,\n",
       "            min_samples_leaf=1, min_samples_split=2,\n",
       "            min_weight_fraction_leaf=0.0, n_estimators=200, n_jobs=None,\n",
       "            oob_score=False, random_state=None, verbose=0,\n",
       "            warm_start=False)"
      ]
     },
     "execution_count": 3,
     "metadata": {},
     "output_type": "execute_result"
    }
   ],
   "source": [
    "from sklearn.linear_model import LogisticRegression\n",
    "from sklearn.svm import LinearSVC\n",
    "from sklearn.ensemble import RandomForestClassifier\n",
    "from sklearn.svm import SVC\n",
    "from sklearn.calibration import CalibratedClassifierCV\n",
    "from sklearn.metrics import accuracy_score, precision_score, recall_score, f1_score\n",
    "\n",
    "model_rf = RandomForestClassifier(n_estimators=200)\n",
    "model_rf.fit(data.drop(columns=['BAD']), y)"
   ]
  },
  {
   "cell_type": "code",
   "execution_count": 4,
   "metadata": {},
   "outputs": [
    {
     "name": "stderr",
     "output_type": "stream",
     "text": [
      "/Users/luciasuelves/opt/anaconda3/lib/python3.7/site-packages/pandas/core/frame.py:3930: SettingWithCopyWarning: \n",
      "A value is trying to be set on a copy of a slice from a DataFrame\n",
      "\n",
      "See the caveats in the documentation: http://pandas.pydata.org/pandas-docs/stable/indexing.html#indexing-view-versus-copy\n",
      "  errors=errors)\n"
     ]
    }
   ],
   "source": [
    "data_pos = data.loc[data['BAD']==0]\n",
    "data_pos.drop(columns=['BAD'],inplace=True)\n",
    "data_pos = data_pos.T"
   ]
  },
  {
   "cell_type": "code",
   "execution_count": 5,
   "metadata": {},
   "outputs": [],
   "source": [
    "from scipy.spatial.distance import pdist, squareform"
   ]
  },
  {
   "cell_type": "code",
   "execution_count": 6,
   "metadata": {},
   "outputs": [
    {
     "data": {
      "text/html": [
       "<div>\n",
       "<style scoped>\n",
       "    .dataframe tbody tr th:only-of-type {\n",
       "        vertical-align: middle;\n",
       "    }\n",
       "\n",
       "    .dataframe tbody tr th {\n",
       "        vertical-align: top;\n",
       "    }\n",
       "\n",
       "    .dataframe thead th {\n",
       "        text-align: right;\n",
       "    }\n",
       "</style>\n",
       "<table border=\"1\" class=\"dataframe\">\n",
       "  <thead>\n",
       "    <tr style=\"text-align: right;\">\n",
       "      <th></th>\n",
       "      <th>4</th>\n",
       "      <th>13</th>\n",
       "      <th>19</th>\n",
       "      <th>26</th>\n",
       "      <th>29</th>\n",
       "      <th>30</th>\n",
       "      <th>34</th>\n",
       "      <th>35</th>\n",
       "      <th>38</th>\n",
       "      <th>48</th>\n",
       "      <th>...</th>\n",
       "      <th>5950</th>\n",
       "      <th>5951</th>\n",
       "      <th>5952</th>\n",
       "      <th>5953</th>\n",
       "      <th>5954</th>\n",
       "      <th>5955</th>\n",
       "      <th>5956</th>\n",
       "      <th>5957</th>\n",
       "      <th>5958</th>\n",
       "      <th>5959</th>\n",
       "    </tr>\n",
       "  </thead>\n",
       "  <tbody>\n",
       "    <tr>\n",
       "      <th>4</th>\n",
       "      <td>1.000000</td>\n",
       "      <td>0.000024</td>\n",
       "      <td>0.000099</td>\n",
       "      <td>0.000189</td>\n",
       "      <td>0.000009</td>\n",
       "      <td>0.000023</td>\n",
       "      <td>0.000159</td>\n",
       "      <td>0.000091</td>\n",
       "      <td>0.000084</td>\n",
       "      <td>0.000018</td>\n",
       "      <td>...</td>\n",
       "      <td>0.000010</td>\n",
       "      <td>0.000010</td>\n",
       "      <td>0.000010</td>\n",
       "      <td>0.000010</td>\n",
       "      <td>0.000010</td>\n",
       "      <td>0.000010</td>\n",
       "      <td>0.000010</td>\n",
       "      <td>0.000010</td>\n",
       "      <td>0.000010</td>\n",
       "      <td>0.000010</td>\n",
       "    </tr>\n",
       "    <tr>\n",
       "      <th>13</th>\n",
       "      <td>0.000024</td>\n",
       "      <td>1.000000</td>\n",
       "      <td>0.000020</td>\n",
       "      <td>0.000022</td>\n",
       "      <td>0.000014</td>\n",
       "      <td>0.000089</td>\n",
       "      <td>0.000021</td>\n",
       "      <td>0.000019</td>\n",
       "      <td>0.000019</td>\n",
       "      <td>0.000058</td>\n",
       "      <td>...</td>\n",
       "      <td>0.000012</td>\n",
       "      <td>0.000011</td>\n",
       "      <td>0.000011</td>\n",
       "      <td>0.000011</td>\n",
       "      <td>0.000011</td>\n",
       "      <td>0.000011</td>\n",
       "      <td>0.000011</td>\n",
       "      <td>0.000011</td>\n",
       "      <td>0.000011</td>\n",
       "      <td>0.000011</td>\n",
       "    </tr>\n",
       "    <tr>\n",
       "      <th>19</th>\n",
       "      <td>0.000099</td>\n",
       "      <td>0.000020</td>\n",
       "      <td>1.000000</td>\n",
       "      <td>0.000184</td>\n",
       "      <td>0.000008</td>\n",
       "      <td>0.000019</td>\n",
       "      <td>0.000116</td>\n",
       "      <td>0.000475</td>\n",
       "      <td>0.000410</td>\n",
       "      <td>0.000015</td>\n",
       "      <td>...</td>\n",
       "      <td>0.000010</td>\n",
       "      <td>0.000010</td>\n",
       "      <td>0.000010</td>\n",
       "      <td>0.000010</td>\n",
       "      <td>0.000009</td>\n",
       "      <td>0.000010</td>\n",
       "      <td>0.000010</td>\n",
       "      <td>0.000010</td>\n",
       "      <td>0.000009</td>\n",
       "      <td>0.000009</td>\n",
       "    </tr>\n",
       "    <tr>\n",
       "      <th>26</th>\n",
       "      <td>0.000189</td>\n",
       "      <td>0.000022</td>\n",
       "      <td>0.000184</td>\n",
       "      <td>1.000000</td>\n",
       "      <td>0.000009</td>\n",
       "      <td>0.000021</td>\n",
       "      <td>0.000138</td>\n",
       "      <td>0.000145</td>\n",
       "      <td>0.000131</td>\n",
       "      <td>0.000016</td>\n",
       "      <td>...</td>\n",
       "      <td>0.000010</td>\n",
       "      <td>0.000010</td>\n",
       "      <td>0.000010</td>\n",
       "      <td>0.000010</td>\n",
       "      <td>0.000010</td>\n",
       "      <td>0.000010</td>\n",
       "      <td>0.000010</td>\n",
       "      <td>0.000010</td>\n",
       "      <td>0.000010</td>\n",
       "      <td>0.000010</td>\n",
       "    </tr>\n",
       "    <tr>\n",
       "      <th>29</th>\n",
       "      <td>0.000009</td>\n",
       "      <td>0.000014</td>\n",
       "      <td>0.000008</td>\n",
       "      <td>0.000009</td>\n",
       "      <td>1.000000</td>\n",
       "      <td>0.000014</td>\n",
       "      <td>0.000008</td>\n",
       "      <td>0.000008</td>\n",
       "      <td>0.000008</td>\n",
       "      <td>0.000017</td>\n",
       "      <td>...</td>\n",
       "      <td>0.000009</td>\n",
       "      <td>0.000009</td>\n",
       "      <td>0.000009</td>\n",
       "      <td>0.000009</td>\n",
       "      <td>0.000009</td>\n",
       "      <td>0.000009</td>\n",
       "      <td>0.000009</td>\n",
       "      <td>0.000009</td>\n",
       "      <td>0.000009</td>\n",
       "      <td>0.000009</td>\n",
       "    </tr>\n",
       "  </tbody>\n",
       "</table>\n",
       "<p>5 rows × 4771 columns</p>\n",
       "</div>"
      ],
      "text/plain": [
       "        4         13        19        26        29        30        34    \\\n",
       "4   1.000000  0.000024  0.000099  0.000189  0.000009  0.000023  0.000159   \n",
       "13  0.000024  1.000000  0.000020  0.000022  0.000014  0.000089  0.000021   \n",
       "19  0.000099  0.000020  1.000000  0.000184  0.000008  0.000019  0.000116   \n",
       "26  0.000189  0.000022  0.000184  1.000000  0.000009  0.000021  0.000138   \n",
       "29  0.000009  0.000014  0.000008  0.000009  1.000000  0.000014  0.000008   \n",
       "\n",
       "        35        38        48    ...      5950      5951      5952      5953  \\\n",
       "4   0.000091  0.000084  0.000018  ...  0.000010  0.000010  0.000010  0.000010   \n",
       "13  0.000019  0.000019  0.000058  ...  0.000012  0.000011  0.000011  0.000011   \n",
       "19  0.000475  0.000410  0.000015  ...  0.000010  0.000010  0.000010  0.000010   \n",
       "26  0.000145  0.000131  0.000016  ...  0.000010  0.000010  0.000010  0.000010   \n",
       "29  0.000008  0.000008  0.000017  ...  0.000009  0.000009  0.000009  0.000009   \n",
       "\n",
       "        5954      5955      5956      5957      5958      5959  \n",
       "4   0.000010  0.000010  0.000010  0.000010  0.000010  0.000010  \n",
       "13  0.000011  0.000011  0.000011  0.000011  0.000011  0.000011  \n",
       "19  0.000009  0.000010  0.000010  0.000010  0.000009  0.000009  \n",
       "26  0.000010  0.000010  0.000010  0.000010  0.000010  0.000010  \n",
       "29  0.000009  0.000009  0.000009  0.000009  0.000009  0.000009  \n",
       "\n",
       "[5 rows x 4771 columns]"
      ]
     },
     "execution_count": 6,
     "metadata": {},
     "output_type": "execute_result"
    }
   ],
   "source": [
    "distances = pd.DataFrame(1/(1 + squareform(pdist(data_pos.T, 'euclidean'))), \n",
    "                         index=data_pos.columns, columns=data_pos.columns)\n",
    "\n",
    "distances.head()"
   ]
  },
  {
   "cell_type": "code",
   "execution_count": 7,
   "metadata": {
    "scrolled": true
   },
   "outputs": [],
   "source": [
    "tom = pd.Series({'LOAN': 50000,\n",
    " 'MORTDUE': 47000,\n",
    " 'VALUE': 20000,\n",
    " 'YOJ': 5,\n",
    " 'DEROG': 0,\n",
    " 'DELINQ': 0,\n",
    " 'CLAGE': 200,\n",
    " 'CLNO': 10,\n",
    " 'DEBTINC': 0,\n",
    " 'NINQ': 0,\n",
    " 'REASON_DebtCon':1,\n",
    " 'REASON_HomeImp':0,\n",
    " 'JOB_Mgr':0,\n",
    " 'JOB_Office':0,\n",
    " 'JOB_Other':0,\n",
    " 'JOB_ProfExe':0,\n",
    " 'JOB_Sales':0,\n",
    " 'JOB_Self':1})\n",
    "\n",
    "data_pos['TOM'] = tom"
   ]
  },
  {
   "cell_type": "code",
   "execution_count": 8,
   "metadata": {},
   "outputs": [
    {
     "data": {
      "text/plain": [
       "1"
      ]
     },
     "execution_count": 8,
     "metadata": {},
     "output_type": "execute_result"
    }
   ],
   "source": [
    "model_rf.predict(pd.DataFrame(tom).T)[0]"
   ]
  },
  {
   "cell_type": "code",
   "execution_count": 9,
   "metadata": {},
   "outputs": [],
   "source": [
    "distances = pd.DataFrame(1/(1 + squareform(pdist(data_pos.T, 'euclidean'))), \n",
    "                         index=data_pos.columns, columns=data_pos.columns)\n",
    "\n",
    "\n",
    "similarities = distances['TOM'].sort_values(ascending=False)[1:]\n",
    "\n",
    "## Este es el vector de similiaridad de TOM con el resto de usuarios respecto a sus\n",
    "## visualizaciones comunes\n",
    "\n",
    "similars = pd.DataFrame(similarities)"
   ]
  },
  {
   "cell_type": "code",
   "execution_count": 10,
   "metadata": {},
   "outputs": [
    {
     "data": {
      "text/html": [
       "<div>\n",
       "<style scoped>\n",
       "    .dataframe tbody tr th:only-of-type {\n",
       "        vertical-align: middle;\n",
       "    }\n",
       "\n",
       "    .dataframe tbody tr th {\n",
       "        vertical-align: top;\n",
       "    }\n",
       "\n",
       "    .dataframe thead th {\n",
       "        text-align: right;\n",
       "    }\n",
       "</style>\n",
       "<table border=\"1\" class=\"dataframe\">\n",
       "  <thead>\n",
       "    <tr style=\"text-align: right;\">\n",
       "      <th></th>\n",
       "      <th>TOM</th>\n",
       "      <th>4523</th>\n",
       "    </tr>\n",
       "  </thead>\n",
       "  <tbody>\n",
       "    <tr>\n",
       "      <th>LOAN</th>\n",
       "      <td>50000</td>\n",
       "      <td>23600.000000</td>\n",
       "    </tr>\n",
       "    <tr>\n",
       "      <th>MORTDUE</th>\n",
       "      <td>47000</td>\n",
       "      <td>69846.000000</td>\n",
       "    </tr>\n",
       "    <tr>\n",
       "      <th>VALUE</th>\n",
       "      <td>20000</td>\n",
       "      <td>189234.000000</td>\n",
       "    </tr>\n",
       "    <tr>\n",
       "      <th>YOJ</th>\n",
       "      <td>5</td>\n",
       "      <td>11.000000</td>\n",
       "    </tr>\n",
       "    <tr>\n",
       "      <th>DEROG</th>\n",
       "      <td>0</td>\n",
       "      <td>0.000000</td>\n",
       "    </tr>\n",
       "    <tr>\n",
       "      <th>DELINQ</th>\n",
       "      <td>0</td>\n",
       "      <td>0.000000</td>\n",
       "    </tr>\n",
       "    <tr>\n",
       "      <th>CLAGE</th>\n",
       "      <td>200</td>\n",
       "      <td>357.805062</td>\n",
       "    </tr>\n",
       "    <tr>\n",
       "      <th>NINQ</th>\n",
       "      <td>0</td>\n",
       "      <td>0.000000</td>\n",
       "    </tr>\n",
       "    <tr>\n",
       "      <th>CLNO</th>\n",
       "      <td>10</td>\n",
       "      <td>17.000000</td>\n",
       "    </tr>\n",
       "    <tr>\n",
       "      <th>DEBTINC</th>\n",
       "      <td>0</td>\n",
       "      <td>30.564280</td>\n",
       "    </tr>\n",
       "    <tr>\n",
       "      <th>REASON_DebtCon</th>\n",
       "      <td>1</td>\n",
       "      <td>1.000000</td>\n",
       "    </tr>\n",
       "    <tr>\n",
       "      <th>REASON_HomeImp</th>\n",
       "      <td>0</td>\n",
       "      <td>0.000000</td>\n",
       "    </tr>\n",
       "    <tr>\n",
       "      <th>JOB_Mgr</th>\n",
       "      <td>0</td>\n",
       "      <td>0.000000</td>\n",
       "    </tr>\n",
       "    <tr>\n",
       "      <th>JOB_Office</th>\n",
       "      <td>0</td>\n",
       "      <td>0.000000</td>\n",
       "    </tr>\n",
       "    <tr>\n",
       "      <th>JOB_Other</th>\n",
       "      <td>0</td>\n",
       "      <td>1.000000</td>\n",
       "    </tr>\n",
       "    <tr>\n",
       "      <th>JOB_ProfExe</th>\n",
       "      <td>0</td>\n",
       "      <td>0.000000</td>\n",
       "    </tr>\n",
       "    <tr>\n",
       "      <th>JOB_Sales</th>\n",
       "      <td>0</td>\n",
       "      <td>0.000000</td>\n",
       "    </tr>\n",
       "    <tr>\n",
       "      <th>JOB_Self</th>\n",
       "      <td>1</td>\n",
       "      <td>0.000000</td>\n",
       "    </tr>\n",
       "  </tbody>\n",
       "</table>\n",
       "</div>"
      ],
      "text/plain": [
       "                  TOM           4523\n",
       "LOAN            50000   23600.000000\n",
       "MORTDUE         47000   69846.000000\n",
       "VALUE           20000  189234.000000\n",
       "YOJ                 5      11.000000\n",
       "DEROG               0       0.000000\n",
       "DELINQ              0       0.000000\n",
       "CLAGE             200     357.805062\n",
       "NINQ                0       0.000000\n",
       "CLNO               10      17.000000\n",
       "DEBTINC             0      30.564280\n",
       "REASON_DebtCon      1       1.000000\n",
       "REASON_HomeImp      0       0.000000\n",
       "JOB_Mgr             0       0.000000\n",
       "JOB_Office          0       0.000000\n",
       "JOB_Other           0       1.000000\n",
       "JOB_ProfExe         0       0.000000\n",
       "JOB_Sales           0       0.000000\n",
       "JOB_Self            1       0.000000"
      ]
     },
     "execution_count": 10,
     "metadata": {},
     "output_type": "execute_result"
    }
   ],
   "source": [
    "\n",
    "data_pos[[\"TOM\",4523]]"
   ]
  },
  {
   "cell_type": "code",
   "execution_count": 11,
   "metadata": {
    "scrolled": false
   },
   "outputs": [
    {
     "name": "stdout",
     "output_type": "stream",
     "text": [
      "Ask for a smaller loan\n",
      "Ask for a smaller loan\n",
      "Ask for a smaller loan\n",
      "Ask for a smaller loan\n",
      "Ask for a smaller loan\n",
      "Ask for a smaller loan\n",
      "Ask for a smaller loan\n",
      "Ask for a smaller loan\n",
      "Ask for a smaller loan\n",
      "Ask for a smaller loan\n",
      "Ask for a smaller loan\n",
      "Work longer\n",
      "Work longer\n",
      "Work longer\n",
      "Work longer\n",
      "Work longer\n",
      "Work longer\n",
      "Work longer\n",
      "Work longer\n",
      "Work longer\n",
      "Work longer\n"
     ]
    },
    {
     "data": {
      "text/html": [
       "<div>\n",
       "<style scoped>\n",
       "    .dataframe tbody tr th:only-of-type {\n",
       "        vertical-align: middle;\n",
       "    }\n",
       "\n",
       "    .dataframe tbody tr th {\n",
       "        vertical-align: top;\n",
       "    }\n",
       "\n",
       "    .dataframe thead th {\n",
       "        text-align: right;\n",
       "    }\n",
       "</style>\n",
       "<table border=\"1\" class=\"dataframe\">\n",
       "  <thead>\n",
       "    <tr style=\"text-align: right;\">\n",
       "      <th></th>\n",
       "      <th>LOAN</th>\n",
       "      <th>MORTDUE</th>\n",
       "      <th>VALUE</th>\n",
       "      <th>YOJ</th>\n",
       "      <th>DEROG</th>\n",
       "      <th>DELINQ</th>\n",
       "      <th>CLAGE</th>\n",
       "      <th>NINQ</th>\n",
       "      <th>CLNO</th>\n",
       "      <th>DEBTINC</th>\n",
       "      <th>REASON_DebtCon</th>\n",
       "      <th>REASON_HomeImp</th>\n",
       "      <th>JOB_Mgr</th>\n",
       "      <th>JOB_Office</th>\n",
       "      <th>JOB_Other</th>\n",
       "      <th>JOB_ProfExe</th>\n",
       "      <th>JOB_Sales</th>\n",
       "      <th>JOB_Self</th>\n",
       "    </tr>\n",
       "  </thead>\n",
       "  <tbody>\n",
       "    <tr>\n",
       "      <th>5929</th>\n",
       "      <td>71200.0</td>\n",
       "      <td>196601.0</td>\n",
       "      <td>289430.0</td>\n",
       "      <td>12.0</td>\n",
       "      <td>0.0</td>\n",
       "      <td>0.0</td>\n",
       "      <td>226.914307</td>\n",
       "      <td>2.0</td>\n",
       "      <td>25.0</td>\n",
       "      <td>29.220351</td>\n",
       "      <td>1.0</td>\n",
       "      <td>0.0</td>\n",
       "      <td>0.0</td>\n",
       "      <td>0.0</td>\n",
       "      <td>0.0</td>\n",
       "      <td>0.0</td>\n",
       "      <td>0.0</td>\n",
       "      <td>1.0</td>\n",
       "    </tr>\n",
       "    <tr>\n",
       "      <th>5928</th>\n",
       "      <td>70800.0</td>\n",
       "      <td>192044.0</td>\n",
       "      <td>292380.0</td>\n",
       "      <td>10.0</td>\n",
       "      <td>0.0</td>\n",
       "      <td>0.0</td>\n",
       "      <td>221.608486</td>\n",
       "      <td>2.0</td>\n",
       "      <td>25.0</td>\n",
       "      <td>30.378548</td>\n",
       "      <td>1.0</td>\n",
       "      <td>0.0</td>\n",
       "      <td>0.0</td>\n",
       "      <td>0.0</td>\n",
       "      <td>0.0</td>\n",
       "      <td>0.0</td>\n",
       "      <td>0.0</td>\n",
       "      <td>1.0</td>\n",
       "    </tr>\n",
       "    <tr>\n",
       "      <th>5927</th>\n",
       "      <td>70500.0</td>\n",
       "      <td>196690.0</td>\n",
       "      <td>288512.0</td>\n",
       "      <td>9.0</td>\n",
       "      <td>0.0</td>\n",
       "      <td>0.0</td>\n",
       "      <td>227.027136</td>\n",
       "      <td>2.0</td>\n",
       "      <td>24.0</td>\n",
       "      <td>29.582301</td>\n",
       "      <td>1.0</td>\n",
       "      <td>0.0</td>\n",
       "      <td>0.0</td>\n",
       "      <td>0.0</td>\n",
       "      <td>0.0</td>\n",
       "      <td>0.0</td>\n",
       "      <td>0.0</td>\n",
       "      <td>1.0</td>\n",
       "    </tr>\n",
       "    <tr>\n",
       "      <th>5926</th>\n",
       "      <td>70300.0</td>\n",
       "      <td>197761.0</td>\n",
       "      <td>294169.0</td>\n",
       "      <td>9.0</td>\n",
       "      <td>0.0</td>\n",
       "      <td>0.0</td>\n",
       "      <td>212.239725</td>\n",
       "      <td>2.0</td>\n",
       "      <td>24.0</td>\n",
       "      <td>28.907073</td>\n",
       "      <td>1.0</td>\n",
       "      <td>0.0</td>\n",
       "      <td>0.0</td>\n",
       "      <td>0.0</td>\n",
       "      <td>0.0</td>\n",
       "      <td>0.0</td>\n",
       "      <td>0.0</td>\n",
       "      <td>1.0</td>\n",
       "    </tr>\n",
       "    <tr>\n",
       "      <th>5924</th>\n",
       "      <td>69700.0</td>\n",
       "      <td>192163.0</td>\n",
       "      <td>293901.0</td>\n",
       "      <td>10.0</td>\n",
       "      <td>0.0</td>\n",
       "      <td>0.0</td>\n",
       "      <td>222.147526</td>\n",
       "      <td>2.0</td>\n",
       "      <td>24.0</td>\n",
       "      <td>29.038236</td>\n",
       "      <td>1.0</td>\n",
       "      <td>0.0</td>\n",
       "      <td>0.0</td>\n",
       "      <td>0.0</td>\n",
       "      <td>0.0</td>\n",
       "      <td>0.0</td>\n",
       "      <td>0.0</td>\n",
       "      <td>1.0</td>\n",
       "    </tr>\n",
       "    <tr>\n",
       "      <th>5925</th>\n",
       "      <td>69700.0</td>\n",
       "      <td>191972.0</td>\n",
       "      <td>294367.0</td>\n",
       "      <td>10.0</td>\n",
       "      <td>0.0</td>\n",
       "      <td>0.0</td>\n",
       "      <td>230.705613</td>\n",
       "      <td>2.0</td>\n",
       "      <td>25.0</td>\n",
       "      <td>28.201871</td>\n",
       "      <td>1.0</td>\n",
       "      <td>0.0</td>\n",
       "      <td>0.0</td>\n",
       "      <td>0.0</td>\n",
       "      <td>0.0</td>\n",
       "      <td>0.0</td>\n",
       "      <td>0.0</td>\n",
       "      <td>1.0</td>\n",
       "    </tr>\n",
       "    <tr>\n",
       "      <th>5923</th>\n",
       "      <td>69600.0</td>\n",
       "      <td>198702.0</td>\n",
       "      <td>293252.0</td>\n",
       "      <td>10.0</td>\n",
       "      <td>0.0</td>\n",
       "      <td>0.0</td>\n",
       "      <td>208.299007</td>\n",
       "      <td>2.0</td>\n",
       "      <td>24.0</td>\n",
       "      <td>27.761644</td>\n",
       "      <td>1.0</td>\n",
       "      <td>0.0</td>\n",
       "      <td>0.0</td>\n",
       "      <td>0.0</td>\n",
       "      <td>0.0</td>\n",
       "      <td>0.0</td>\n",
       "      <td>0.0</td>\n",
       "      <td>1.0</td>\n",
       "    </tr>\n",
       "    <tr>\n",
       "      <th>5922</th>\n",
       "      <td>69000.0</td>\n",
       "      <td>197587.0</td>\n",
       "      <td>295551.0</td>\n",
       "      <td>10.0</td>\n",
       "      <td>0.0</td>\n",
       "      <td>0.0</td>\n",
       "      <td>211.776391</td>\n",
       "      <td>3.0</td>\n",
       "      <td>24.0</td>\n",
       "      <td>30.356857</td>\n",
       "      <td>1.0</td>\n",
       "      <td>0.0</td>\n",
       "      <td>0.0</td>\n",
       "      <td>0.0</td>\n",
       "      <td>0.0</td>\n",
       "      <td>0.0</td>\n",
       "      <td>0.0</td>\n",
       "      <td>1.0</td>\n",
       "    </tr>\n",
       "    <tr>\n",
       "      <th>5921</th>\n",
       "      <td>68700.0</td>\n",
       "      <td>197356.0</td>\n",
       "      <td>291242.0</td>\n",
       "      <td>10.0</td>\n",
       "      <td>0.0</td>\n",
       "      <td>0.0</td>\n",
       "      <td>217.801647</td>\n",
       "      <td>2.0</td>\n",
       "      <td>24.0</td>\n",
       "      <td>29.423058</td>\n",
       "      <td>1.0</td>\n",
       "      <td>0.0</td>\n",
       "      <td>0.0</td>\n",
       "      <td>0.0</td>\n",
       "      <td>0.0</td>\n",
       "      <td>0.0</td>\n",
       "      <td>0.0</td>\n",
       "      <td>1.0</td>\n",
       "    </tr>\n",
       "    <tr>\n",
       "      <th>5920</th>\n",
       "      <td>68100.0</td>\n",
       "      <td>193298.0</td>\n",
       "      <td>288525.0</td>\n",
       "      <td>10.0</td>\n",
       "      <td>0.0</td>\n",
       "      <td>0.0</td>\n",
       "      <td>228.287295</td>\n",
       "      <td>2.0</td>\n",
       "      <td>25.0</td>\n",
       "      <td>30.395869</td>\n",
       "      <td>1.0</td>\n",
       "      <td>0.0</td>\n",
       "      <td>0.0</td>\n",
       "      <td>0.0</td>\n",
       "      <td>0.0</td>\n",
       "      <td>0.0</td>\n",
       "      <td>0.0</td>\n",
       "      <td>1.0</td>\n",
       "    </tr>\n",
       "  </tbody>\n",
       "</table>\n",
       "</div>"
      ],
      "text/plain": [
       "         LOAN   MORTDUE     VALUE   YOJ  DEROG  DELINQ       CLAGE  NINQ  \\\n",
       "5929  71200.0  196601.0  289430.0  12.0    0.0     0.0  226.914307   2.0   \n",
       "5928  70800.0  192044.0  292380.0  10.0    0.0     0.0  221.608486   2.0   \n",
       "5927  70500.0  196690.0  288512.0   9.0    0.0     0.0  227.027136   2.0   \n",
       "5926  70300.0  197761.0  294169.0   9.0    0.0     0.0  212.239725   2.0   \n",
       "5924  69700.0  192163.0  293901.0  10.0    0.0     0.0  222.147526   2.0   \n",
       "5925  69700.0  191972.0  294367.0  10.0    0.0     0.0  230.705613   2.0   \n",
       "5923  69600.0  198702.0  293252.0  10.0    0.0     0.0  208.299007   2.0   \n",
       "5922  69000.0  197587.0  295551.0  10.0    0.0     0.0  211.776391   3.0   \n",
       "5921  68700.0  197356.0  291242.0  10.0    0.0     0.0  217.801647   2.0   \n",
       "5920  68100.0  193298.0  288525.0  10.0    0.0     0.0  228.287295   2.0   \n",
       "\n",
       "      CLNO    DEBTINC  REASON_DebtCon  REASON_HomeImp  JOB_Mgr  JOB_Office  \\\n",
       "5929  25.0  29.220351             1.0             0.0      0.0         0.0   \n",
       "5928  25.0  30.378548             1.0             0.0      0.0         0.0   \n",
       "5927  24.0  29.582301             1.0             0.0      0.0         0.0   \n",
       "5926  24.0  28.907073             1.0             0.0      0.0         0.0   \n",
       "5924  24.0  29.038236             1.0             0.0      0.0         0.0   \n",
       "5925  25.0  28.201871             1.0             0.0      0.0         0.0   \n",
       "5923  24.0  27.761644             1.0             0.0      0.0         0.0   \n",
       "5922  24.0  30.356857             1.0             0.0      0.0         0.0   \n",
       "5921  24.0  29.423058             1.0             0.0      0.0         0.0   \n",
       "5920  25.0  30.395869             1.0             0.0      0.0         0.0   \n",
       "\n",
       "      JOB_Other  JOB_ProfExe  JOB_Sales  JOB_Self  \n",
       "5929        0.0          0.0        0.0       1.0  \n",
       "5928        0.0          0.0        0.0       1.0  \n",
       "5927        0.0          0.0        0.0       1.0  \n",
       "5926        0.0          0.0        0.0       1.0  \n",
       "5924        0.0          0.0        0.0       1.0  \n",
       "5925        0.0          0.0        0.0       1.0  \n",
       "5923        0.0          0.0        0.0       1.0  \n",
       "5922        0.0          0.0        0.0       1.0  \n",
       "5921        0.0          0.0        0.0       1.0  \n",
       "5920        0.0          0.0        0.0       1.0  "
      ]
     },
     "metadata": {},
     "output_type": "display_data"
    },
    {
     "data": {
      "text/html": [
       "<div>\n",
       "<style scoped>\n",
       "    .dataframe tbody tr th:only-of-type {\n",
       "        vertical-align: middle;\n",
       "    }\n",
       "\n",
       "    .dataframe tbody tr th {\n",
       "        vertical-align: top;\n",
       "    }\n",
       "\n",
       "    .dataframe thead th {\n",
       "        text-align: right;\n",
       "    }\n",
       "</style>\n",
       "<table border=\"1\" class=\"dataframe\">\n",
       "  <thead>\n",
       "    <tr style=\"text-align: right;\">\n",
       "      <th></th>\n",
       "      <th>LOAN</th>\n",
       "      <th>MORTDUE</th>\n",
       "      <th>VALUE</th>\n",
       "      <th>YOJ</th>\n",
       "      <th>DEROG</th>\n",
       "      <th>DELINQ</th>\n",
       "      <th>CLAGE</th>\n",
       "      <th>NINQ</th>\n",
       "      <th>CLNO</th>\n",
       "      <th>DEBTINC</th>\n",
       "      <th>REASON_DebtCon</th>\n",
       "      <th>REASON_HomeImp</th>\n",
       "      <th>JOB_Mgr</th>\n",
       "      <th>JOB_Office</th>\n",
       "      <th>JOB_Other</th>\n",
       "      <th>JOB_ProfExe</th>\n",
       "      <th>JOB_Sales</th>\n",
       "      <th>JOB_Self</th>\n",
       "    </tr>\n",
       "  </thead>\n",
       "  <tbody>\n",
       "    <tr>\n",
       "      <th>4698</th>\n",
       "      <td>24800.0</td>\n",
       "      <td>98139.0</td>\n",
       "      <td>121696.0</td>\n",
       "      <td>3.0</td>\n",
       "      <td>0.0</td>\n",
       "      <td>0.0</td>\n",
       "      <td>208.523267</td>\n",
       "      <td>1.0</td>\n",
       "      <td>27.0</td>\n",
       "      <td>32.644265</td>\n",
       "      <td>1.0</td>\n",
       "      <td>0.0</td>\n",
       "      <td>0.0</td>\n",
       "      <td>0.0</td>\n",
       "      <td>0.0</td>\n",
       "      <td>0.0</td>\n",
       "      <td>0.0</td>\n",
       "      <td>1.0</td>\n",
       "    </tr>\n",
       "    <tr>\n",
       "      <th>4658</th>\n",
       "      <td>24400.0</td>\n",
       "      <td>95843.0</td>\n",
       "      <td>123377.0</td>\n",
       "      <td>2.0</td>\n",
       "      <td>0.0</td>\n",
       "      <td>0.0</td>\n",
       "      <td>201.976756</td>\n",
       "      <td>1.0</td>\n",
       "      <td>26.0</td>\n",
       "      <td>32.903468</td>\n",
       "      <td>1.0</td>\n",
       "      <td>0.0</td>\n",
       "      <td>0.0</td>\n",
       "      <td>0.0</td>\n",
       "      <td>0.0</td>\n",
       "      <td>0.0</td>\n",
       "      <td>0.0</td>\n",
       "      <td>1.0</td>\n",
       "    </tr>\n",
       "    <tr>\n",
       "      <th>4623</th>\n",
       "      <td>24200.0</td>\n",
       "      <td>90626.0</td>\n",
       "      <td>116601.0</td>\n",
       "      <td>2.0</td>\n",
       "      <td>0.0</td>\n",
       "      <td>0.0</td>\n",
       "      <td>226.116387</td>\n",
       "      <td>1.0</td>\n",
       "      <td>27.0</td>\n",
       "      <td>34.499938</td>\n",
       "      <td>1.0</td>\n",
       "      <td>0.0</td>\n",
       "      <td>0.0</td>\n",
       "      <td>0.0</td>\n",
       "      <td>0.0</td>\n",
       "      <td>0.0</td>\n",
       "      <td>0.0</td>\n",
       "      <td>1.0</td>\n",
       "    </tr>\n",
       "    <tr>\n",
       "      <th>4576</th>\n",
       "      <td>23900.0</td>\n",
       "      <td>90244.0</td>\n",
       "      <td>120751.0</td>\n",
       "      <td>3.0</td>\n",
       "      <td>0.0</td>\n",
       "      <td>0.0</td>\n",
       "      <td>194.987252</td>\n",
       "      <td>1.0</td>\n",
       "      <td>26.0</td>\n",
       "      <td>35.406060</td>\n",
       "      <td>1.0</td>\n",
       "      <td>0.0</td>\n",
       "      <td>0.0</td>\n",
       "      <td>0.0</td>\n",
       "      <td>0.0</td>\n",
       "      <td>0.0</td>\n",
       "      <td>0.0</td>\n",
       "      <td>1.0</td>\n",
       "    </tr>\n",
       "    <tr>\n",
       "      <th>4486</th>\n",
       "      <td>23400.0</td>\n",
       "      <td>89226.0</td>\n",
       "      <td>119604.0</td>\n",
       "      <td>3.0</td>\n",
       "      <td>0.0</td>\n",
       "      <td>0.0</td>\n",
       "      <td>221.681383</td>\n",
       "      <td>1.0</td>\n",
       "      <td>26.0</td>\n",
       "      <td>34.556201</td>\n",
       "      <td>1.0</td>\n",
       "      <td>0.0</td>\n",
       "      <td>0.0</td>\n",
       "      <td>0.0</td>\n",
       "      <td>0.0</td>\n",
       "      <td>0.0</td>\n",
       "      <td>0.0</td>\n",
       "      <td>1.0</td>\n",
       "    </tr>\n",
       "    <tr>\n",
       "      <th>4484</th>\n",
       "      <td>23400.0</td>\n",
       "      <td>97865.0</td>\n",
       "      <td>120172.0</td>\n",
       "      <td>2.0</td>\n",
       "      <td>0.0</td>\n",
       "      <td>0.0</td>\n",
       "      <td>200.575752</td>\n",
       "      <td>1.0</td>\n",
       "      <td>26.0</td>\n",
       "      <td>36.398729</td>\n",
       "      <td>1.0</td>\n",
       "      <td>0.0</td>\n",
       "      <td>0.0</td>\n",
       "      <td>0.0</td>\n",
       "      <td>0.0</td>\n",
       "      <td>0.0</td>\n",
       "      <td>0.0</td>\n",
       "      <td>1.0</td>\n",
       "    </tr>\n",
       "    <tr>\n",
       "      <th>4399</th>\n",
       "      <td>22900.0</td>\n",
       "      <td>95321.0</td>\n",
       "      <td>123082.0</td>\n",
       "      <td>3.0</td>\n",
       "      <td>0.0</td>\n",
       "      <td>0.0</td>\n",
       "      <td>205.441519</td>\n",
       "      <td>2.0</td>\n",
       "      <td>26.0</td>\n",
       "      <td>34.053491</td>\n",
       "      <td>1.0</td>\n",
       "      <td>0.0</td>\n",
       "      <td>0.0</td>\n",
       "      <td>0.0</td>\n",
       "      <td>0.0</td>\n",
       "      <td>0.0</td>\n",
       "      <td>0.0</td>\n",
       "      <td>1.0</td>\n",
       "    </tr>\n",
       "    <tr>\n",
       "      <th>4261</th>\n",
       "      <td>22200.0</td>\n",
       "      <td>93947.0</td>\n",
       "      <td>116176.0</td>\n",
       "      <td>2.0</td>\n",
       "      <td>0.0</td>\n",
       "      <td>0.0</td>\n",
       "      <td>205.029409</td>\n",
       "      <td>2.0</td>\n",
       "      <td>26.0</td>\n",
       "      <td>34.939403</td>\n",
       "      <td>1.0</td>\n",
       "      <td>0.0</td>\n",
       "      <td>0.0</td>\n",
       "      <td>0.0</td>\n",
       "      <td>0.0</td>\n",
       "      <td>0.0</td>\n",
       "      <td>0.0</td>\n",
       "      <td>1.0</td>\n",
       "    </tr>\n",
       "    <tr>\n",
       "      <th>4179</th>\n",
       "      <td>21800.0</td>\n",
       "      <td>90065.0</td>\n",
       "      <td>122335.0</td>\n",
       "      <td>3.0</td>\n",
       "      <td>0.0</td>\n",
       "      <td>0.0</td>\n",
       "      <td>212.695468</td>\n",
       "      <td>1.0</td>\n",
       "      <td>26.0</td>\n",
       "      <td>34.846919</td>\n",
       "      <td>1.0</td>\n",
       "      <td>0.0</td>\n",
       "      <td>0.0</td>\n",
       "      <td>0.0</td>\n",
       "      <td>0.0</td>\n",
       "      <td>0.0</td>\n",
       "      <td>0.0</td>\n",
       "      <td>1.0</td>\n",
       "    </tr>\n",
       "    <tr>\n",
       "      <th>4188</th>\n",
       "      <td>21800.0</td>\n",
       "      <td>96709.0</td>\n",
       "      <td>123613.0</td>\n",
       "      <td>3.0</td>\n",
       "      <td>0.0</td>\n",
       "      <td>0.0</td>\n",
       "      <td>218.730333</td>\n",
       "      <td>2.0</td>\n",
       "      <td>27.0</td>\n",
       "      <td>35.874495</td>\n",
       "      <td>1.0</td>\n",
       "      <td>0.0</td>\n",
       "      <td>0.0</td>\n",
       "      <td>0.0</td>\n",
       "      <td>0.0</td>\n",
       "      <td>0.0</td>\n",
       "      <td>0.0</td>\n",
       "      <td>1.0</td>\n",
       "    </tr>\n",
       "    <tr>\n",
       "      <th>4095</th>\n",
       "      <td>21400.0</td>\n",
       "      <td>90912.0</td>\n",
       "      <td>121714.0</td>\n",
       "      <td>3.0</td>\n",
       "      <td>0.0</td>\n",
       "      <td>0.0</td>\n",
       "      <td>221.515426</td>\n",
       "      <td>2.0</td>\n",
       "      <td>26.0</td>\n",
       "      <td>34.885541</td>\n",
       "      <td>1.0</td>\n",
       "      <td>0.0</td>\n",
       "      <td>0.0</td>\n",
       "      <td>0.0</td>\n",
       "      <td>0.0</td>\n",
       "      <td>0.0</td>\n",
       "      <td>0.0</td>\n",
       "      <td>1.0</td>\n",
       "    </tr>\n",
       "  </tbody>\n",
       "</table>\n",
       "</div>"
      ],
      "text/plain": [
       "         LOAN  MORTDUE     VALUE  YOJ  DEROG  DELINQ       CLAGE  NINQ  CLNO  \\\n",
       "4698  24800.0  98139.0  121696.0  3.0    0.0     0.0  208.523267   1.0  27.0   \n",
       "4658  24400.0  95843.0  123377.0  2.0    0.0     0.0  201.976756   1.0  26.0   \n",
       "4623  24200.0  90626.0  116601.0  2.0    0.0     0.0  226.116387   1.0  27.0   \n",
       "4576  23900.0  90244.0  120751.0  3.0    0.0     0.0  194.987252   1.0  26.0   \n",
       "4486  23400.0  89226.0  119604.0  3.0    0.0     0.0  221.681383   1.0  26.0   \n",
       "4484  23400.0  97865.0  120172.0  2.0    0.0     0.0  200.575752   1.0  26.0   \n",
       "4399  22900.0  95321.0  123082.0  3.0    0.0     0.0  205.441519   2.0  26.0   \n",
       "4261  22200.0  93947.0  116176.0  2.0    0.0     0.0  205.029409   2.0  26.0   \n",
       "4179  21800.0  90065.0  122335.0  3.0    0.0     0.0  212.695468   1.0  26.0   \n",
       "4188  21800.0  96709.0  123613.0  3.0    0.0     0.0  218.730333   2.0  27.0   \n",
       "4095  21400.0  90912.0  121714.0  3.0    0.0     0.0  221.515426   2.0  26.0   \n",
       "\n",
       "        DEBTINC  REASON_DebtCon  REASON_HomeImp  JOB_Mgr  JOB_Office  \\\n",
       "4698  32.644265             1.0             0.0      0.0         0.0   \n",
       "4658  32.903468             1.0             0.0      0.0         0.0   \n",
       "4623  34.499938             1.0             0.0      0.0         0.0   \n",
       "4576  35.406060             1.0             0.0      0.0         0.0   \n",
       "4486  34.556201             1.0             0.0      0.0         0.0   \n",
       "4484  36.398729             1.0             0.0      0.0         0.0   \n",
       "4399  34.053491             1.0             0.0      0.0         0.0   \n",
       "4261  34.939403             1.0             0.0      0.0         0.0   \n",
       "4179  34.846919             1.0             0.0      0.0         0.0   \n",
       "4188  35.874495             1.0             0.0      0.0         0.0   \n",
       "4095  34.885541             1.0             0.0      0.0         0.0   \n",
       "\n",
       "      JOB_Other  JOB_ProfExe  JOB_Sales  JOB_Self  \n",
       "4698        0.0          0.0        0.0       1.0  \n",
       "4658        0.0          0.0        0.0       1.0  \n",
       "4623        0.0          0.0        0.0       1.0  \n",
       "4576        0.0          0.0        0.0       1.0  \n",
       "4486        0.0          0.0        0.0       1.0  \n",
       "4484        0.0          0.0        0.0       1.0  \n",
       "4399        0.0          0.0        0.0       1.0  \n",
       "4261        0.0          0.0        0.0       1.0  \n",
       "4179        0.0          0.0        0.0       1.0  \n",
       "4188        0.0          0.0        0.0       1.0  \n",
       "4095        0.0          0.0        0.0       1.0  "
      ]
     },
     "metadata": {},
     "output_type": "display_data"
    },
    {
     "data": {
      "text/html": [
       "<div>\n",
       "<style scoped>\n",
       "    .dataframe tbody tr th:only-of-type {\n",
       "        vertical-align: middle;\n",
       "    }\n",
       "\n",
       "    .dataframe tbody tr th {\n",
       "        vertical-align: top;\n",
       "    }\n",
       "\n",
       "    .dataframe thead th {\n",
       "        text-align: right;\n",
       "    }\n",
       "</style>\n",
       "<table border=\"1\" class=\"dataframe\">\n",
       "  <thead>\n",
       "    <tr style=\"text-align: right;\">\n",
       "      <th></th>\n",
       "      <th>LOAN</th>\n",
       "      <th>MORTDUE</th>\n",
       "      <th>VALUE</th>\n",
       "      <th>YOJ</th>\n",
       "      <th>DEROG</th>\n",
       "      <th>DELINQ</th>\n",
       "      <th>CLAGE</th>\n",
       "      <th>NINQ</th>\n",
       "      <th>CLNO</th>\n",
       "      <th>DEBTINC</th>\n",
       "      <th>REASON_DebtCon</th>\n",
       "      <th>REASON_HomeImp</th>\n",
       "      <th>JOB_Mgr</th>\n",
       "      <th>JOB_Office</th>\n",
       "      <th>JOB_Other</th>\n",
       "      <th>JOB_ProfExe</th>\n",
       "      <th>JOB_Sales</th>\n",
       "      <th>JOB_Self</th>\n",
       "    </tr>\n",
       "  </thead>\n",
       "  <tbody>\n",
       "  </tbody>\n",
       "</table>\n",
       "</div>"
      ],
      "text/plain": [
       "Empty DataFrame\n",
       "Columns: [LOAN, MORTDUE, VALUE, YOJ, DEROG, DELINQ, CLAGE, NINQ, CLNO, DEBTINC, REASON_DebtCon, REASON_HomeImp, JOB_Mgr, JOB_Office, JOB_Other, JOB_ProfExe, JOB_Sales, JOB_Self]\n",
       "Index: []"
      ]
     },
     "metadata": {},
     "output_type": "display_data"
    }
   ],
   "source": [
    "cols = ['JOB_Self','JOB_Mgr','JOB_Other','JOB_Office','JOB_ProfExe',\n",
    "        'REASON_DebtCon','REASON_HomeImp','DEROG','DELINQ']\n",
    "bigger = ['MORTDUE','CLNO','DEBTINC','NINQ']\n",
    "smaller = ['LOAN','CLAGE']\n",
    "\n",
    "df_empty_2 = pd.DataFrame({title:[] for title in data_pos.index})\n",
    "df_empty_3 = pd.DataFrame({title:[] for title in data_pos.index})\n",
    "df_empty_4 = pd.DataFrame({title:[] for title in data_pos.index})\n",
    "for i in similars.index:\n",
    "    if all([data_pos[i][col] == tom[col] for col in cols]):\n",
    "        if [data_pos[i][col] > tom[col] for col in bigger] == [True]*len(bigger):\n",
    "            if data_pos[i]['YOJ'] < tom['YOJ']:\n",
    "                if data_pos[i]['LOAN'] < tom['LOAN']:\n",
    "                    print('Ask for a smaller loan')\n",
    "                    df_empty_3 = pd.concat([df_empty_3,pd.DataFrame(data_pos[i]).T])\n",
    "                else:\n",
    "                    print('You can get your loan')\n",
    "                    df_empty_4 = pd.concat([df_empty_4,pd.DataFrame(data_pos[i]).T])\n",
    "            else:\n",
    "                print('Work longer')\n",
    "                df_empty_2 = pd.concat([df_empty_2,pd.DataFrame(data_pos[i]).T])\n",
    "\n",
    "display(df_empty_2.sort_values(by='LOAN',ascending=False))\n",
    "display(df_empty_3.sort_values(by='LOAN',ascending=False))\n",
    "display(df_empty_4.sort_values(by='LOAN',ascending=False))"
   ]
  },
  {
   "cell_type": "code",
   "execution_count": 12,
   "metadata": {},
   "outputs": [
    {
     "data": {
      "text/plain": [
       "0"
      ]
     },
     "execution_count": 12,
     "metadata": {},
     "output_type": "execute_result"
    }
   ],
   "source": [
    "tom = pd.Series({'LOAN': 50000,\n",
    " 'MORTDUE': 47000,\n",
    " 'VALUE': 200000,\n",
    " 'YOJ': 2.0,\n",
    " 'DEROG': 0,\n",
    " 'DELINQ': 0,\n",
    " 'CLAGE': 200,\n",
    " 'CLNO': 10,\n",
    " 'DEBTINC': 5,\n",
    " 'NINQ': 0,\n",
    " 'REASON_DebtCon':1,\n",
    " 'REASON_HomeImp':0,\n",
    " 'JOB_Mgr':0,\n",
    " 'JOB_Office':0,\n",
    " 'JOB_Other':0,\n",
    " 'JOB_ProfExe':0,\n",
    " 'JOB_Sales':0,\n",
    " 'JOB_Self':1})\n",
    "model_rf.predict(pd.DataFrame(tom).T)[0]"
   ]
  },
  {
   "cell_type": "code",
   "execution_count": 13,
   "metadata": {},
   "outputs": [],
   "source": [
    "while model_rf.predict(pd.DataFrame(tom).T)[0] == 1:\n",
    "    tom['LOAN'] *= 0.95 \n",
    "    if tom['MORTDUE'] > 1000:\n",
    "        tom['MORTDUE'] -= 1000\n",
    "    else:\n",
    "        tom['MORTDUE'] -= 1000\n",
    "    tom['CLAGE'] += 1\n",
    "    tom['YOJ'] += 0.1\n",
    "    print(tom)\n",
    "    print(model_rf.predict(pd.DataFrame(tom).T)[0])"
   ]
  },
  {
   "cell_type": "code",
   "execution_count": 14,
   "metadata": {},
   "outputs": [
    {
     "data": {
      "text/html": [
       "<div>\n",
       "<style scoped>\n",
       "    .dataframe tbody tr th:only-of-type {\n",
       "        vertical-align: middle;\n",
       "    }\n",
       "\n",
       "    .dataframe tbody tr th {\n",
       "        vertical-align: top;\n",
       "    }\n",
       "\n",
       "    .dataframe thead th {\n",
       "        text-align: right;\n",
       "    }\n",
       "</style>\n",
       "<table border=\"1\" class=\"dataframe\">\n",
       "  <thead>\n",
       "    <tr style=\"text-align: right;\">\n",
       "      <th></th>\n",
       "      <th>BAD</th>\n",
       "      <th>LOAN</th>\n",
       "      <th>MORTDUE</th>\n",
       "      <th>VALUE</th>\n",
       "      <th>YOJ</th>\n",
       "      <th>DEROG</th>\n",
       "      <th>DELINQ</th>\n",
       "      <th>CLAGE</th>\n",
       "      <th>NINQ</th>\n",
       "      <th>CLNO</th>\n",
       "      <th>DEBTINC</th>\n",
       "      <th>REASON_DebtCon</th>\n",
       "      <th>REASON_HomeImp</th>\n",
       "      <th>JOB_Mgr</th>\n",
       "      <th>JOB_Office</th>\n",
       "      <th>JOB_Other</th>\n",
       "      <th>JOB_ProfExe</th>\n",
       "      <th>JOB_Sales</th>\n",
       "      <th>JOB_Self</th>\n",
       "    </tr>\n",
       "  </thead>\n",
       "  <tbody>\n",
       "  </tbody>\n",
       "</table>\n",
       "</div>"
      ],
      "text/plain": [
       "Empty DataFrame\n",
       "Columns: [BAD, LOAN, MORTDUE, VALUE, YOJ, DEROG, DELINQ, CLAGE, NINQ, CLNO, DEBTINC, REASON_DebtCon, REASON_HomeImp, JOB_Mgr, JOB_Office, JOB_Other, JOB_ProfExe, JOB_Sales, JOB_Self]\n",
       "Index: []"
      ]
     },
     "execution_count": 14,
     "metadata": {},
     "output_type": "execute_result"
    }
   ],
   "source": [
    "data.loc[(data['CLAGE']!=0) & (data['CLNO']==0)]"
   ]
  },
  {
   "cell_type": "code",
   "execution_count": 15,
   "metadata": {},
   "outputs": [
    {
     "name": "stderr",
     "output_type": "stream",
     "text": [
      "/Users/luciasuelves/opt/anaconda3/lib/python3.7/site-packages/sklearn/linear_model/logistic.py:433: FutureWarning: Default solver will be changed to 'lbfgs' in 0.22. Specify a solver to silence this warning.\n",
      "  FutureWarning)\n",
      "/Users/luciasuelves/opt/anaconda3/lib/python3.7/site-packages/sklearn/linear_model/logistic.py:460: FutureWarning: Default multi_class will be changed to 'auto' in 0.22. Specify the multi_class option to silence this warning.\n",
      "  \"this warning.\", FutureWarning)\n"
     ]
    },
    {
     "data": {
      "text/plain": [
       "LogisticRegression(C=1.0, class_weight=None, dual=False, fit_intercept=True,\n",
       "          intercept_scaling=1, max_iter=100, multi_class='warn',\n",
       "          n_jobs=None, penalty='l2', random_state=None, solver='warn',\n",
       "          tol=0.0001, verbose=0, warm_start=False)"
      ]
     },
     "execution_count": 15,
     "metadata": {},
     "output_type": "execute_result"
    }
   ],
   "source": [
    "from sklearn.linear_model import LogisticRegression\n",
    "model_lr = LogisticRegression()\n",
    "model_lr.fit(data.drop(columns=['LOAN']),data['LOAN'])"
   ]
  },
  {
   "cell_type": "code",
   "execution_count": 16,
   "metadata": {},
   "outputs": [],
   "source": [
    "tom = pd.Series({'BAD': 0,\n",
    " 'MORTDUE': 47000,\n",
    " 'VALUE': 200000,\n",
    " 'YOJ': 2.0,\n",
    " 'DEROG': 0,\n",
    " 'DELINQ': 0,\n",
    " 'CLAGE': 200,\n",
    " 'CLNO': 10,\n",
    " 'DEBTINC': 5,\n",
    " 'NINQ': 0,\n",
    " 'REASON_DebtCon':1,\n",
    " 'REASON_HomeImp':0,\n",
    " 'JOB_Mgr':0,\n",
    " 'JOB_Office':0,\n",
    " 'JOB_Other':0,\n",
    " 'JOB_ProfExe':0,\n",
    " 'JOB_Sales':0,\n",
    " 'JOB_Self':1})"
   ]
  },
  {
   "cell_type": "code",
   "execution_count": 17,
   "metadata": {},
   "outputs": [],
   "source": [
    "tom = pd.Series({'BAD': 1,\n",
    " 'MORTDUE': 680000,\n",
    " 'VALUE': 50000,\n",
    " 'YOJ': 2.0,\n",
    " 'DEROG': 0,\n",
    " 'DELINQ': 0,\n",
    " 'CLAGE': 50,\n",
    " 'CLNO': 10,\n",
    " 'DEBTINC': 10,\n",
    " 'NINQ': 0,\n",
    " 'REASON_DebtCon':1,\n",
    " 'REASON_HomeImp':0,\n",
    " 'JOB_Mgr':0,\n",
    " 'JOB_Office':0,\n",
    " 'JOB_Other':0,\n",
    " 'JOB_ProfExe':0,\n",
    " 'JOB_Sales':0,\n",
    " 'JOB_Self':1})"
   ]
  },
  {
   "cell_type": "code",
   "execution_count": 18,
   "metadata": {
    "scrolled": true
   },
   "outputs": [
    {
     "data": {
      "text/plain": [
       "34100"
      ]
     },
     "execution_count": 18,
     "metadata": {},
     "output_type": "execute_result"
    }
   ],
   "source": [
    "model_lr.predict(pd.DataFrame(tom).T)[0]"
   ]
  },
  {
   "cell_type": "code",
   "execution_count": 19,
   "metadata": {},
   "outputs": [
    {
     "data": {
      "text/plain": [
       "(5, 18)"
      ]
     },
     "execution_count": 19,
     "metadata": {},
     "output_type": "execute_result"
    }
   ],
   "source": [
    "data.drop(columns=['LOAN']).head().shape"
   ]
  },
  {
   "cell_type": "code",
   "execution_count": 20,
   "metadata": {},
   "outputs": [
    {
     "name": "stderr",
     "output_type": "stream",
     "text": [
      "/Users/luciasuelves/opt/anaconda3/lib/python3.7/site-packages/sklearn/linear_model/logistic.py:433: FutureWarning: Default solver will be changed to 'lbfgs' in 0.22. Specify a solver to silence this warning.\n",
      "  FutureWarning)\n"
     ]
    },
    {
     "data": {
      "text/plain": [
       "LogisticRegression(C=1.0, class_weight=None, dual=False, fit_intercept=True,\n",
       "          intercept_scaling=1, max_iter=100, multi_class='warn',\n",
       "          n_jobs=None, penalty='l2', random_state=None, solver='warn',\n",
       "          tol=0.0001, verbose=0, warm_start=False)"
      ]
     },
     "execution_count": 20,
     "metadata": {},
     "output_type": "execute_result"
    }
   ],
   "source": [
    "model_lr2 = LogisticRegression()\n",
    "model_lr2.fit(data.drop(columns=['BAD']),data['BAD'])"
   ]
  },
  {
   "cell_type": "code",
   "execution_count": 21,
   "metadata": {},
   "outputs": [],
   "source": [
    "tom = pd.Series({'LOAN': 196830.0,\n",
    " 'MORTDUE': 680000,\n",
    " 'VALUE': 50000,\n",
    " 'YOJ': 2.0,\n",
    " 'DEROG': 0,\n",
    " 'DELINQ': 0,\n",
    " 'CLAGE': 50,\n",
    " 'CLNO': 10,\n",
    " 'DEBTINC': 10,\n",
    " 'NINQ': 0,\n",
    " 'REASON_DebtCon':1,\n",
    " 'REASON_HomeImp':0,\n",
    " 'JOB_Mgr':0,\n",
    " 'JOB_Office':0,\n",
    " 'JOB_Other':0,\n",
    " 'JOB_ProfExe':0,\n",
    " 'JOB_Sales':0,\n",
    " 'JOB_Self':1})"
   ]
  },
  {
   "cell_type": "code",
   "execution_count": 22,
   "metadata": {},
   "outputs": [
    {
     "data": {
      "text/plain": [
       "0"
      ]
     },
     "execution_count": 22,
     "metadata": {},
     "output_type": "execute_result"
    }
   ],
   "source": [
    "model_lr2.predict(pd.DataFrame(tom).T)[0]"
   ]
  },
  {
   "cell_type": "code",
   "execution_count": 23,
   "metadata": {},
   "outputs": [],
   "source": [
    "#no me da el maximo"
   ]
  },
  {
   "cell_type": "code",
   "execution_count": 24,
   "metadata": {},
   "outputs": [],
   "source": [
    "while model_lr2.predict(pd.DataFrame(tom).T)[0] == 1:\n",
    "    tom['LOAN'] *= .9"
   ]
  },
  {
   "cell_type": "code",
   "execution_count": 25,
   "metadata": {},
   "outputs": [
    {
     "data": {
      "text/plain": [
       "196830.0"
      ]
     },
     "execution_count": 25,
     "metadata": {},
     "output_type": "execute_result"
    }
   ],
   "source": [
    "tom['LOAN']"
   ]
  },
  {
   "cell_type": "code",
   "execution_count": 26,
   "metadata": {},
   "outputs": [],
   "source": [
    "#EN realidad es que el LOGREG tiene como linea de corte, el rf importa mas la combinacion de resultados"
   ]
  },
  {
   "cell_type": "code",
   "execution_count": null,
   "metadata": {},
   "outputs": [],
   "source": [
    "#MAKE A MODEL TO PREDICT LOAN"
   ]
  },
  {
   "cell_type": "code",
   "execution_count": 27,
   "metadata": {},
   "outputs": [],
   "source": [
    "from sklearn.ensemble import RandomForestRegressor"
   ]
  },
  {
   "cell_type": "code",
   "execution_count": 28,
   "metadata": {},
   "outputs": [
    {
     "name": "stderr",
     "output_type": "stream",
     "text": [
      "/Users/luciasuelves/opt/anaconda3/lib/python3.7/site-packages/sklearn/ensemble/forest.py:246: FutureWarning: The default value of n_estimators will change from 10 in version 0.20 to 100 in 0.22.\n",
      "  \"10 in version 0.20 to 100 in 0.22.\", FutureWarning)\n"
     ]
    },
    {
     "data": {
      "text/plain": [
       "RandomForestRegressor(bootstrap=True, criterion='mse', max_depth=24,\n",
       "           max_features='auto', max_leaf_nodes=None,\n",
       "           min_impurity_decrease=0.0, min_impurity_split=None,\n",
       "           min_samples_leaf=1, min_samples_split=2,\n",
       "           min_weight_fraction_leaf=0.0, n_estimators=10, n_jobs=None,\n",
       "           oob_score=False, random_state=0, verbose=0, warm_start=False)"
      ]
     },
     "execution_count": 28,
     "metadata": {},
     "output_type": "execute_result"
    }
   ],
   "source": [
    "regr = RandomForestRegressor(max_depth=24, random_state=0)\n",
    "X = data.drop(columns=['LOAN'])\n",
    "y = data['LOAN']\n",
    "regr.fit(X, y)"
   ]
  },
  {
   "cell_type": "code",
   "execution_count": 29,
   "metadata": {},
   "outputs": [
    {
     "name": "stderr",
     "output_type": "stream",
     "text": [
      "/Users/luciasuelves/opt/anaconda3/lib/python3.7/site-packages/sklearn/ensemble/forest.py:246: FutureWarning: The default value of n_estimators will change from 10 in version 0.20 to 100 in 0.22.\n",
      "  \"10 in version 0.20 to 100 in 0.22.\", FutureWarning)\n"
     ]
    },
    {
     "data": {
      "text/plain": [
       "RandomForestRegressor(bootstrap=True, criterion='mse', max_depth=24,\n",
       "           max_features='auto', max_leaf_nodes=None,\n",
       "           min_impurity_decrease=0.0, min_impurity_split=None,\n",
       "           min_samples_leaf=1, min_samples_split=2,\n",
       "           min_weight_fraction_leaf=0.0, n_estimators=10, n_jobs=None,\n",
       "           oob_score=False, random_state=0, verbose=0, warm_start=False)"
      ]
     },
     "execution_count": 29,
     "metadata": {},
     "output_type": "execute_result"
    }
   ],
   "source": [
    "regr_r = RandomForestRegressor(max_depth=24, random_state=0)\n",
    "X = data.drop(columns=['BAD'])\n",
    "y = data['BAD']\n",
    "regr_r.fit(X, y)"
   ]
  },
  {
   "cell_type": "code",
   "execution_count": 30,
   "metadata": {},
   "outputs": [
    {
     "data": {
      "text/plain": [
       "-2851468805.562098"
      ]
     },
     "execution_count": 30,
     "metadata": {},
     "output_type": "execute_result"
    }
   ],
   "source": [
    "regr.score(X,y)"
   ]
  },
  {
   "cell_type": "code",
   "execution_count": 31,
   "metadata": {},
   "outputs": [],
   "source": [
    "tom = pd.Series({'BAD': 0,\n",
    " 'MORTDUE': 680000,\n",
    " 'VALUE': 50000,\n",
    " 'YOJ': 2.0,\n",
    " 'DEROG': 0,\n",
    " 'DELINQ': 0,\n",
    " 'CLAGE': 50,\n",
    " 'CLNO': 10,\n",
    " 'DEBTINC': 10,\n",
    " 'NINQ': 0,\n",
    " 'REASON_DebtCon':1,\n",
    " 'REASON_HomeImp':0,\n",
    " 'JOB_Mgr':0,\n",
    " 'JOB_Office':0,\n",
    " 'JOB_Other':0,\n",
    " 'JOB_ProfExe':0,\n",
    " 'JOB_Sales':0,\n",
    " 'JOB_Self':1})"
   ]
  },
  {
   "cell_type": "code",
   "execution_count": 32,
   "metadata": {},
   "outputs": [
    {
     "data": {
      "text/plain": [
       "38090.0"
      ]
     },
     "execution_count": 32,
     "metadata": {},
     "output_type": "execute_result"
    }
   ],
   "source": [
    "regr.predict(pd.DataFrame(tom).T)[0]"
   ]
  },
  {
   "cell_type": "code",
   "execution_count": 33,
   "metadata": {},
   "outputs": [],
   "source": [
    "tom = pd.Series({'LOAN': 38090,\n",
    " 'MORTDUE': 680000,\n",
    " 'VALUE': 50000,\n",
    " 'YOJ': 2.0,\n",
    " 'DEROG': 0,\n",
    " 'DELINQ': 0,\n",
    " 'CLAGE': 50,\n",
    " 'CLNO': 10,\n",
    " 'DEBTINC': 10,\n",
    " 'NINQ': 0,\n",
    " 'REASON_DebtCon':1,\n",
    " 'REASON_HomeImp':0,\n",
    " 'JOB_Mgr':0,\n",
    " 'JOB_Office':0,\n",
    " 'JOB_Other':0,\n",
    " 'JOB_ProfExe':0,\n",
    " 'JOB_Sales':0,\n",
    " 'JOB_Self':1})"
   ]
  },
  {
   "cell_type": "code",
   "execution_count": 34,
   "metadata": {},
   "outputs": [
    {
     "data": {
      "text/plain": [
       "0.6"
      ]
     },
     "execution_count": 34,
     "metadata": {},
     "output_type": "execute_result"
    }
   ],
   "source": [
    "regr_r.predict(pd.DataFrame(tom).T)[0]"
   ]
  },
  {
   "cell_type": "code",
   "execution_count": 35,
   "metadata": {},
   "outputs": [
    {
     "data": {
      "text/plain": [
       "1"
      ]
     },
     "execution_count": 35,
     "metadata": {},
     "output_type": "execute_result"
    }
   ],
   "source": [
    "len(-model_lr2.coef_)"
   ]
  },
  {
   "cell_type": "code",
   "execution_count": 36,
   "metadata": {},
   "outputs": [
    {
     "data": {
      "text/plain": [
       "array([-0.00035834])"
      ]
     },
     "execution_count": 36,
     "metadata": {},
     "output_type": "execute_result"
    }
   ],
   "source": [
    "-model_lr2.intercept_"
   ]
  },
  {
   "cell_type": "code",
   "execution_count": 38,
   "metadata": {},
   "outputs": [
    {
     "data": {
      "text/plain": [
       "pandas.core.series.Series"
      ]
     },
     "execution_count": 38,
     "metadata": {},
     "output_type": "execute_result"
    }
   ],
   "source": [
    "type(coefs)"
   ]
  },
  {
   "cell_type": "code",
   "execution_count": 39,
   "metadata": {},
   "outputs": [
    {
     "data": {
      "text/plain": [
       "[-9.67774391258109e-06,\n",
       " -2.5286119045019646e-06,\n",
       " 4.114532494100516e-06,\n",
       " -0.010802104593539022,\n",
       " 0.5159167434114761,\n",
       " 0.703474390001064,\n",
       " -0.006386731131787327,\n",
       " 0.1658941155856236,\n",
       " 0.0035095879688550446,\n",
       " -0.05835354845492697,\n",
       " 0.19662413826941103,\n",
       " 0.5038795268755268,\n",
       " -0.025984290329547292,\n",
       " -0.49055752098596683,\n",
       " -0.010119765377436505,\n",
       " -0.26350971086595776,\n",
       " 1.1078647707137237,\n",
       " 0.3828094205717306]"
      ]
     },
     "execution_count": 39,
     "metadata": {},
     "output_type": "execute_result"
    }
   ],
   "source": [
    "coefs.tolist()"
   ]
  },
  {
   "cell_type": "code",
   "execution_count": 40,
   "metadata": {},
   "outputs": [],
   "source": [
    "tom = pd.Series({'LOAN': 196830.0,\n",
    " 'MORTDUE': 680000,\n",
    " 'VALUE': 50000,\n",
    " 'YOJ': 2.0,\n",
    " 'DEROG': 0,\n",
    " 'DELINQ': 0,\n",
    " 'CLAGE': 50,\n",
    " 'CLNO': 10,\n",
    " 'DEBTINC': 10,\n",
    " 'NINQ': 0,\n",
    " 'REASON_DebtCon':1,\n",
    " 'REASON_HomeImp':0,\n",
    " 'JOB_Mgr':0,\n",
    " 'JOB_Office':0,\n",
    " 'JOB_Other':0,\n",
    " 'JOB_ProfExe':0,\n",
    " 'JOB_Sales':0,\n",
    " 'JOB_Self':1})\n",
    "for i in range(12):\n",
    "    tom[tom.keys()[i]] = coefs[i]"
   ]
  },
  {
   "cell_type": "code",
   "execution_count": 41,
   "metadata": {},
   "outputs": [
    {
     "data": {
      "text/plain": [
       "LOAN             -0.000010\n",
       "MORTDUE          -0.000003\n",
       "VALUE             0.000004\n",
       "YOJ              -0.010802\n",
       "DEROG             0.515917\n",
       "DELINQ            0.703474\n",
       "CLAGE            -0.006387\n",
       "CLNO              0.165894\n",
       "DEBTINC           0.003510\n",
       "NINQ             -0.058354\n",
       "REASON_DebtCon    0.196624\n",
       "REASON_HomeImp    0.503880\n",
       "JOB_Mgr           0.000000\n",
       "JOB_Office        0.000000\n",
       "JOB_Other         0.000000\n",
       "JOB_ProfExe       0.000000\n",
       "JOB_Sales         0.000000\n",
       "JOB_Self          1.000000\n",
       "dtype: float64"
      ]
     },
     "execution_count": 41,
     "metadata": {},
     "output_type": "execute_result"
    }
   ],
   "source": [
    "tom"
   ]
  },
  {
   "cell_type": "code",
   "execution_count": 43,
   "metadata": {},
   "outputs": [
    {
     "name": "stderr",
     "output_type": "stream",
     "text": [
      "/Users/luciasuelves/opt/anaconda3/lib/python3.7/site-packages/sklearn/linear_model/logistic.py:433: FutureWarning: Default solver will be changed to 'lbfgs' in 0.22. Specify a solver to silence this warning.\n",
      "  FutureWarning)\n"
     ]
    },
    {
     "data": {
      "text/plain": [
       "LogisticRegression(C=1.0, class_weight=None, dual=False, fit_intercept=True,\n",
       "          intercept_scaling=1, max_iter=100, multi_class='warn',\n",
       "          n_jobs=None, penalty='l2', random_state=None, solver='warn',\n",
       "          tol=0.0001, verbose=0, warm_start=False)"
      ]
     },
     "execution_count": 43,
     "metadata": {},
     "output_type": "execute_result"
    }
   ],
   "source": [
    "crazy = LogisticRegression()\n",
    "X = data.drop(columns=['BAD'])\n",
    "y = data['BAD']\n",
    "crazy.fit(X,y)"
   ]
  },
  {
   "cell_type": "code",
   "execution_count": 62,
   "metadata": {},
   "outputs": [
    {
     "data": {
      "text/plain": [
       "numpy.ndarray"
      ]
     },
     "execution_count": 62,
     "metadata": {},
     "output_type": "execute_result"
    }
   ],
   "source": [
    "coefs=-crazy.coef_[0]\n",
    "type(coefs)"
   ]
  },
  {
   "cell_type": "code",
   "execution_count": 45,
   "metadata": {},
   "outputs": [],
   "source": [
    "tom = pd.Series({'LOAN': 196830.0,\n",
    " 'MORTDUE': 680000,\n",
    " 'VALUE': 50000,\n",
    " 'YOJ': 2.0,\n",
    " 'DEROG': 0,\n",
    " 'DELINQ': 0,\n",
    " 'CLAGE': 50,\n",
    " 'CLNO': 10,\n",
    " 'DEBTINC': 10,\n",
    " 'NINQ': 0,\n",
    " 'REASON_DebtCon':1,\n",
    " 'REASON_HomeImp':0,\n",
    " 'JOB_Mgr':0,\n",
    " 'JOB_Office':0,\n",
    " 'JOB_Other':0,\n",
    " 'JOB_ProfExe':0,\n",
    " 'JOB_Sales':0,\n",
    " 'JOB_Self':1})\n",
    "for i in range(12):\n",
    "    tom[tom.keys()[i]] = coefs[i]"
   ]
  },
  {
   "cell_type": "code",
   "execution_count": 46,
   "metadata": {},
   "outputs": [
    {
     "data": {
      "text/plain": [
       "0"
      ]
     },
     "execution_count": 46,
     "metadata": {},
     "output_type": "execute_result"
    }
   ],
   "source": [
    "crazy.predict(pd.DataFrame(tom).T)[0]"
   ]
  },
  {
   "cell_type": "code",
   "execution_count": 47,
   "metadata": {},
   "outputs": [
    {
     "data": {
      "text/plain": [
       "-0.000362854856852603"
      ]
     },
     "execution_count": 47,
     "metadata": {},
     "output_type": "execute_result"
    }
   ],
   "source": [
    "intercept=-crazy.intercept_[0]\n",
    "intercept"
   ]
  },
  {
   "cell_type": "code",
   "execution_count": 267,
   "metadata": {},
   "outputs": [
    {
     "data": {
      "text/plain": [
       "1"
      ]
     },
     "execution_count": 267,
     "metadata": {},
     "output_type": "execute_result"
    }
   ],
   "source": [
    "tom = pd.Series({   \n",
    " 'LOAN': 50000.0,\n",
    " 'MORTDUE': 60000,\n",
    " 'VALUE': 50000,\n",
    " 'YOJ': 2.0,\n",
    " 'DEROG': 10,\n",
    " 'DELINQ': 0,\n",
    " 'CLAGE': 9,\n",
    " 'CLNO': 10,\n",
    " 'DEBTINC': 10,\n",
    " 'NINQ': 0,\n",
    " 'REASON_DebtCon':1,\n",
    " 'REASON_HomeImp':0,\n",
    " 'JOB_Mgr':0,\n",
    " 'JOB_Office':0,\n",
    " 'JOB_Other':0,\n",
    " 'JOB_ProfExe':0,\n",
    " 'JOB_Sales':0,\n",
    " 'JOB_Self':1})\n",
    "crazy.predict(pd.DataFrame(tom).T)[0]"
   ]
  },
  {
   "cell_type": "code",
   "execution_count": 245,
   "metadata": {},
   "outputs": [
    {
     "name": "stdout",
     "output_type": "stream",
     "text": [
      "[-1.16389684e-06  6.00509352e-07 -3.14847136e-06 -1.41720683e-04\n",
      " -4.43687547e-03 -8.12587620e-03  4.03002786e-03 -6.06532344e-03\n",
      " -1.45619464e-02  6.33383988e-02  8.28347095e-05 -4.45689566e-04\n",
      " -2.82555668e-04  4.37216511e-04 -4.77758542e-04  3.02845253e-04\n",
      " -1.70771408e-04 -1.71831004e-04]\n",
      "[-1.16389684e-06  6.00509352e-07 -3.14847136e-06 -1.41720683e-04\n",
      " -4.43687547e-03 -8.12587620e-03  4.03002786e-03 -6.06532344e-03\n",
      " -1.45619464e-02  6.33383988e-02  8.28347095e-05 -4.45689566e-04\n",
      " -2.82555668e-04  4.37216511e-04 -4.77758542e-04  3.02845253e-04\n",
      " -1.70771408e-04 -1.71831004e-04]\n"
     ]
    }
   ],
   "source": [
    "n=-crazy.coef_[0]\n",
    "print(n)\n",
    "#n = np.add(n,tom.values)\n",
    "print(n)\n",
    "n /= np.linalg.norm(n)"
   ]
  },
  {
   "cell_type": "code",
   "execution_count": 246,
   "metadata": {},
   "outputs": [
    {
     "data": {
      "text/plain": [
       "0.0"
      ]
     },
     "execution_count": 246,
     "metadata": {},
     "output_type": "execute_result"
    }
   ],
   "source": [
    "x = -intercept/n[0]\n",
    "x*n[0]+intercept"
   ]
  },
  {
   "cell_type": "code",
   "execution_count": 247,
   "metadata": {},
   "outputs": [
    {
     "data": {
      "text/plain": [
       "-20.593592974708375"
      ]
     },
     "execution_count": 247,
     "metadata": {},
     "output_type": "execute_result"
    }
   ],
   "source": [
    "x\n"
   ]
  },
  {
   "cell_type": "code",
   "execution_count": 248,
   "metadata": {},
   "outputs": [
    {
     "data": {
      "text/plain": [
       "[-20.593592974708375, 0, 0, 0, 0, 0, 0, 0, 0, 0, 0, 0, 0, 0, 0, 0, 0, 0]"
      ]
     },
     "execution_count": 248,
     "metadata": {},
     "output_type": "execute_result"
    }
   ],
   "source": [
    "p0 = [0]*17\n",
    "p0.insert(0,x)\n",
    "p0"
   ]
  },
  {
   "cell_type": "code",
   "execution_count": 249,
   "metadata": {},
   "outputs": [
    {
     "data": {
      "text/plain": [
       "0.0"
      ]
     },
     "execution_count": 249,
     "metadata": {},
     "output_type": "execute_result"
    }
   ],
   "source": [
    "np.dot(p0,n)+intercept"
   ]
  },
  {
   "cell_type": "code",
   "execution_count": 250,
   "metadata": {},
   "outputs": [],
   "source": [
    "p_ = tom.values - p0\n",
    "dist_to_plane = np.dot(p_, n)"
   ]
  },
  {
   "cell_type": "code",
   "execution_count": 251,
   "metadata": {},
   "outputs": [
    {
     "data": {
      "text/plain": [
       "3.679571482860948"
      ]
     },
     "execution_count": 251,
     "metadata": {},
     "output_type": "execute_result"
    }
   ],
   "source": [
    "dist_to_plane"
   ]
  },
  {
   "cell_type": "code",
   "execution_count": 252,
   "metadata": {},
   "outputs": [],
   "source": [
    "p_normal = np.dot(p_, n) * n\n",
    "p_tangent = p_ - p_normal"
   ]
  },
  {
   "cell_type": "code",
   "execution_count": 253,
   "metadata": {},
   "outputs": [
    {
     "data": {
      "text/plain": [
       "array([ 5.00000001e+04,  6.00000000e+04,  5.00000002e+04,  2.00789436e+00,\n",
       "        1.02471501e+01,  4.52640879e-01,  9.77551278e+00,  1.03378606e+01,\n",
       "        1.08111534e+01,  6.47182067e+00,  9.95385805e-01,  2.48265309e-02,\n",
       "        1.57393790e-02, -2.43545509e-02,  2.66128896e-02, -1.68695828e-02,\n",
       "        9.51258897e-03,  1.00957161e+00])"
      ]
     },
     "execution_count": 253,
     "metadata": {},
     "output_type": "execute_result"
    }
   ],
   "source": [
    "closest_point = p_tangent + p0\n",
    "closest_point"
   ]
  },
  {
   "cell_type": "code",
   "execution_count": 254,
   "metadata": {},
   "outputs": [
    {
     "data": {
      "text/plain": [
       "LOAN              50000.0\n",
       "MORTDUE           60000.0\n",
       "VALUE             50000.0\n",
       "YOJ                   2.0\n",
       "DEROG                10.0\n",
       "DELINQ                0.0\n",
       "CLAGE                10.0\n",
       "CLNO                 10.0\n",
       "DEBTINC              10.0\n",
       "NINQ                 10.0\n",
       "REASON_DebtCon        1.0\n",
       "REASON_HomeImp        0.0\n",
       "JOB_Mgr               0.0\n",
       "JOB_Office            0.0\n",
       "JOB_Other             0.0\n",
       "JOB_ProfExe           0.0\n",
       "JOB_Sales             0.0\n",
       "JOB_Self              1.0\n",
       "dtype: float64"
      ]
     },
     "execution_count": 254,
     "metadata": {},
     "output_type": "execute_result"
    }
   ],
   "source": [
    "tom"
   ]
  },
  {
   "cell_type": "code",
   "execution_count": 255,
   "metadata": {},
   "outputs": [],
   "source": [
    "for i in range(12):\n",
    "    tom[tom.keys()[i]] = closest_point[i]"
   ]
  },
  {
   "cell_type": "code",
   "execution_count": 256,
   "metadata": {},
   "outputs": [
    {
     "data": {
      "text/plain": [
       "1"
      ]
     },
     "execution_count": 256,
     "metadata": {},
     "output_type": "execute_result"
    }
   ],
   "source": [
    "crazy.predict(pd.DataFrame(tom).T)[0]"
   ]
  },
  {
   "cell_type": "code",
   "execution_count": 257,
   "metadata": {},
   "outputs": [
    {
     "data": {
      "text/plain": [
       "array([ 5.00000001e+04,  6.00000000e+04,  5.00000002e+04,  2.00789436e+00,\n",
       "        1.02471501e+01,  4.52640879e-01,  9.77551278e+00,  1.03378606e+01,\n",
       "        1.08111534e+01,  6.47182067e+00,  9.95385805e-01,  2.48265309e-02,\n",
       "        1.57393790e-02, -2.43545509e-02,  2.66128896e-02, -1.68695828e-02,\n",
       "        9.51258897e-03,  1.00957161e+00])"
      ]
     },
     "execution_count": 257,
     "metadata": {},
     "output_type": "execute_result"
    }
   ],
   "source": [
    "closest_point"
   ]
  },
  {
   "cell_type": "code",
   "execution_count": 258,
   "metadata": {
    "scrolled": true
   },
   "outputs": [
    {
     "data": {
      "text/plain": [
       "-0.0003026979902107711"
      ]
     },
     "execution_count": 258,
     "metadata": {},
     "output_type": "execute_result"
    }
   ],
   "source": [
    "#DEBERIA DAR 0\n",
    "np.dot(tom.values,coefs) + intercept"
   ]
  },
  {
   "cell_type": "code",
   "execution_count": 196,
   "metadata": {},
   "outputs": [],
   "source": [
    "#NO ES UN PUNTO FACTIBLEEEE"
   ]
  },
  {
   "cell_type": "code",
   "execution_count": 259,
   "metadata": {},
   "outputs": [],
   "source": [
    "#EL problema es que al dar tantos pasos se pierde precision y no se pasa"
   ]
  },
  {
   "cell_type": "code",
   "execution_count": 261,
   "metadata": {},
   "outputs": [],
   "source": [
    "for i in range(12):\n",
    "    tom[tom.keys()[i]] += 1"
   ]
  },
  {
   "cell_type": "code",
   "execution_count": 262,
   "metadata": {},
   "outputs": [
    {
     "data": {
      "text/plain": [
       "0"
      ]
     },
     "execution_count": 262,
     "metadata": {},
     "output_type": "execute_result"
    }
   ],
   "source": [
    "crazy.predict(pd.DataFrame(tom).T)[0]"
   ]
  },
  {
   "cell_type": "code",
   "execution_count": 263,
   "metadata": {},
   "outputs": [
    {
     "data": {
      "text/plain": [
       "LOAN              50001.000065\n",
       "MORTDUE           60000.999967\n",
       "VALUE             50001.000175\n",
       "YOJ                   3.007894\n",
       "DEROG                11.247150\n",
       "DELINQ                1.452641\n",
       "CLAGE                10.775513\n",
       "CLNO                 11.337861\n",
       "DEBTINC              11.811153\n",
       "NINQ                  7.471821\n",
       "REASON_DebtCon        1.995386\n",
       "REASON_HomeImp        1.024827\n",
       "JOB_Mgr               0.000000\n",
       "JOB_Office            0.000000\n",
       "JOB_Other             0.000000\n",
       "JOB_ProfExe           0.000000\n",
       "JOB_Sales             0.000000\n",
       "JOB_Self              1.000000\n",
       "dtype: float64"
      ]
     },
     "execution_count": 263,
     "metadata": {},
     "output_type": "execute_result"
    }
   ],
   "source": [
    "tom"
   ]
  },
  {
   "cell_type": "code",
   "execution_count": 320,
   "metadata": {},
   "outputs": [
    {
     "data": {
      "text/plain": [
       "1"
      ]
     },
     "execution_count": 320,
     "metadata": {},
     "output_type": "execute_result"
    }
   ],
   "source": [
    "tom = pd.Series({   \n",
    " 'LOAN': 600000.0,\n",
    " 'MORTDUE': 60000,\n",
    " 'VALUE': 15000,\n",
    " 'YOJ': 10.0,\n",
    " 'DEROG': 0,\n",
    " 'DELINQ': 0,\n",
    " 'CLAGE': 200,\n",
    " 'CLNO': 10,\n",
    " 'DEBTINC': 10,\n",
    " 'NINQ': 0,\n",
    " 'REASON_DebtCon':1,\n",
    " 'REASON_HomeImp':0,\n",
    " 'JOB_Mgr':1,\n",
    " 'JOB_Office':0,\n",
    " 'JOB_Other':0,\n",
    " 'JOB_ProfExe':0,\n",
    " 'JOB_Sales':0,\n",
    " 'JOB_Self':0})\n",
    "crazy.predict(pd.DataFrame(tom).T)[0]"
   ]
  },
  {
   "cell_type": "code",
   "execution_count": 321,
   "metadata": {},
   "outputs": [],
   "source": [
    "while crazy.predict(pd.DataFrame(tom).T)[0]==1:\n",
    "    if tom['LOAN'] <= 100:\n",
    "        break\n",
    "    tom['LOAN'] -= 1000\n",
    "    if tom['MORTDUE'] > 2000:\n",
    "        tom['MORTDUE'] -= 2000\n",
    "    else: \n",
    "        tom['MORTDUE'] = 0\n",
    "    if tom['MORTDUE'] > 2000:\n",
    "        tom['VALUE'] += 2000\n",
    "    else: \n",
    "        tom['VALUE'] += tom['MORTDUE']\n",
    "    tom['YOJ'] += 0.1\n",
    "    tom['CLAGE'] += 1"
   ]
  },
  {
   "cell_type": "code",
   "execution_count": 322,
   "metadata": {},
   "outputs": [
    {
     "data": {
      "text/plain": [
       "LOAN              536000.0\n",
       "MORTDUE                0.0\n",
       "VALUE              73000.0\n",
       "YOJ                   16.4\n",
       "DEROG                  0.0\n",
       "DELINQ                 0.0\n",
       "CLAGE                264.0\n",
       "CLNO                  10.0\n",
       "DEBTINC               10.0\n",
       "NINQ                   0.0\n",
       "REASON_DebtCon         1.0\n",
       "REASON_HomeImp         0.0\n",
       "JOB_Mgr                1.0\n",
       "JOB_Office             0.0\n",
       "JOB_Other              0.0\n",
       "JOB_ProfExe            0.0\n",
       "JOB_Sales              0.0\n",
       "JOB_Self               0.0\n",
       "dtype: float64"
      ]
     },
     "execution_count": 322,
     "metadata": {},
     "output_type": "execute_result"
    }
   ],
   "source": [
    "tom"
   ]
  },
  {
   "cell_type": "code",
   "execution_count": null,
   "metadata": {},
   "outputs": [],
   "source": [
    "#Tengo tres sistemas de consejos: recomendacion, punto más cercano, while loop\n",
    "#No ha funcionado lo de predecir el loan y luego pasar el test. \n",
    "# HOY: Organizar, revisar codigo. Incluir recomendaciones en flask.\n",
    "# Mañana: Unsupervised learning, clustering."
   ]
  }
 ],
 "metadata": {
  "kernelspec": {
   "display_name": "Python 3",
   "language": "python",
   "name": "python3"
  },
  "language_info": {
   "codemirror_mode": {
    "name": "ipython",
    "version": 3
   },
   "file_extension": ".py",
   "mimetype": "text/x-python",
   "name": "python",
   "nbconvert_exporter": "python",
   "pygments_lexer": "ipython3",
   "version": "3.7.4"
  }
 },
 "nbformat": 4,
 "nbformat_minor": 2
}
