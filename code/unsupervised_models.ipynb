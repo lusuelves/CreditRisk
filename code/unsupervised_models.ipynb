{
 "cells": [
  {
   "cell_type": "code",
   "execution_count": 34,
   "metadata": {},
   "outputs": [],
   "source": [
    "import pandas as pd\n",
    "import numpy as np\n",
    "import seaborn as sns\n",
    "import matplotlib.pyplot as plt\n",
    "from sklearn.cluster import KMeans\n",
    "from sklearn.preprocessing import StandardScaler, Normalizer\n",
    "from sklearn.pipeline import make_pipeline\n",
    "%matplotlib inline"
   ]
  },
  {
   "cell_type": "code",
   "execution_count": 37,
   "metadata": {},
   "outputs": [
    {
     "name": "stdout",
     "output_type": "stream",
     "text": [
      "Collecting matplotlib==3.1.0\n",
      "\u001b[?25l  Downloading https://files.pythonhosted.org/packages/ea/de/8c82ad7acc647357bc76d6a90385cba7df8e57d99e25ca38e5e12178682f/matplotlib-3.1.0-cp37-cp37m-macosx_10_6_intel.macosx_10_9_intel.macosx_10_9_x86_64.macosx_10_10_intel.macosx_10_10_x86_64.whl (14.4MB)\n",
      "\u001b[K     |████████████████████████████████| 14.4MB 7.3MB/s eta 0:00:01\n",
      "\u001b[?25hRequirement already satisfied: numpy>=1.11 in /Users/luciasuelves/opt/anaconda3/lib/python3.7/site-packages (from matplotlib==3.1.0) (1.18.1)\n",
      "Requirement already satisfied: pyparsing!=2.0.4,!=2.1.2,!=2.1.6,>=2.0.1 in /Users/luciasuelves/opt/anaconda3/lib/python3.7/site-packages (from matplotlib==3.1.0) (2.4.2)\n",
      "Requirement already satisfied: python-dateutil>=2.1 in /Users/luciasuelves/opt/anaconda3/lib/python3.7/site-packages (from matplotlib==3.1.0) (2.8.0)\n",
      "Requirement already satisfied: kiwisolver>=1.0.1 in /Users/luciasuelves/opt/anaconda3/lib/python3.7/site-packages (from matplotlib==3.1.0) (1.1.0)\n",
      "Requirement already satisfied: cycler>=0.10 in /Users/luciasuelves/opt/anaconda3/lib/python3.7/site-packages (from matplotlib==3.1.0) (0.10.0)\n",
      "Requirement already satisfied: six>=1.5 in /Users/luciasuelves/opt/anaconda3/lib/python3.7/site-packages (from python-dateutil>=2.1->matplotlib==3.1.0) (1.14.0)\n",
      "Requirement already satisfied: setuptools in /Users/luciasuelves/opt/anaconda3/lib/python3.7/site-packages (from kiwisolver>=1.0.1->matplotlib==3.1.0) (46.0.0)\n",
      "\u001b[31mERROR: causalnex 0.4.3 has requirement scipy<1.3,>=1.2.0, but you'll have scipy 1.4.1 which is incompatible.\u001b[0m\n",
      "\u001b[31mERROR: causalnex 0.4.3 has requirement wrapt<1.12,>=1.11.0, but you'll have wrapt 1.12.1 which is incompatible.\u001b[0m\n",
      "Installing collected packages: matplotlib\n",
      "  Found existing installation: matplotlib 3.1.1\n",
      "    Uninstalling matplotlib-3.1.1:\n",
      "      Successfully uninstalled matplotlib-3.1.1\n",
      "Successfully installed matplotlib-3.1.0\n"
     ]
    }
   ],
   "source": [
    "!pip install matplotlib==3.1.0"
   ]
  },
  {
   "cell_type": "markdown",
   "metadata": {},
   "source": [
    "I am going to test the models with every dataset to see which one works better."
   ]
  },
  {
   "cell_type": "code",
   "execution_count": 2,
   "metadata": {},
   "outputs": [],
   "source": [
    "data = pd.read_csv('../data/hmeq_clean.csv',index_col=0)\n",
    "data_cat = pd.read_csv('../data/data_0.csv',index_col=0)\n",
    "data_del_null = pd.read_csv('../data/hmeq_clean_del_null.csv',index_col=0)\n",
    "data_del_debtinc = pd.read_csv('../data/hmeq_clean_del_debtinc.csv',index_col=0)\n",
    "data_del_null_cat = pd.read_csv('../data/data_1.csv',index_col=0)\n",
    "data_del_debtinc_cat = pd.read_csv('../data/data_2.csv',index_col=0)\n",
    "data_norm = pd.read_csv('../data/hmeq_normalised_0.csv',index_col=0)\n",
    "data_norm_cat = pd.read_csv('../data/hmeq_normalised_1.csv',index_col=0)\n",
    "data_norm_del_null = pd.read_csv('../data/hmeq_normalised_2.csv',index_col=0)\n",
    "data_norm_del_debtinc = pd.read_csv('../data/hmeq_normalised_3.csv',index_col=0)\n",
    "data_norm_del_null_cat = pd.read_csv('../data/hmeq_normalised_4.csv',index_col=0)\n",
    "data_norm_del_debtinc_cat = pd.read_csv('../data/hmeq_normalised_5.csv',index_col=0)"
   ]
  },
  {
   "cell_type": "code",
   "execution_count": 3,
   "metadata": {},
   "outputs": [],
   "source": [
    "dfs = [data,data_cat,data_del_null,data_del_debtinc,data_del_null_cat,data_del_debtinc_cat,\n",
    "      data_norm,data_norm_cat,data_norm_del_null,data_norm_del_debtinc,data_norm_del_null_cat,\n",
    "      data_norm_del_debtinc_cat]"
   ]
  },
  {
   "cell_type": "code",
   "execution_count": 43,
   "metadata": {},
   "outputs": [],
   "source": [
    "def how_many_clusters(df,n):\n",
    "    X = df\n",
    "    model = KMeans(n_clusters=n)\n",
    "    labels = model.fit_predict(X)\n",
    "    df_copy = df.copy()\n",
    "    df_copy['LABELS'] = labels\n",
    "    ct = pd.crosstab(df_copy.BAD,[df_copy[\"LABELS\"]]);\n",
    "    #display(ct)\n",
    "    plt.figure();\n",
    "    display(sns.heatmap(ct));\n",
    "    return ct;"
   ]
  },
  {
   "cell_type": "code",
   "execution_count": 44,
   "metadata": {},
   "outputs": [
    {
     "data": {
      "text/plain": [
       "<matplotlib.axes._subplots.AxesSubplot at 0x12f8cf210>"
      ]
     },
     "metadata": {},
     "output_type": "display_data"
    },
    {
     "data": {
      "text/plain": [
       "<matplotlib.axes._subplots.AxesSubplot at 0x12e929a50>"
      ]
     },
     "metadata": {},
     "output_type": "display_data"
    },
    {
     "data": {
      "text/plain": [
       "<matplotlib.axes._subplots.AxesSubplot at 0x1237a9a10>"
      ]
     },
     "metadata": {},
     "output_type": "display_data"
    },
    {
     "data": {
      "text/plain": [
       "<matplotlib.axes._subplots.AxesSubplot at 0x12ef5b890>"
      ]
     },
     "metadata": {},
     "output_type": "display_data"
    },
    {
     "data": {
      "text/plain": [
       "<matplotlib.axes._subplots.AxesSubplot at 0x12e7d9150>"
      ]
     },
     "metadata": {},
     "output_type": "display_data"
    },
    {
     "data": {
      "text/plain": [
       "<matplotlib.axes._subplots.AxesSubplot at 0x12f99b7d0>"
      ]
     },
     "metadata": {},
     "output_type": "display_data"
    },
    {
     "data": {
      "text/plain": [
       "<matplotlib.axes._subplots.AxesSubplot at 0x12f723d10>"
      ]
     },
     "metadata": {},
     "output_type": "display_data"
    },
    {
     "data": {
      "text/plain": [
       "<matplotlib.axes._subplots.AxesSubplot at 0x12388ef90>"
      ]
     },
     "metadata": {},
     "output_type": "display_data"
    },
    {
     "data": {
      "text/plain": [
       "<matplotlib.axes._subplots.AxesSubplot at 0x1310c29d0>"
      ]
     },
     "metadata": {},
     "output_type": "display_data"
    },
    {
     "data": {
      "text/plain": [
       "<matplotlib.axes._subplots.AxesSubplot at 0x1314f2210>"
      ]
     },
     "metadata": {},
     "output_type": "display_data"
    },
    {
     "data": {
      "text/plain": [
       "<matplotlib.axes._subplots.AxesSubplot at 0x12f4dc050>"
      ]
     },
     "metadata": {},
     "output_type": "display_data"
    },
    {
     "data": {
      "text/plain": [
       "<matplotlib.axes._subplots.AxesSubplot at 0x12f948450>"
      ]
     },
     "metadata": {},
     "output_type": "display_data"
    },
    {
     "data": {
      "image/png": "[encoded data removed]",
      "text/plain": [
       "<Figure size 432x288 with 2 Axes>"
      ]
     },
     "metadata": {
      "needs_background": "light"
     },
     "output_type": "display_data"
    },
    {
     "data": {
      "image/png": "[encoded data removed]",
      "text/plain": [
       "<Figure size 432x288 with 2 Axes>"
      ]
     },
     "metadata": {
      "needs_background": "light"
     },
     "output_type": "display_data"
    },
    {
     "data": {
      "image/png": "[encoded data removed]",
      "text/plain": [
       "<Figure size 432x288 with 2 Axes>"
      ]
     },
     "metadata": {
      "needs_background": "light"
     },
     "output_type": "display_data"
    },
    {
     "data": {
      "image/png": "[encoded data removed]",
      "text/plain": [
       "<Figure size 432x288 with 2 Axes>"
      ]
     },
     "metadata": {
      "needs_background": "light"
     },
     "output_type": "display_data"
    },
    {
     "data": {
      "image/png": "[encoded data removed]",
      "text/plain": [
       "<Figure size 432x288 with 2 Axes>"
      ]
     },
     "metadata": {
      "needs_background": "light"
     },
     "output_type": "display_data"
    },
    {
     "data": {
      "image/png": "[encoded data removed]",
      "text/plain": [
       "<Figure size 432x288 with 2 Axes>"
      ]
     },
     "metadata": {
      "needs_background": "light"
     },
     "output_type": "display_data"
    },
    {
     "data": {
      "image/png": "[encoded data removed]",
      "text/plain": [
       "<Figure size 432x288 with 2 Axes>"
      ]
     },
     "metadata": {
      "needs_background": "light"
     },
     "output_type": "display_data"
    },
    {
     "data": {
      "image/png": "[encoded data removed]",
      "text/plain": [
       "<Figure size 432x288 with 2 Axes>"
      ]
     },
     "metadata": {
      "needs_background": "light"
     },
     "output_type": "display_data"
    },
    {
     "data": {
      "image/png": "[encoded data removed]",
      "text/plain": [
       "<Figure size 432x288 with 2 Axes>"
      ]
     },
     "metadata": {
      "needs_background": "light"
     },
     "output_type": "display_data"
    },
    {
     "data": {
      "image/png": "[encoded data removed]",
      "text/plain": [
       "<Figure size 432x288 with 2 Axes>"
      ]
     },
     "metadata": {
      "needs_background": "light"
     },
     "output_type": "display_data"
    },
    {
     "data": {
      "image/png": "[encoded data removed]",
      "text/plain": [
       "<Figure size 432x288 with 2 Axes>"
      ]
     },
     "metadata": {
      "needs_background": "light"
     },
     "output_type": "display_data"
    },
    {
     "data": {
      "image/png": "[encoded data removed]",
      "text/plain": [
       "<Figure size 432x288 with 2 Axes>"
      ]
     },
     "metadata": {
      "needs_background": "light"
     },
     "output_type": "display_data"
    }
   ],
   "source": [
    "for n,df in enumerate(dfs):\n",
    "    how_many_clusters(df,2);\n",
    "# The datasets that work best are the ones that are normalised"
   ]
  },
  {
   "cell_type": "code",
   "execution_count": 46,
   "metadata": {},
   "outputs": [
    {
     "data": {
      "text/plain": [
       "'\\nfor n,df in enumerate(dfs[6:10]):\\n    print(\"I am testing the dataframe number {n}\".format(n=n))\\n    how_many_clusters(df,4)\\n'"
      ]
     },
     "execution_count": 46,
     "metadata": {},
     "output_type": "execute_result"
    }
   ],
   "source": [
    "\"\"\"\n",
    "for n,df in enumerate(dfs[6:10]):\n",
    "    print(\"I am testing the dataframe number {n}\".format(n=n))\n",
    "    how_many_clusters(df,4)\n",
    "\"\"\""
   ]
  },
  {
   "cell_type": "code",
   "execution_count": 7,
   "metadata": {},
   "outputs": [
    {
     "name": "stdout",
     "output_type": "stream",
     "text": [
      "Requirement already satisfied: yellowbrick in /Users/luciasuelves/opt/anaconda3/lib/python3.7/site-packages (1.1)\n",
      "Requirement already satisfied: numpy>=1.13.0 in /Users/luciasuelves/opt/anaconda3/lib/python3.7/site-packages (from yellowbrick) (1.18.1)\n",
      "Requirement already satisfied: scikit-learn>=0.20 in /Users/luciasuelves/opt/anaconda3/lib/python3.7/site-packages (from yellowbrick) (0.20.2)\n",
      "Requirement already satisfied: matplotlib!=3.0.0,>=2.0.2 in /Users/luciasuelves/opt/anaconda3/lib/python3.7/site-packages (from yellowbrick) (3.1.1)\n",
      "Requirement already satisfied: cycler>=0.10.0 in /Users/luciasuelves/opt/anaconda3/lib/python3.7/site-packages (from yellowbrick) (0.10.0)\n",
      "Requirement already satisfied: scipy>=1.0.0 in /Users/luciasuelves/opt/anaconda3/lib/python3.7/site-packages (from yellowbrick) (1.4.1)\n",
      "Requirement already satisfied: kiwisolver>=1.0.1 in /Users/luciasuelves/opt/anaconda3/lib/python3.7/site-packages (from matplotlib!=3.0.0,>=2.0.2->yellowbrick) (1.1.0)\n",
      "Requirement already satisfied: pyparsing!=2.0.4,!=2.1.2,!=2.1.6,>=2.0.1 in /Users/luciasuelves/opt/anaconda3/lib/python3.7/site-packages (from matplotlib!=3.0.0,>=2.0.2->yellowbrick) (2.4.2)\n",
      "Requirement already satisfied: python-dateutil>=2.1 in /Users/luciasuelves/opt/anaconda3/lib/python3.7/site-packages (from matplotlib!=3.0.0,>=2.0.2->yellowbrick) (2.8.0)\n",
      "Requirement already satisfied: six in /Users/luciasuelves/opt/anaconda3/lib/python3.7/site-packages (from cycler>=0.10.0->yellowbrick) (1.14.0)\n",
      "Requirement already satisfied: setuptools in /Users/luciasuelves/opt/anaconda3/lib/python3.7/site-packages (from kiwisolver>=1.0.1->matplotlib!=3.0.0,>=2.0.2->yellowbrick) (46.0.0)\n"
     ]
    }
   ],
   "source": [
    "!pip install yellowbrick"
   ]
  },
  {
   "cell_type": "markdown",
   "metadata": {},
   "source": [
    "I will use 4 clusters because its easier to move one result from cluster to cluster. "
   ]
  },
  {
   "cell_type": "code",
   "execution_count": 57,
   "metadata": {},
   "outputs": [
    {
     "name": "stdout",
     "output_type": "stream",
     "text": [
      "2    1807\n",
      "1    1253\n",
      "3    1164\n",
      "0     973\n",
      "Name: LABELS, dtype: int64\n"
     ]
    },
    {
     "data": {
      "text/html": [
       "<div>\n",
       "<style scoped>\n",
       "    .dataframe tbody tr th:only-of-type {\n",
       "        vertical-align: middle;\n",
       "    }\n",
       "\n",
       "    .dataframe tbody tr th {\n",
       "        vertical-align: top;\n",
       "    }\n",
       "\n",
       "    .dataframe thead th {\n",
       "        text-align: right;\n",
       "    }\n",
       "</style>\n",
       "<table border=\"1\" class=\"dataframe\">\n",
       "  <thead>\n",
       "    <tr style=\"text-align: right;\">\n",
       "      <th>LABELS</th>\n",
       "      <th>0</th>\n",
       "      <th>1</th>\n",
       "      <th>2</th>\n",
       "      <th>3</th>\n",
       "    </tr>\n",
       "    <tr>\n",
       "      <th>BAD</th>\n",
       "      <th></th>\n",
       "      <th></th>\n",
       "      <th></th>\n",
       "      <th></th>\n",
       "    </tr>\n",
       "  </thead>\n",
       "  <tbody>\n",
       "    <tr>\n",
       "      <th>0</th>\n",
       "      <td>0</td>\n",
       "      <td>1253</td>\n",
       "      <td>1807</td>\n",
       "      <td>1164</td>\n",
       "    </tr>\n",
       "    <tr>\n",
       "      <th>1</th>\n",
       "      <td>973</td>\n",
       "      <td>0</td>\n",
       "      <td>0</td>\n",
       "      <td>0</td>\n",
       "    </tr>\n",
       "  </tbody>\n",
       "</table>\n",
       "</div>"
      ],
      "text/plain": [
       "LABELS    0     1     2     3\n",
       "BAD                          \n",
       "0         0  1253  1807  1164\n",
       "1       973     0     0     0"
      ]
     },
     "metadata": {},
     "output_type": "display_data"
    },
    {
     "data": {
      "text/plain": [
       "<matplotlib.axes._subplots.AxesSubplot at 0x1238780d0>"
      ]
     },
     "metadata": {},
     "output_type": "display_data"
    },
    {
     "data": {
      "image/png": "[encoded data removed]",
      "text/plain": [
       "<Figure size 432x288 with 2 Axes>"
      ]
     },
     "metadata": {
      "needs_background": "light"
     },
     "output_type": "display_data"
    }
   ],
   "source": [
    "X = dfs[8]\n",
    "model_cluster = KMeans(n_clusters=4)\n",
    "labels = model_cluster.fit_predict(X)\n",
    "dfs8_copy = dfs[8].copy()\n",
    "dfs8_copy['LABELS'] = labels\n",
    "print(dfs8_copy.LABELS.value_counts())\n",
    "ct = pd.crosstab(dfs8_copy.BAD,[dfs8_copy[\"LABELS\"]])\n",
    "display(ct)\n",
    "plt.figure()\n",
    "display(sns.heatmap(ct))"
   ]
  },
  {
   "cell_type": "code",
   "execution_count": 58,
   "metadata": {},
   "outputs": [
    {
     "data": {
      "text/plain": [
       "0"
      ]
     },
     "execution_count": 58,
     "metadata": {},
     "output_type": "execute_result"
    }
   ],
   "source": [
    "tom = dfs[8].loc[1].copy() \n",
    "model_cluster2.predict(pd.DataFrame(tom).T)[0] # Zero means Tom does not pay"
   ]
  },
  {
   "cell_type": "code",
   "execution_count": 59,
   "metadata": {},
   "outputs": [
    {
     "data": {
      "text/plain": [
       "3"
      ]
     },
     "execution_count": 59,
     "metadata": {},
     "output_type": "execute_result"
    }
   ],
   "source": [
    "tom = dfs[8].loc[1].copy() \n",
    "# Only change Loan, Mortdue, YOJ and clage.\n",
    "def change_cluster():\n",
    "    while model_cluster.predict(pd.DataFrame(tom).T)[0]==0:\n",
    "        tom['LOAN'] *=  1.1\n",
    "        if tom['MORTDUE'] > 1:\n",
    "            tom['MORTDUE'] -= 0.1\n",
    "        tom['YOJ'] += 0.1\n",
    "        tom['CLAGE'] += 0.1\n",
    "    return model_cluster.predict(pd.DataFrame(tom).T)[0]\n",
    "change_cluster()"
   ]
  },
  {
   "cell_type": "markdown",
   "metadata": {},
   "source": [
    "Once the data is normalized, I can not find the solution."
   ]
  },
  {
   "cell_type": "code",
   "execution_count": 60,
   "metadata": {},
   "outputs": [
    {
     "data": {
      "text/plain": [
       "LOAN             -4.110117\n",
       "MORTDUE          -0.020623\n",
       "VALUE            -0.163882\n",
       "YOJ               2.450689\n",
       "DEROG            -0.068153\n",
       "DELINQ            0.357556\n",
       "CLAGE             2.340246\n",
       "NINQ             -0.164769\n",
       "CLNO             -0.196296\n",
       "DEBTINC          -0.422943\n",
       "REASON_DebtCon   -0.385931\n",
       "REASON_HomeImp    0.385931\n",
       "JOB_Mgr          -0.096053\n",
       "JOB_Office       -0.108555\n",
       "JOB_Other         0.289665\n",
       "JOB_ProfExe      -0.133676\n",
       "JOB_Sales        -0.033586\n",
       "JOB_Self         -0.044821\n",
       "BAD               1.000000\n",
       "Name: 1, dtype: float64"
      ]
     },
     "execution_count": 60,
     "metadata": {},
     "output_type": "execute_result"
    }
   ],
   "source": [
    "tom"
   ]
  },
  {
   "cell_type": "markdown",
   "metadata": {},
   "source": [
    "Dataframe number 8, the one I have used, is dataframe number 2 after applying StandardScaler and normalizer. So I am going to calculate the inverse normalizer and standardScaler, to do that, I do the whole process again to dataframe number 2, to follow the steps backwards and verify I am doing it correctly."
   ]
  },
  {
   "cell_type": "code",
   "execution_count": 61,
   "metadata": {},
   "outputs": [
    {
     "name": "stderr",
     "output_type": "stream",
     "text": [
      "/Users/luciasuelves/opt/anaconda3/lib/python3.7/site-packages/sklearn/preprocessing/data.py:625: DataConversionWarning: Data with input dtype int64, float64 were all converted to float64 by StandardScaler.\n",
      "  return self.partial_fit(X, y)\n",
      "/Users/luciasuelves/opt/anaconda3/lib/python3.7/site-packages/sklearn/base.py:462: DataConversionWarning: Data with input dtype int64, float64 were all converted to float64 by StandardScaler.\n",
      "  return self.fit(X, **fit_params).transform(X)\n"
     ]
    },
    {
     "data": {
      "text/html": [
       "<div>\n",
       "<style scoped>\n",
       "    .dataframe tbody tr th:only-of-type {\n",
       "        vertical-align: middle;\n",
       "    }\n",
       "\n",
       "    .dataframe tbody tr th {\n",
       "        vertical-align: top;\n",
       "    }\n",
       "\n",
       "    .dataframe thead th {\n",
       "        text-align: right;\n",
       "    }\n",
       "</style>\n",
       "<table border=\"1\" class=\"dataframe\">\n",
       "  <thead>\n",
       "    <tr style=\"text-align: right;\">\n",
       "      <th></th>\n",
       "      <th>LOAN</th>\n",
       "      <th>MORTDUE</th>\n",
       "      <th>VALUE</th>\n",
       "      <th>YOJ</th>\n",
       "      <th>DEROG</th>\n",
       "      <th>DELINQ</th>\n",
       "      <th>CLAGE</th>\n",
       "      <th>NINQ</th>\n",
       "      <th>CLNO</th>\n",
       "      <th>DEBTINC</th>\n",
       "      <th>REASON_DebtCon</th>\n",
       "      <th>REASON_HomeImp</th>\n",
       "      <th>JOB_Mgr</th>\n",
       "      <th>JOB_Office</th>\n",
       "      <th>JOB_Other</th>\n",
       "      <th>JOB_ProfExe</th>\n",
       "      <th>JOB_Sales</th>\n",
       "      <th>JOB_Self</th>\n",
       "    </tr>\n",
       "  </thead>\n",
       "  <tbody>\n",
       "    <tr>\n",
       "      <th>0</th>\n",
       "      <td>1100</td>\n",
       "      <td>25860.0</td>\n",
       "      <td>39025.0</td>\n",
       "      <td>10.5</td>\n",
       "      <td>0.0</td>\n",
       "      <td>0.0</td>\n",
       "      <td>94.366667</td>\n",
       "      <td>1.0</td>\n",
       "      <td>9.0</td>\n",
       "      <td>0.000000</td>\n",
       "      <td>0</td>\n",
       "      <td>1</td>\n",
       "      <td>0</td>\n",
       "      <td>0</td>\n",
       "      <td>1</td>\n",
       "      <td>0</td>\n",
       "      <td>0</td>\n",
       "      <td>0</td>\n",
       "    </tr>\n",
       "    <tr>\n",
       "      <th>1</th>\n",
       "      <td>1300</td>\n",
       "      <td>70053.0</td>\n",
       "      <td>68400.0</td>\n",
       "      <td>7.0</td>\n",
       "      <td>0.0</td>\n",
       "      <td>2.0</td>\n",
       "      <td>121.833333</td>\n",
       "      <td>0.0</td>\n",
       "      <td>14.0</td>\n",
       "      <td>0.000000</td>\n",
       "      <td>0</td>\n",
       "      <td>1</td>\n",
       "      <td>0</td>\n",
       "      <td>0</td>\n",
       "      <td>1</td>\n",
       "      <td>0</td>\n",
       "      <td>0</td>\n",
       "      <td>0</td>\n",
       "    </tr>\n",
       "    <tr>\n",
       "      <th>2</th>\n",
       "      <td>1500</td>\n",
       "      <td>13500.0</td>\n",
       "      <td>16700.0</td>\n",
       "      <td>4.0</td>\n",
       "      <td>0.0</td>\n",
       "      <td>0.0</td>\n",
       "      <td>149.466667</td>\n",
       "      <td>1.0</td>\n",
       "      <td>10.0</td>\n",
       "      <td>0.000000</td>\n",
       "      <td>0</td>\n",
       "      <td>1</td>\n",
       "      <td>0</td>\n",
       "      <td>0</td>\n",
       "      <td>1</td>\n",
       "      <td>0</td>\n",
       "      <td>0</td>\n",
       "      <td>0</td>\n",
       "    </tr>\n",
       "    <tr>\n",
       "      <th>4</th>\n",
       "      <td>1700</td>\n",
       "      <td>97800.0</td>\n",
       "      <td>112000.0</td>\n",
       "      <td>3.0</td>\n",
       "      <td>0.0</td>\n",
       "      <td>0.0</td>\n",
       "      <td>93.333333</td>\n",
       "      <td>0.0</td>\n",
       "      <td>14.0</td>\n",
       "      <td>0.000000</td>\n",
       "      <td>0</td>\n",
       "      <td>1</td>\n",
       "      <td>0</td>\n",
       "      <td>1</td>\n",
       "      <td>0</td>\n",
       "      <td>0</td>\n",
       "      <td>0</td>\n",
       "      <td>0</td>\n",
       "    </tr>\n",
       "    <tr>\n",
       "      <th>5</th>\n",
       "      <td>1700</td>\n",
       "      <td>30548.0</td>\n",
       "      <td>40320.0</td>\n",
       "      <td>9.0</td>\n",
       "      <td>0.0</td>\n",
       "      <td>0.0</td>\n",
       "      <td>101.466002</td>\n",
       "      <td>1.0</td>\n",
       "      <td>8.0</td>\n",
       "      <td>37.113614</td>\n",
       "      <td>0</td>\n",
       "      <td>1</td>\n",
       "      <td>0</td>\n",
       "      <td>0</td>\n",
       "      <td>1</td>\n",
       "      <td>0</td>\n",
       "      <td>0</td>\n",
       "      <td>0</td>\n",
       "    </tr>\n",
       "  </tbody>\n",
       "</table>\n",
       "</div>"
      ],
      "text/plain": [
       "   LOAN  MORTDUE     VALUE   YOJ  DEROG  DELINQ       CLAGE  NINQ  CLNO  \\\n",
       "0  1100  25860.0   39025.0  10.5    0.0     0.0   94.366667   1.0   9.0   \n",
       "1  1300  70053.0   68400.0   7.0    0.0     2.0  121.833333   0.0  14.0   \n",
       "2  1500  13500.0   16700.0   4.0    0.0     0.0  149.466667   1.0  10.0   \n",
       "4  1700  97800.0  112000.0   3.0    0.0     0.0   93.333333   0.0  14.0   \n",
       "5  1700  30548.0   40320.0   9.0    0.0     0.0  101.466002   1.0   8.0   \n",
       "\n",
       "     DEBTINC  REASON_DebtCon  REASON_HomeImp  JOB_Mgr  JOB_Office  JOB_Other  \\\n",
       "0   0.000000               0               1        0           0          1   \n",
       "1   0.000000               0               1        0           0          1   \n",
       "2   0.000000               0               1        0           0          1   \n",
       "4   0.000000               0               1        0           1          0   \n",
       "5  37.113614               0               1        0           0          1   \n",
       "\n",
       "   JOB_ProfExe  JOB_Sales  JOB_Self  \n",
       "0            0          0         0  \n",
       "1            0          0         0  \n",
       "2            0          0         0  \n",
       "4            0          0         0  \n",
       "5            0          0         0  "
      ]
     },
     "execution_count": 61,
     "metadata": {},
     "output_type": "execute_result"
    }
   ],
   "source": [
    "sc = StandardScaler()\n",
    "nz = Normalizer()\n",
    "X = dfs[2].drop(columns=['BAD'])\n",
    "y = dfs[2]['BAD']\n",
    "info = sc.fit_transform(X)\n",
    "info = pd.DataFrame(info,columns=X.columns)\n",
    "norm = [np.linalg.norm(row) for i,row in info.iterrows()]\n",
    "info = nz.fit_transform(info)\n",
    "\n",
    "info = pd.DataFrame(info,columns=X.columns)\n",
    "\n",
    "info['BAD'] = list(y)\n",
    "info['NORM'] = norm\n",
    "X.head()"
   ]
  },
  {
   "cell_type": "code",
   "execution_count": 63,
   "metadata": {},
   "outputs": [
    {
     "data": {
      "text/html": [
       "<div>\n",
       "<style scoped>\n",
       "    .dataframe tbody tr th:only-of-type {\n",
       "        vertical-align: middle;\n",
       "    }\n",
       "\n",
       "    .dataframe tbody tr th {\n",
       "        vertical-align: top;\n",
       "    }\n",
       "\n",
       "    .dataframe thead th {\n",
       "        text-align: right;\n",
       "    }\n",
       "</style>\n",
       "<table border=\"1\" class=\"dataframe\">\n",
       "  <thead>\n",
       "    <tr style=\"text-align: right;\">\n",
       "      <th></th>\n",
       "      <th>LOAN</th>\n",
       "      <th>MORTDUE</th>\n",
       "      <th>VALUE</th>\n",
       "      <th>YOJ</th>\n",
       "      <th>DEROG</th>\n",
       "      <th>DELINQ</th>\n",
       "      <th>CLAGE</th>\n",
       "      <th>NINQ</th>\n",
       "      <th>CLNO</th>\n",
       "      <th>DEBTINC</th>\n",
       "      <th>REASON_DebtCon</th>\n",
       "      <th>REASON_HomeImp</th>\n",
       "      <th>JOB_Mgr</th>\n",
       "      <th>JOB_Office</th>\n",
       "      <th>JOB_Other</th>\n",
       "      <th>JOB_ProfExe</th>\n",
       "      <th>JOB_Sales</th>\n",
       "      <th>JOB_Self</th>\n",
       "      <th>BAD</th>\n",
       "      <th>NORM</th>\n",
       "    </tr>\n",
       "  </thead>\n",
       "  <tbody>\n",
       "    <tr>\n",
       "      <th>0</th>\n",
       "      <td>-0.369165</td>\n",
       "      <td>-0.251456</td>\n",
       "      <td>-0.283323</td>\n",
       "      <td>0.059355</td>\n",
       "      <td>-0.065572</td>\n",
       "      <td>-0.089876</td>\n",
       "      <td>-0.228682</td>\n",
       "      <td>-0.021377</td>\n",
       "      <td>-0.306029</td>\n",
       "      <td>-0.406928</td>\n",
       "      <td>-0.371317</td>\n",
       "      <td>0.371317</td>\n",
       "      <td>-0.092416</td>\n",
       "      <td>-0.104444</td>\n",
       "      <td>0.278696</td>\n",
       "      <td>-0.128614</td>\n",
       "      <td>-0.032314</td>\n",
       "      <td>-0.043123</td>\n",
       "      <td>1</td>\n",
       "      <td>4.290249</td>\n",
       "    </tr>\n",
       "    <tr>\n",
       "      <th>1</th>\n",
       "      <td>-0.379347</td>\n",
       "      <td>-0.020623</td>\n",
       "      <td>-0.163882</td>\n",
       "      <td>-0.049311</td>\n",
       "      <td>-0.068153</td>\n",
       "      <td>0.357556</td>\n",
       "      <td>-0.159754</td>\n",
       "      <td>-0.164769</td>\n",
       "      <td>-0.196296</td>\n",
       "      <td>-0.422943</td>\n",
       "      <td>-0.385931</td>\n",
       "      <td>0.385931</td>\n",
       "      <td>-0.096053</td>\n",
       "      <td>-0.108555</td>\n",
       "      <td>0.289665</td>\n",
       "      <td>-0.133676</td>\n",
       "      <td>-0.033586</td>\n",
       "      <td>-0.044821</td>\n",
       "      <td>1</td>\n",
       "      <td>4.127791</td>\n",
       "    </tr>\n",
       "    <tr>\n",
       "      <th>2</th>\n",
       "      <td>-0.352151</td>\n",
       "      <td>-0.308653</td>\n",
       "      <td>-0.369733</td>\n",
       "      <td>-0.135653</td>\n",
       "      <td>-0.064000</td>\n",
       "      <td>-0.087721</td>\n",
       "      <td>-0.076395</td>\n",
       "      <td>-0.020864</td>\n",
       "      <td>-0.275821</td>\n",
       "      <td>-0.397172</td>\n",
       "      <td>-0.362415</td>\n",
       "      <td>0.362415</td>\n",
       "      <td>-0.090201</td>\n",
       "      <td>-0.101940</td>\n",
       "      <td>0.272015</td>\n",
       "      <td>-0.125531</td>\n",
       "      <td>-0.031539</td>\n",
       "      <td>-0.042090</td>\n",
       "      <td>1</td>\n",
       "      <td>4.395628</td>\n",
       "    </tr>\n",
       "    <tr>\n",
       "      <th>3</th>\n",
       "      <td>-0.343603</td>\n",
       "      <td>0.120996</td>\n",
       "      <td>0.027764</td>\n",
       "      <td>-0.163313</td>\n",
       "      <td>-0.063179</td>\n",
       "      <td>-0.086596</td>\n",
       "      <td>-0.223054</td>\n",
       "      <td>-0.152744</td>\n",
       "      <td>-0.181970</td>\n",
       "      <td>-0.392076</td>\n",
       "      <td>-0.357765</td>\n",
       "      <td>0.357765</td>\n",
       "      <td>-0.089043</td>\n",
       "      <td>0.501192</td>\n",
       "      <td>-0.187827</td>\n",
       "      <td>-0.123920</td>\n",
       "      <td>-0.031134</td>\n",
       "      <td>-0.041550</td>\n",
       "      <td>0</td>\n",
       "      <td>4.452762</td>\n",
       "    </tr>\n",
       "    <tr>\n",
       "      <th>4</th>\n",
       "      <td>-0.390445</td>\n",
       "      <td>-0.248407</td>\n",
       "      <td>-0.304133</td>\n",
       "      <td>0.014873</td>\n",
       "      <td>-0.071792</td>\n",
       "      <td>-0.098401</td>\n",
       "      <td>-0.229156</td>\n",
       "      <td>-0.023404</td>\n",
       "      <td>-0.360713</td>\n",
       "      <td>0.157617</td>\n",
       "      <td>-0.406538</td>\n",
       "      <td>0.406538</td>\n",
       "      <td>-0.101182</td>\n",
       "      <td>-0.114351</td>\n",
       "      <td>0.305132</td>\n",
       "      <td>-0.140814</td>\n",
       "      <td>-0.035379</td>\n",
       "      <td>-0.047214</td>\n",
       "      <td>1</td>\n",
       "      <td>3.918558</td>\n",
       "    </tr>\n",
       "  </tbody>\n",
       "</table>\n",
       "</div>"
      ],
      "text/plain": [
       "       LOAN   MORTDUE     VALUE       YOJ     DEROG    DELINQ     CLAGE  \\\n",
       "0 -0.369165 -0.251456 -0.283323  0.059355 -0.065572 -0.089876 -0.228682   \n",
       "1 -0.379347 -0.020623 -0.163882 -0.049311 -0.068153  0.357556 -0.159754   \n",
       "2 -0.352151 -0.308653 -0.369733 -0.135653 -0.064000 -0.087721 -0.076395   \n",
       "3 -0.343603  0.120996  0.027764 -0.163313 -0.063179 -0.086596 -0.223054   \n",
       "4 -0.390445 -0.248407 -0.304133  0.014873 -0.071792 -0.098401 -0.229156   \n",
       "\n",
       "       NINQ      CLNO   DEBTINC  REASON_DebtCon  REASON_HomeImp   JOB_Mgr  \\\n",
       "0 -0.021377 -0.306029 -0.406928       -0.371317        0.371317 -0.092416   \n",
       "1 -0.164769 -0.196296 -0.422943       -0.385931        0.385931 -0.096053   \n",
       "2 -0.020864 -0.275821 -0.397172       -0.362415        0.362415 -0.090201   \n",
       "3 -0.152744 -0.181970 -0.392076       -0.357765        0.357765 -0.089043   \n",
       "4 -0.023404 -0.360713  0.157617       -0.406538        0.406538 -0.101182   \n",
       "\n",
       "   JOB_Office  JOB_Other  JOB_ProfExe  JOB_Sales  JOB_Self  BAD      NORM  \n",
       "0   -0.104444   0.278696    -0.128614  -0.032314 -0.043123    1  4.290249  \n",
       "1   -0.108555   0.289665    -0.133676  -0.033586 -0.044821    1  4.127791  \n",
       "2   -0.101940   0.272015    -0.125531  -0.031539 -0.042090    1  4.395628  \n",
       "3    0.501192  -0.187827    -0.123920  -0.031134 -0.041550    0  4.452762  \n",
       "4   -0.114351   0.305132    -0.140814  -0.035379 -0.047214    1  3.918558  "
      ]
     },
     "metadata": {},
     "output_type": "display_data"
    },
    {
     "data": {
      "text/html": [
       "<div>\n",
       "<style scoped>\n",
       "    .dataframe tbody tr th:only-of-type {\n",
       "        vertical-align: middle;\n",
       "    }\n",
       "\n",
       "    .dataframe tbody tr th {\n",
       "        vertical-align: top;\n",
       "    }\n",
       "\n",
       "    .dataframe thead th {\n",
       "        text-align: right;\n",
       "    }\n",
       "</style>\n",
       "<table border=\"1\" class=\"dataframe\">\n",
       "  <thead>\n",
       "    <tr style=\"text-align: right;\">\n",
       "      <th></th>\n",
       "      <th>LOAN</th>\n",
       "      <th>MORTDUE</th>\n",
       "      <th>VALUE</th>\n",
       "      <th>YOJ</th>\n",
       "      <th>DEROG</th>\n",
       "      <th>DELINQ</th>\n",
       "      <th>CLAGE</th>\n",
       "      <th>NINQ</th>\n",
       "      <th>CLNO</th>\n",
       "      <th>DEBTINC</th>\n",
       "      <th>REASON_DebtCon</th>\n",
       "      <th>REASON_HomeImp</th>\n",
       "      <th>JOB_Mgr</th>\n",
       "      <th>JOB_Office</th>\n",
       "      <th>JOB_Other</th>\n",
       "      <th>JOB_ProfExe</th>\n",
       "      <th>JOB_Sales</th>\n",
       "      <th>JOB_Self</th>\n",
       "      <th>BAD</th>\n",
       "      <th>NORM</th>\n",
       "    </tr>\n",
       "  </thead>\n",
       "  <tbody>\n",
       "    <tr>\n",
       "      <th>0</th>\n",
       "      <td>-1.583809</td>\n",
       "      <td>-1.078808</td>\n",
       "      <td>-1.215526</td>\n",
       "      <td>0.254648</td>\n",
       "      <td>-0.281321</td>\n",
       "      <td>-0.385590</td>\n",
       "      <td>-0.981104</td>\n",
       "      <td>-0.091711</td>\n",
       "      <td>-1.312941</td>\n",
       "      <td>-1.745820</td>\n",
       "      <td>-1.593041</td>\n",
       "      <td>1.593041</td>\n",
       "      <td>-0.396489</td>\n",
       "      <td>-0.448091</td>\n",
       "      <td>1.195676</td>\n",
       "      <td>-0.551786</td>\n",
       "      <td>-0.138634</td>\n",
       "      <td>-0.18501</td>\n",
       "      <td>4.290249</td>\n",
       "      <td>18.406234</td>\n",
       "    </tr>\n",
       "    <tr>\n",
       "      <th>1</th>\n",
       "      <td>-1.565867</td>\n",
       "      <td>-0.085126</td>\n",
       "      <td>-0.676470</td>\n",
       "      <td>-0.203545</td>\n",
       "      <td>-0.281321</td>\n",
       "      <td>1.475917</td>\n",
       "      <td>-0.659430</td>\n",
       "      <td>-0.680134</td>\n",
       "      <td>-0.810267</td>\n",
       "      <td>-1.745820</td>\n",
       "      <td>-1.593041</td>\n",
       "      <td>1.593041</td>\n",
       "      <td>-0.396489</td>\n",
       "      <td>-0.448091</td>\n",
       "      <td>1.195676</td>\n",
       "      <td>-0.551786</td>\n",
       "      <td>-0.138634</td>\n",
       "      <td>-0.18501</td>\n",
       "      <td>4.127791</td>\n",
       "      <td>17.038658</td>\n",
       "    </tr>\n",
       "    <tr>\n",
       "      <th>2</th>\n",
       "      <td>-1.547924</td>\n",
       "      <td>-1.356724</td>\n",
       "      <td>-1.625208</td>\n",
       "      <td>-0.596282</td>\n",
       "      <td>-0.281321</td>\n",
       "      <td>-0.385590</td>\n",
       "      <td>-0.335804</td>\n",
       "      <td>-0.091711</td>\n",
       "      <td>-1.212407</td>\n",
       "      <td>-1.745820</td>\n",
       "      <td>-1.593041</td>\n",
       "      <td>1.593041</td>\n",
       "      <td>-0.396489</td>\n",
       "      <td>-0.448091</td>\n",
       "      <td>1.195676</td>\n",
       "      <td>-0.551786</td>\n",
       "      <td>-0.138634</td>\n",
       "      <td>-0.18501</td>\n",
       "      <td>4.395628</td>\n",
       "      <td>19.321543</td>\n",
       "    </tr>\n",
       "    <tr>\n",
       "      <th>3</th>\n",
       "      <td>-1.529982</td>\n",
       "      <td>0.538766</td>\n",
       "      <td>0.123626</td>\n",
       "      <td>-0.727194</td>\n",
       "      <td>-0.281321</td>\n",
       "      <td>-0.385590</td>\n",
       "      <td>-0.993205</td>\n",
       "      <td>-0.680134</td>\n",
       "      <td>-0.810267</td>\n",
       "      <td>-1.745820</td>\n",
       "      <td>-1.593041</td>\n",
       "      <td>1.593041</td>\n",
       "      <td>-0.396489</td>\n",
       "      <td>2.231689</td>\n",
       "      <td>-0.836347</td>\n",
       "      <td>-0.551786</td>\n",
       "      <td>-0.138634</td>\n",
       "      <td>-0.18501</td>\n",
       "      <td>0.000000</td>\n",
       "      <td>19.827086</td>\n",
       "    </tr>\n",
       "    <tr>\n",
       "      <th>4</th>\n",
       "      <td>-1.529982</td>\n",
       "      <td>-0.973398</td>\n",
       "      <td>-1.191762</td>\n",
       "      <td>0.058280</td>\n",
       "      <td>-0.281321</td>\n",
       "      <td>-0.385590</td>\n",
       "      <td>-0.897960</td>\n",
       "      <td>-0.091711</td>\n",
       "      <td>-1.413476</td>\n",
       "      <td>0.617632</td>\n",
       "      <td>-1.593041</td>\n",
       "      <td>1.593041</td>\n",
       "      <td>-0.396489</td>\n",
       "      <td>-0.448091</td>\n",
       "      <td>1.195676</td>\n",
       "      <td>-0.551786</td>\n",
       "      <td>-0.138634</td>\n",
       "      <td>-0.18501</td>\n",
       "      <td>3.918558</td>\n",
       "      <td>15.355097</td>\n",
       "    </tr>\n",
       "  </tbody>\n",
       "</table>\n",
       "</div>"
      ],
      "text/plain": [
       "       LOAN   MORTDUE     VALUE       YOJ     DEROG    DELINQ     CLAGE  \\\n",
       "0 -1.583809 -1.078808 -1.215526  0.254648 -0.281321 -0.385590 -0.981104   \n",
       "1 -1.565867 -0.085126 -0.676470 -0.203545 -0.281321  1.475917 -0.659430   \n",
       "2 -1.547924 -1.356724 -1.625208 -0.596282 -0.281321 -0.385590 -0.335804   \n",
       "3 -1.529982  0.538766  0.123626 -0.727194 -0.281321 -0.385590 -0.993205   \n",
       "4 -1.529982 -0.973398 -1.191762  0.058280 -0.281321 -0.385590 -0.897960   \n",
       "\n",
       "       NINQ      CLNO   DEBTINC  REASON_DebtCon  REASON_HomeImp   JOB_Mgr  \\\n",
       "0 -0.091711 -1.312941 -1.745820       -1.593041        1.593041 -0.396489   \n",
       "1 -0.680134 -0.810267 -1.745820       -1.593041        1.593041 -0.396489   \n",
       "2 -0.091711 -1.212407 -1.745820       -1.593041        1.593041 -0.396489   \n",
       "3 -0.680134 -0.810267 -1.745820       -1.593041        1.593041 -0.396489   \n",
       "4 -0.091711 -1.413476  0.617632       -1.593041        1.593041 -0.396489   \n",
       "\n",
       "   JOB_Office  JOB_Other  JOB_ProfExe  JOB_Sales  JOB_Self       BAD  \\\n",
       "0   -0.448091   1.195676    -0.551786  -0.138634  -0.18501  4.290249   \n",
       "1   -0.448091   1.195676    -0.551786  -0.138634  -0.18501  4.127791   \n",
       "2   -0.448091   1.195676    -0.551786  -0.138634  -0.18501  4.395628   \n",
       "3    2.231689  -0.836347    -0.551786  -0.138634  -0.18501  0.000000   \n",
       "4   -0.448091   1.195676    -0.551786  -0.138634  -0.18501  3.918558   \n",
       "\n",
       "        NORM  \n",
       "0  18.406234  \n",
       "1  17.038658  \n",
       "2  19.321543  \n",
       "3  19.827086  \n",
       "4  15.355097  "
      ]
     },
     "metadata": {},
     "output_type": "display_data"
    },
    {
     "data": {
      "text/html": [
       "<div>\n",
       "<style scoped>\n",
       "    .dataframe tbody tr th:only-of-type {\n",
       "        vertical-align: middle;\n",
       "    }\n",
       "\n",
       "    .dataframe tbody tr th {\n",
       "        vertical-align: top;\n",
       "    }\n",
       "\n",
       "    .dataframe thead th {\n",
       "        text-align: right;\n",
       "    }\n",
       "</style>\n",
       "<table border=\"1\" class=\"dataframe\">\n",
       "  <thead>\n",
       "    <tr style=\"text-align: right;\">\n",
       "      <th></th>\n",
       "      <th>LOAN</th>\n",
       "      <th>MORTDUE</th>\n",
       "      <th>VALUE</th>\n",
       "      <th>YOJ</th>\n",
       "      <th>DEROG</th>\n",
       "      <th>DELINQ</th>\n",
       "      <th>CLAGE</th>\n",
       "      <th>NINQ</th>\n",
       "      <th>CLNO</th>\n",
       "      <th>DEBTINC</th>\n",
       "      <th>REASON_DebtCon</th>\n",
       "      <th>REASON_HomeImp</th>\n",
       "      <th>JOB_Mgr</th>\n",
       "      <th>JOB_Office</th>\n",
       "      <th>JOB_Other</th>\n",
       "      <th>JOB_ProfExe</th>\n",
       "      <th>JOB_Sales</th>\n",
       "      <th>JOB_Self</th>\n",
       "    </tr>\n",
       "  </thead>\n",
       "  <tbody>\n",
       "    <tr>\n",
       "      <th>0</th>\n",
       "      <td>1100.0</td>\n",
       "      <td>25860.0</td>\n",
       "      <td>39025.0</td>\n",
       "      <td>10.5</td>\n",
       "      <td>-5.551115e-17</td>\n",
       "      <td>-1.110223e-16</td>\n",
       "      <td>94.366667</td>\n",
       "      <td>1.000000e+00</td>\n",
       "      <td>9.0</td>\n",
       "      <td>-3.552714e-15</td>\n",
       "      <td>-1.110223e-16</td>\n",
       "      <td>1.0</td>\n",
       "      <td>-2.775558e-17</td>\n",
       "      <td>-2.775558e-17</td>\n",
       "      <td>1.0</td>\n",
       "      <td>-5.551115e-17</td>\n",
       "      <td>-3.469447e-18</td>\n",
       "      <td>-6.938894e-18</td>\n",
       "    </tr>\n",
       "    <tr>\n",
       "      <th>1</th>\n",
       "      <td>1300.0</td>\n",
       "      <td>70053.0</td>\n",
       "      <td>68400.0</td>\n",
       "      <td>7.0</td>\n",
       "      <td>-2.775558e-17</td>\n",
       "      <td>2.000000e+00</td>\n",
       "      <td>121.833333</td>\n",
       "      <td>0.000000e+00</td>\n",
       "      <td>14.0</td>\n",
       "      <td>0.000000e+00</td>\n",
       "      <td>0.000000e+00</td>\n",
       "      <td>1.0</td>\n",
       "      <td>0.000000e+00</td>\n",
       "      <td>0.000000e+00</td>\n",
       "      <td>1.0</td>\n",
       "      <td>0.000000e+00</td>\n",
       "      <td>0.000000e+00</td>\n",
       "      <td>0.000000e+00</td>\n",
       "    </tr>\n",
       "    <tr>\n",
       "      <th>2</th>\n",
       "      <td>1500.0</td>\n",
       "      <td>13500.0</td>\n",
       "      <td>16700.0</td>\n",
       "      <td>4.0</td>\n",
       "      <td>-2.775558e-17</td>\n",
       "      <td>0.000000e+00</td>\n",
       "      <td>149.466667</td>\n",
       "      <td>1.000000e+00</td>\n",
       "      <td>10.0</td>\n",
       "      <td>3.552714e-15</td>\n",
       "      <td>0.000000e+00</td>\n",
       "      <td>1.0</td>\n",
       "      <td>2.775558e-17</td>\n",
       "      <td>0.000000e+00</td>\n",
       "      <td>1.0</td>\n",
       "      <td>0.000000e+00</td>\n",
       "      <td>0.000000e+00</td>\n",
       "      <td>0.000000e+00</td>\n",
       "    </tr>\n",
       "    <tr>\n",
       "      <th>3</th>\n",
       "      <td>1700.0</td>\n",
       "      <td>97800.0</td>\n",
       "      <td>112000.0</td>\n",
       "      <td>3.0</td>\n",
       "      <td>-2.775558e-17</td>\n",
       "      <td>0.000000e+00</td>\n",
       "      <td>93.333333</td>\n",
       "      <td>-2.220446e-16</td>\n",
       "      <td>14.0</td>\n",
       "      <td>0.000000e+00</td>\n",
       "      <td>0.000000e+00</td>\n",
       "      <td>1.0</td>\n",
       "      <td>-2.775558e-17</td>\n",
       "      <td>1.000000e+00</td>\n",
       "      <td>0.0</td>\n",
       "      <td>0.000000e+00</td>\n",
       "      <td>0.000000e+00</td>\n",
       "      <td>0.000000e+00</td>\n",
       "    </tr>\n",
       "    <tr>\n",
       "      <th>4</th>\n",
       "      <td>1700.0</td>\n",
       "      <td>30548.0</td>\n",
       "      <td>40320.0</td>\n",
       "      <td>9.0</td>\n",
       "      <td>-2.775558e-17</td>\n",
       "      <td>0.000000e+00</td>\n",
       "      <td>101.466002</td>\n",
       "      <td>1.000000e+00</td>\n",
       "      <td>8.0</td>\n",
       "      <td>3.711361e+01</td>\n",
       "      <td>0.000000e+00</td>\n",
       "      <td>1.0</td>\n",
       "      <td>0.000000e+00</td>\n",
       "      <td>0.000000e+00</td>\n",
       "      <td>1.0</td>\n",
       "      <td>0.000000e+00</td>\n",
       "      <td>0.000000e+00</td>\n",
       "      <td>0.000000e+00</td>\n",
       "    </tr>\n",
       "  </tbody>\n",
       "</table>\n",
       "</div>"
      ],
      "text/plain": [
       "     LOAN  MORTDUE     VALUE   YOJ         DEROG        DELINQ       CLAGE  \\\n",
       "0  1100.0  25860.0   39025.0  10.5 -5.551115e-17 -1.110223e-16   94.366667   \n",
       "1  1300.0  70053.0   68400.0   7.0 -2.775558e-17  2.000000e+00  121.833333   \n",
       "2  1500.0  13500.0   16700.0   4.0 -2.775558e-17  0.000000e+00  149.466667   \n",
       "3  1700.0  97800.0  112000.0   3.0 -2.775558e-17  0.000000e+00   93.333333   \n",
       "4  1700.0  30548.0   40320.0   9.0 -2.775558e-17  0.000000e+00  101.466002   \n",
       "\n",
       "           NINQ  CLNO       DEBTINC  REASON_DebtCon  REASON_HomeImp  \\\n",
       "0  1.000000e+00   9.0 -3.552714e-15   -1.110223e-16             1.0   \n",
       "1  0.000000e+00  14.0  0.000000e+00    0.000000e+00             1.0   \n",
       "2  1.000000e+00  10.0  3.552714e-15    0.000000e+00             1.0   \n",
       "3 -2.220446e-16  14.0  0.000000e+00    0.000000e+00             1.0   \n",
       "4  1.000000e+00   8.0  3.711361e+01    0.000000e+00             1.0   \n",
       "\n",
       "        JOB_Mgr    JOB_Office  JOB_Other   JOB_ProfExe     JOB_Sales  \\\n",
       "0 -2.775558e-17 -2.775558e-17        1.0 -5.551115e-17 -3.469447e-18   \n",
       "1  0.000000e+00  0.000000e+00        1.0  0.000000e+00  0.000000e+00   \n",
       "2  2.775558e-17  0.000000e+00        1.0  0.000000e+00  0.000000e+00   \n",
       "3 -2.775558e-17  1.000000e+00        0.0  0.000000e+00  0.000000e+00   \n",
       "4  0.000000e+00  0.000000e+00        1.0  0.000000e+00  0.000000e+00   \n",
       "\n",
       "       JOB_Self  \n",
       "0 -6.938894e-18  \n",
       "1  0.000000e+00  \n",
       "2  0.000000e+00  \n",
       "3  0.000000e+00  \n",
       "4  0.000000e+00  "
      ]
     },
     "metadata": {},
     "output_type": "display_data"
    },
    {
     "data": {
      "text/plain": [
       "LOAN              1.300000e+03\n",
       "MORTDUE           7.005300e+04\n",
       "VALUE             6.840000e+04\n",
       "YOJ               7.000000e+00\n",
       "DEROG            -2.775558e-17\n",
       "DELINQ            2.000000e+00\n",
       "CLAGE             1.218333e+02\n",
       "NINQ              0.000000e+00\n",
       "CLNO              1.400000e+01\n",
       "DEBTINC           0.000000e+00\n",
       "REASON_DebtCon    0.000000e+00\n",
       "REASON_HomeImp    1.000000e+00\n",
       "JOB_Mgr           0.000000e+00\n",
       "JOB_Office        0.000000e+00\n",
       "JOB_Other         1.000000e+00\n",
       "JOB_ProfExe       0.000000e+00\n",
       "JOB_Sales         0.000000e+00\n",
       "JOB_Self          0.000000e+00\n",
       "Name: 1, dtype: float64"
      ]
     },
     "metadata": {},
     "output_type": "display_data"
    },
    {
     "data": {
      "text/plain": [
       "BAD                   1.000000\n",
       "LOAN               1300.000000\n",
       "MORTDUE           70053.000000\n",
       "VALUE             68400.000000\n",
       "YOJ                   7.000000\n",
       "DEROG                 0.000000\n",
       "DELINQ                2.000000\n",
       "CLAGE               121.833333\n",
       "NINQ                  0.000000\n",
       "CLNO                 14.000000\n",
       "DEBTINC               0.000000\n",
       "REASON_DebtCon        0.000000\n",
       "REASON_HomeImp        1.000000\n",
       "JOB_Mgr               0.000000\n",
       "JOB_Office            0.000000\n",
       "JOB_Other             1.000000\n",
       "JOB_ProfExe           0.000000\n",
       "JOB_Sales             0.000000\n",
       "JOB_Self              0.000000\n",
       "Name: 1, dtype: float64"
      ]
     },
     "metadata": {},
     "output_type": "display_data"
    }
   ],
   "source": [
    "norm_tom = np.linalg.norm(tom.values) # The new tom that passes the test\n",
    "result = pd.Series(tom.values/norm_tom)\n",
    "X = list(dfs[2].drop(columns=['BAD']).columns)\n",
    "X.append('BAD')\n",
    "result = pd.DataFrame(result).T\n",
    "result.columns = X\n",
    "result['NORM'] = norm_tom\n",
    "wtf = pd.concat([info,result]) # We replace old tom for new tom\n",
    "wtf = wtf.drop(1)\n",
    "wtf = info\n",
    "display(wtf.head())\n",
    "wtf=wtf.apply(lambda x: x*x['NORM'], axis=1) # inverse of the norm\n",
    "display(wtf.head())\n",
    "wtf.drop(columns=['NORM','BAD'],inplace=True)\n",
    "final = pd.DataFrame(sc.inverse_transform(wtf),columns=wtf.columns) # inverse of standard scaler\n",
    "display(final.head())\n",
    "display(final.loc[1]) # NEW tom (passes the test)\n",
    "display(dfs[2].loc[1]) # OLD tom"
   ]
  },
  {
   "cell_type": "markdown",
   "metadata": {},
   "source": [
    "Another approach: I am going to try to equilibrate the data, and I am going to get the clusters more significant for the people who pay."
   ]
  },
  {
   "cell_type": "code",
   "execution_count": 64,
   "metadata": {},
   "outputs": [
    {
     "data": {
      "text/plain": [
       "(1189, 19)"
      ]
     },
     "execution_count": 64,
     "metadata": {},
     "output_type": "execute_result"
    }
   ],
   "source": [
    "data[data['BAD']==1].shape"
   ]
  },
  {
   "cell_type": "code",
   "execution_count": 65,
   "metadata": {},
   "outputs": [
    {
     "name": "stdout",
     "output_type": "stream",
     "text": [
      "(738, 19) (698, 19)\n"
     ]
    },
    {
     "name": "stderr",
     "output_type": "stream",
     "text": [
      "/Users/luciasuelves/opt/anaconda3/lib/python3.7/site-packages/ipykernel_launcher.py:7: FutureWarning: \n",
      "Passing list-likes to .loc or [] with any missing label will raise\n",
      "KeyError in the future, you can use .reindex() as an alternative.\n",
      "\n",
      "See the documentation here:\n",
      "https://pandas.pydata.org/pandas-docs/stable/indexing.html#deprecate-loc-reindex-listlike\n",
      "  import sys\n",
      "/Users/luciasuelves/opt/anaconda3/lib/python3.7/site-packages/ipykernel_launcher.py:8: FutureWarning: \n",
      "Passing list-likes to .loc or [] with any missing label will raise\n",
      "KeyError in the future, you can use .reindex() as an alternative.\n",
      "\n",
      "See the documentation here:\n",
      "https://pandas.pydata.org/pandas-docs/stable/indexing.html#deprecate-loc-reindex-listlike\n",
      "  \n"
     ]
    }
   ],
   "source": [
    "df = dfs[2]\n",
    "X = df.drop(columns=['BAD'])\n",
    "model = KMeans(n_clusters=2)\n",
    "labels = model.fit_predict(X)\n",
    "positive_index = [i for i,num in enumerate(model.labels_) if num == 1 and dfs[1].loc[i]['BAD']==0]\n",
    "negative_index = [i for i,num in enumerate(model.labels_) if num == 0 and dfs[1].loc[i]['BAD']==1]\n",
    "df_pos = dfs[2].loc[positive_index].dropna()\n",
    "df_neg = dfs[2].loc[negative_index].dropna()\n",
    "print(df_pos.shape,df_neg.shape)"
   ]
  },
  {
   "cell_type": "code",
   "execution_count": 66,
   "metadata": {},
   "outputs": [],
   "source": [
    "data_reduced = pd.concat([df_pos,df_neg])"
   ]
  },
  {
   "cell_type": "code",
   "execution_count": 67,
   "metadata": {},
   "outputs": [
    {
     "data": {
      "text/plain": [
       "<matplotlib.axes._subplots.AxesSubplot at 0x1301a4950>"
      ]
     },
     "metadata": {},
     "output_type": "display_data"
    },
    {
     "data": {
      "text/plain": [
       "<matplotlib.axes._subplots.AxesSubplot at 0x121e7bf50>"
      ]
     },
     "metadata": {},
     "output_type": "display_data"
    },
    {
     "data": {
      "text/plain": [
       "<matplotlib.axes._subplots.AxesSubplot at 0x12e7589d0>"
      ]
     },
     "metadata": {},
     "output_type": "display_data"
    },
    {
     "data": {
      "text/plain": [
       "<matplotlib.axes._subplots.AxesSubplot at 0x12ecaa5d0>"
      ]
     },
     "metadata": {},
     "output_type": "display_data"
    },
    {
     "data": {
      "image/png": "[encoded data removed]",
      "text/plain": [
       "<Figure size 432x288 with 2 Axes>"
      ]
     },
     "metadata": {
      "needs_background": "light"
     },
     "output_type": "display_data"
    },
    {
     "data": {
      "image/png": "[encoded data removed]",
      "text/plain": [
       "<Figure size 432x288 with 2 Axes>"
      ]
     },
     "metadata": {
      "needs_background": "light"
     },
     "output_type": "display_data"
    },
    {
     "data": {
      "image/png": "[encoded data removed]",
      "text/plain": [
       "<Figure size 432x288 with 2 Axes>"
      ]
     },
     "metadata": {
      "needs_background": "light"
     },
     "output_type": "display_data"
    },
    {
     "data": {
      "image/png": "[encoded data removed]",
      "text/plain": [
       "<Figure size 432x288 with 2 Axes>"
      ]
     },
     "metadata": {
      "needs_background": "light"
     },
     "output_type": "display_data"
    }
   ],
   "source": [
    "for i in range(2,10,2):\n",
    "    how_many_clusters(data_reduced,i) # Does not work."
   ]
  },
  {
   "cell_type": "markdown",
   "metadata": {},
   "source": [
    "It didn't work!"
   ]
  },
  {
   "cell_type": "code",
   "execution_count": null,
   "metadata": {},
   "outputs": [],
   "source": []
  }
 ],
 "metadata": {
  "kernelspec": {
   "display_name": "Python 3",
   "language": "python",
   "name": "python3"
  },
  "language_info": {
   "codemirror_mode": {
    "name": "ipython",
    "version": 3
   },
   "file_extension": ".py",
   "mimetype": "text/x-python",
   "name": "python",
   "nbconvert_exporter": "python",
   "pygments_lexer": "ipython3",
   "version": "3.7.4"
  }
 },
 "nbformat": 4,
 "nbformat_minor": 2
}
